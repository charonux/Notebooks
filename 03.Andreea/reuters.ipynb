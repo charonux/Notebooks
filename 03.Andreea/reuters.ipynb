{
 "cells": [
  {
   "cell_type": "code",
   "execution_count": 63,
   "metadata": {},
   "outputs": [],
   "source": [
    "import numpy as np\n",
    "import tensorflow as tf\n",
    "from tensorflow.keras.datasets import reuters\n",
    "from tensorflow.keras.utils import to_categorical\n",
    "from tensorflow.keras import models\n",
    "from tensorflow.keras import layers\n",
    "import matplotlib.pyplot as plt"
   ]
  },
  {
   "cell_type": "code",
   "execution_count": 64,
   "metadata": {},
   "outputs": [],
   "source": [
    "(train_data, train_labels), (test_data, test_labels) = reuters.load_data(num_words=10000)"
   ]
  },
  {
   "cell_type": "code",
   "execution_count": 65,
   "metadata": {},
   "outputs": [
    {
     "name": "stdout",
     "output_type": "stream",
     "text": [
      "Length of train_data: 8982\n",
      "Length of test_data: 2246\n"
     ]
    }
   ],
   "source": [
    "print(\"Length of train_data:\" ,len(train_data))\n",
    "print(\"Length of test_data:\", len(test_data))\n"
   ]
  },
  {
   "cell_type": "code",
   "execution_count": 66,
   "metadata": {},
   "outputs": [
    {
     "name": "stdout",
     "output_type": "stream",
     "text": [
      "[1, 2, 2, 8, 43, 10, 447, 5, 25, 207, 270, 5, 3095, 111, 16, 369, 186, 90, 67, 7, 89, 5, 19, 102, 6, 19, 124, 15, 90, 67, 84, 22, 482, 26, 7, 48, 4, 49, 8, 864, 39, 209, 154, 6, 151, 6, 83, 11, 15, 22, 155, 11, 15, 7, 48, 9, 4579, 1005, 504, 6, 258, 6, 272, 11, 15, 22, 134, 44, 11, 15, 16, 8, 197, 1245, 90, 67, 52, 29, 209, 30, 32, 132, 6, 109, 15, 17, 12]\n"
     ]
    }
   ],
   "source": [
    "print(train_data[0])"
   ]
  },
  {
   "cell_type": "code",
   "execution_count": 67,
   "metadata": {},
   "outputs": [
    {
     "name": "stdout",
     "output_type": "stream",
     "text": [
      "? ? ? said as a result of its december acquisition of space co it expects earnings per share in 1987 of 1 15 to 1 30 dlrs per share up from 70 cts in 1986 the company said pretax net should rise to nine to 10 mln dlrs from six mln dlrs in 1986 and rental operation revenues to 19 to 22 mln dlrs from 12 5 mln dlrs it said cash flow per share this year should be 2 50 to three dlrs reuter 3\n"
     ]
    }
   ],
   "source": [
    "word_index = reuters.get_word_index()\n",
    "reverse_word_index = dict([(value, key) for (key, value) in word_index.items()])\n",
    "decoded_newswire = ' '.join([reverse_word_index.get(i - 3, '?') for i in\n",
    "train_data[0]])\n",
    "print(decoded_newswire)"
   ]
  },
  {
   "cell_type": "code",
   "execution_count": 68,
   "metadata": {},
   "outputs": [],
   "source": [
    "def vectorize_sequences(sequences, dimension=10000):\n",
    "    results = np.zeros((len(sequences), dimension))\n",
    "       for i, sequence in enumerate(sequences):\n",
    "        results[i, sequence] = 1.\n",
    "    return results\n",
    "x_train = vectorize_sequences(train_data)\n",
    "x_test = vectorize_sequences(test_data)"
   ]
  },
  {
   "cell_type": "code",
   "execution_count": 69,
   "metadata": {},
   "outputs": [],
   "source": [
    "def to_one_hot(labels, dimension=46):\n",
    "    results = np.zeros((len(labels), dimension))\n",
    "    for i, label in enumerate(labels):\n",
    "        results[i, label] = 1.\n",
    "    return results\n",
    "one_hot_train_labels = to_one_hot(train_labels)\n",
    "one_hot_test_labels = to_one_hot(test_labels)"
   ]
  },
  {
   "cell_type": "code",
   "execution_count": 70,
   "metadata": {},
   "outputs": [],
   "source": [
    "one_hot_train_labels = to_categorical(train_labels)\n",
    "one_hot_test_labels = to_categorical(test_labels)\n"
   ]
  },
  {
   "cell_type": "code",
   "execution_count": 71,
   "metadata": {},
   "outputs": [],
   "source": [
    "model = models.Sequential()\n",
    "model.add(layers.Dense(64, activation='relu', input_shape=(10000,)))\n",
    "model.add(layers.Dense(64, activation='relu'))\n",
    "model.add(layers.Dense(46, activation='softmax')) "
   ]
  },
  {
   "cell_type": "code",
   "execution_count": 72,
   "metadata": {},
   "outputs": [],
   "source": [
    "model.compile(optimizer='rmsprop', loss='categorical_crossentropy',\n",
    "metrics=['accuracy'])"
   ]
  },
  {
   "cell_type": "code",
   "execution_count": 73,
   "metadata": {},
   "outputs": [],
   "source": [
    "x_val = x_train[:1000]\n",
    "partial_x_train = x_train[1000:]\n",
    "y_val = one_hot_train_labels[:1000]\n",
    "partial_y_train = one_hot_train_labels[1000:]"
   ]
  },
  {
   "cell_type": "code",
   "execution_count": 74,
   "metadata": {},
   "outputs": [
    {
     "name": "stdout",
     "output_type": "stream",
     "text": [
      "Train on 7982 samples, validate on 1000 samples\n",
      "Epoch 1/20\n",
      "7982/7982 [==============================] - 1s 113us/step - loss: 2.6903 - acc: 0.4717 - val_loss: 1.8050 - val_acc: 0.6210\n",
      "Epoch 2/20\n",
      "7982/7982 [==============================] - 1s 83us/step - loss: 1.4788 - acc: 0.6973 - val_loss: 1.3164 - val_acc: 0.7040\n",
      "Epoch 3/20\n",
      "7982/7982 [==============================] - 1s 70us/step - loss: 1.0636 - acc: 0.7825 - val_loss: 1.1288 - val_acc: 0.7730\n",
      "Epoch 4/20\n",
      "7982/7982 [==============================] - 1s 70us/step - loss: 0.8304 - acc: 0.8236 - val_loss: 1.0243 - val_acc: 0.7830\n",
      "Epoch 5/20\n",
      "7982/7982 [==============================] - 1s 70us/step - loss: 0.6600 - acc: 0.8613 - val_loss: 0.9707 - val_acc: 0.7850\n",
      "Epoch 6/20\n",
      "7982/7982 [==============================] - 1s 68us/step - loss: 0.5349 - acc: 0.8896 - val_loss: 0.9199 - val_acc: 0.8080\n",
      "Epoch 7/20\n",
      "7982/7982 [==============================] - 1s 70us/step - loss: 0.4314 - acc: 0.9099 - val_loss: 0.9046 - val_acc: 0.8160\n",
      "Epoch 8/20\n",
      "7982/7982 [==============================] - 1s 69us/step - loss: 0.3515 - acc: 0.9282 - val_loss: 0.8856 - val_acc: 0.8110\n",
      "Epoch 9/20\n",
      "7982/7982 [==============================] - 1s 69us/step - loss: 0.2928 - acc: 0.9352 - val_loss: 0.8769 - val_acc: 0.8190\n",
      "Epoch 10/20\n",
      "7982/7982 [==============================] - 1s 71us/step - loss: 0.2437 - acc: 0.9454 - val_loss: 0.9254 - val_acc: 0.7870\n",
      "Epoch 11/20\n",
      "7982/7982 [==============================] - 1s 71us/step - loss: 0.2105 - acc: 0.9495 - val_loss: 0.9124 - val_acc: 0.8190\n",
      "Epoch 12/20\n",
      "7982/7982 [==============================] - 1s 69us/step - loss: 0.1843 - acc: 0.9520 - val_loss: 0.9030 - val_acc: 0.8130\n",
      "Epoch 13/20\n",
      "7982/7982 [==============================] - 1s 63us/step - loss: 0.1687 - acc: 0.9546 - val_loss: 0.9221 - val_acc: 0.8110\n",
      "Epoch 14/20\n",
      "7982/7982 [==============================] - 1s 69us/step - loss: 0.1508 - acc: 0.9562 - val_loss: 0.9665 - val_acc: 0.8040\n",
      "Epoch 15/20\n",
      "7982/7982 [==============================] - 1s 75us/step - loss: 0.1428 - acc: 0.9555 - val_loss: 0.9693 - val_acc: 0.8120\n",
      "Epoch 16/20\n",
      "7982/7982 [==============================] - 0s 62us/step - loss: 0.1311 - acc: 0.9567 - val_loss: 0.9949 - val_acc: 0.8170\n",
      "Epoch 17/20\n",
      "7982/7982 [==============================] - 0s 61us/step - loss: 0.1272 - acc: 0.9568 - val_loss: 1.0232 - val_acc: 0.7880\n",
      "Epoch 18/20\n",
      "7982/7982 [==============================] - 1s 68us/step - loss: 0.1229 - acc: 0.9557 - val_loss: 1.0087 - val_acc: 0.8050\n",
      "Epoch 19/20\n",
      "7982/7982 [==============================] - 1s 72us/step - loss: 0.1195 - acc: 0.9568 - val_loss: 1.0521 - val_acc: 0.7940\n",
      "Epoch 20/20\n",
      "7982/7982 [==============================] - 1s 63us/step - loss: 0.1120 - acc: 0.9580 - val_loss: 1.0192 - val_acc: 0.8070\n",
      "{'val_loss': [1.8050279321670533, 1.316364013671875, 1.1287952833175658, 1.0242703781127929, 0.9707316961288452, 0.9198503017425537, 0.9046105508804321, 0.8855825815200805, 0.8769069681167603, 0.9253870968818665, 0.9124386873245239, 0.9029984874725342, 0.9221048550605774, 0.9664825496673584, 0.9692751245498658, 0.994883544921875, 1.0232275733947753, 1.008686840057373, 1.0520819969177246, 1.019183533668518], 'val_acc': [0.6210000143051148, 0.7039999957084656, 0.7730000085830688, 0.7830000014305115, 0.784999988079071, 0.8079999980926513, 0.8159999933242797, 0.8110000066757203, 0.8189999933242798, 0.7870000123977661, 0.819000009059906, 0.813000009059906, 0.8110000052452088, 0.8039999918937684, 0.8120000028610229, 0.8170000114440918, 0.7880000014305115, 0.8049999918937684, 0.7939999966621399, 0.8069999895095825], 'loss': [2.6902956877755986, 1.4787534654842407, 1.0635785200159162, 0.8304381693583388, 0.6600034435988369, 0.5348873764194363, 0.4314347974819756, 0.3515418784133297, 0.2928342475490264, 0.2437102821007076, 0.2105102892792395, 0.18425284927574145, 0.16874797979383294, 0.1508151458726136, 0.14275541719757684, 0.13114850246586676, 0.12720455134446626, 0.1229166583111638, 0.11953628261460902, 0.11196430842176293], 'acc': [0.47168629496834147, 0.6973189668409271, 0.7825106497965072, 0.8236031066621643, 0.8613129539228089, 0.8896266608362478, 0.9099223242311423, 0.9282134794346583, 0.9352292653403763, 0.9453770978741705, 0.9495114011293783, 0.9520170381271699, 0.9546479575020482, 0.9561513403070747, 0.9555249301988779, 0.9566524673511856, 0.9567777509081188, 0.9556502123818126, 0.9567777488471213, 0.958030568869363]}\n"
     ]
    }
   ],
   "source": [
    "history = model.fit(partial_x_train,partial_y_train, epochs=20, batch_size=512, validation_data=(x_val, y_val))\n",
    "print(history.history)"
   ]
  },
  {
   "cell_type": "code",
   "execution_count": 75,
   "metadata": {},
   "outputs": [
    {
     "data": {
      "image/png": "[encoded data removed]",
      "text/plain": [
       "<Figure size 432x288 with 1 Axes>"
      ]
     },
     "metadata": {
      "needs_background": "light"
     },
     "output_type": "display_data"
    }
   ],
   "source": [
    "loss = history.history['loss']\n",
    "val_loss = history.history['val_loss']\n",
    "epochs = range(1, len(loss) + 1)\n",
    "plt.plot(epochs, loss, 'bo', label='Training loss')\n",
    "plt.plot(epochs, val_loss, 'b', label='Validation loss')\n",
    "plt.title('Training and validation loss')\n",
    "plt.xlabel('Epochs')\n",
    "plt.ylabel('Loss')\n",
    "plt.legend()\n",
    "plt.show()"
   ]
  },
  {
   "cell_type": "code",
   "execution_count": 76,
   "metadata": {},
   "outputs": [
    {
     "data": {
      "image/png": "[encoded data removed]",
      "text/plain": [
       "<Figure size 432x288 with 1 Axes>"
      ]
     },
     "metadata": {
      "needs_background": "light"
     },
     "output_type": "display_data"
    }
   ],
   "source": [
    "plt.clf()\n",
    "acc = history.history['acc']\n",
    "val_acc = history.history['val_acc']\n",
    "plt.plot(epochs, acc, 'bo', label='Training acc')\n",
    "plt.plot(epochs, val_acc, 'b', label='Validation acc')\n",
    "plt.title('Training and validation accuracy')\n",
    "plt.xlabel('Epochs')\n",
    "plt.ylabel('Loss')\n",
    "plt.legend()\n",
    "plt.show()"
   ]
  },
  {
   "cell_type": "code",
   "execution_count": null,
   "metadata": {},
   "outputs": [],
   "source": []
  }
 ],
 "metadata": {
  "kernelspec": {
   "display_name": "Python 3",
   "language": "python",
   "name": "python3"
  },
  "language_info": {
   "codemirror_mode": {
    "name": "ipython",
    "version": 3
   },
   "file_extension": ".py",
   "mimetype": "text/x-python",
   "name": "python",
   "nbconvert_exporter": "python",
   "pygments_lexer": "ipython3",
   "version": "3.6.7"
  }
 },
 "nbformat": 4,
 "nbformat_minor": 2
}
