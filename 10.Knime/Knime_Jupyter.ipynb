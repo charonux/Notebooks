{
 "cells": [
  {
   "cell_type": "code",
   "execution_count": 2,
   "metadata": {},
   "outputs": [
    {
     "name": "stdout",
     "output_type": "stream",
     "text": [
      "Collecting knime\n",
      "  Downloading https://files.pythonhosted.org/packages/3d/8a/509d9c1d9159475d343f9eace42bc78cd135a9af7bf1472cb9f35e28d41a/knime-0.9.5-py3-none-any.whl\n",
      "Installing collected packages: knime\n",
      "Successfully installed knime-0.9.5\n"
     ]
    }
   ],
   "source": [
    "!pip3 install knime"
   ]
  },
  {
   "cell_type": "code",
   "execution_count": null,
   "metadata": {},
   "outputs": [],
   "source": []
  }
 ],
 "metadata": {
  "kernelspec": {
   "display_name": "Python 3",
   "language": "python",
   "name": "python3"
  },
  "language_info": {
   "codemirror_mode": {
    "name": "ipython",
    "version": 3
   },
   "file_extension": ".py",
   "mimetype": "text/x-python",
   "name": "python",
   "nbconvert_exporter": "python",
   "pygments_lexer": "ipython3",
   "version": "3.6.7"
  }
 },
 "nbformat": 4,
 "nbformat_minor": 2
}
