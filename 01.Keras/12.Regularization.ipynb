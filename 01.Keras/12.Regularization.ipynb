{
 "cells": [
  {
   "cell_type": "code",
   "execution_count": 1,
   "metadata": {},
   "outputs": [],
   "source": [
    "import numpy as np\n",
    "import matplotlib.pyplot as plt\n",
    "import tensorflow as tf\n",
    "from tensorflow.keras.datasets import imdb\n",
    "from tensorflow.keras import models\n",
    "from tensorflow.keras import layers\n",
    "from tensorflow.keras import optimizers\n",
    "from tensorflow.keras import losses\n",
    "from tensorflow.keras import metrics\n",
    "from tensorflow.keras import regularizers"
   ]
  },
  {
   "cell_type": "code",
   "execution_count": 2,
   "metadata": {},
   "outputs": [
    {
     "name": "stdout",
     "output_type": "stream",
     "text": [
      "1.12.0\n"
     ]
    }
   ],
   "source": [
    "print(tf.__version__)"
   ]
  },
  {
   "cell_type": "markdown",
   "metadata": {},
   "source": [
    "# Load the IMDB dataset"
   ]
  },
  {
   "cell_type": "code",
   "execution_count": 3,
   "metadata": {},
   "outputs": [],
   "source": [
    "(train_data, train_labels), (test_data, test_labels) = imdb.load_data(num_words=10000)"
   ]
  },
  {
   "cell_type": "markdown",
   "metadata": {},
   "source": [
    "# Preparing the data"
   ]
  },
  {
   "cell_type": "code",
   "execution_count": 4,
   "metadata": {},
   "outputs": [],
   "source": [
    "# Encoding the integer sequences into a binary matrix\n",
    "def vectorize_sequences(sequences, dimension=10000):\n",
    "    results = np.zeros((len(sequences), dimension))\n",
    "    for i, sequence in enumerate(sequences):\n",
    "        results[i, sequence] = 1.\n",
    "    return results\n",
    "# Vectorized training and test data\n",
    "x_train = vectorize_sequences(train_data)\n",
    "x_test = vectorize_sequences(test_data)\n",
    "# Vectorize labels\n",
    "y_train = np.asarray(train_labels).astype('float32')\n",
    "y_test = np.asarray(test_labels).astype('float32')"
   ]
  },
  {
   "cell_type": "markdown",
   "metadata": {},
   "source": [
    "# 1. Reducing the network's size"
   ]
  },
  {
   "cell_type": "code",
   "execution_count": 5,
   "metadata": {},
   "outputs": [],
   "source": [
    "original_model = models.Sequential()\n",
    "original_model.add(layers.Dense(16, activation=tf.nn.relu, input_shape=(10000,)))\n",
    "original_model.add(layers.Dense(16, activation=tf.nn.relu))\n",
    "original_model.add(layers.Dense(1, activation=tf.nn.sigmoid))\n",
    "\n",
    "original_model.compile(optimizer=optimizers.RMSprop(lr=0.001),\n",
    "              loss=losses.binary_crossentropy,\n",
    "              metrics=[metrics.binary_accuracy])"
   ]
  },
  {
   "cell_type": "code",
   "execution_count": 6,
   "metadata": {},
   "outputs": [],
   "source": [
    "smaller_model = models.Sequential()\n",
    "smaller_model.add(layers.Dense(4, activation=tf.nn.relu, input_shape=(10000,)))\n",
    "smaller_model.add(layers.Dense(4, activation=tf.nn.relu))\n",
    "smaller_model.add(layers.Dense(1, activation=tf.nn.sigmoid))\n",
    "\n",
    "smaller_model.compile(optimizer=optimizers.RMSprop(lr=0.001),\n",
    "              loss=losses.binary_crossentropy,\n",
    "              metrics=[metrics.binary_accuracy])"
   ]
  },
  {
   "cell_type": "code",
   "execution_count": 7,
   "metadata": {
    "scrolled": true
   },
   "outputs": [
    {
     "name": "stdout",
     "output_type": "stream",
     "text": [
      "Train on 25000 samples, validate on 25000 samples\n",
      "Epoch 1/20\n",
      "25000/25000 [==============================] - 3s 117us/step - loss: 0.4987 - binary_accuracy: 0.8169 - val_loss: 0.3770 - val_binary_accuracy: 0.8709\n",
      "Epoch 2/20\n",
      "25000/25000 [==============================] - 2s 99us/step - loss: 0.2850 - binary_accuracy: 0.9062 - val_loss: 0.3063 - val_binary_accuracy: 0.8775\n",
      "Epoch 3/20\n",
      "25000/25000 [==============================] - 2s 99us/step - loss: 0.2142 - binary_accuracy: 0.9241 - val_loss: 0.2810 - val_binary_accuracy: 0.8885\n",
      "Epoch 4/20\n",
      "25000/25000 [==============================] - 2s 99us/step - loss: 0.1776 - binary_accuracy: 0.9387 - val_loss: 0.3004 - val_binary_accuracy: 0.8788\n",
      "Epoch 5/20\n",
      "25000/25000 [==============================] - 2s 100us/step - loss: 0.1538 - binary_accuracy: 0.9466 - val_loss: 0.3129 - val_binary_accuracy: 0.8776\n",
      "Epoch 6/20\n",
      "25000/25000 [==============================] - 2s 100us/step - loss: 0.1372 - binary_accuracy: 0.9523 - val_loss: 0.3439 - val_binary_accuracy: 0.8714\n",
      "Epoch 7/20\n",
      "25000/25000 [==============================] - 2s 100us/step - loss: 0.1205 - binary_accuracy: 0.9589 - val_loss: 0.3372 - val_binary_accuracy: 0.8766\n",
      "Epoch 8/20\n",
      "25000/25000 [==============================] - 2s 100us/step - loss: 0.1092 - binary_accuracy: 0.9629 - val_loss: 0.3677 - val_binary_accuracy: 0.8704\n",
      "Epoch 9/20\n",
      "25000/25000 [==============================] - 3s 100us/step - loss: 0.0987 - binary_accuracy: 0.9665 - val_loss: 0.4159 - val_binary_accuracy: 0.8605\n",
      "Epoch 10/20\n",
      "25000/25000 [==============================] - 2s 100us/step - loss: 0.0891 - binary_accuracy: 0.9708 - val_loss: 0.4069 - val_binary_accuracy: 0.8673\n",
      "Epoch 11/20\n",
      "25000/25000 [==============================] - 2s 100us/step - loss: 0.0810 - binary_accuracy: 0.9730 - val_loss: 0.4447 - val_binary_accuracy: 0.8618\n",
      "Epoch 12/20\n",
      "25000/25000 [==============================] - 3s 100us/step - loss: 0.0723 - binary_accuracy: 0.9771 - val_loss: 0.4637 - val_binary_accuracy: 0.8633\n",
      "Epoch 13/20\n",
      "25000/25000 [==============================] - 3s 100us/step - loss: 0.0669 - binary_accuracy: 0.9791 - val_loss: 0.4920 - val_binary_accuracy: 0.8609\n",
      "Epoch 14/20\n",
      "25000/25000 [==============================] - 3s 100us/step - loss: 0.0584 - binary_accuracy: 0.9818 - val_loss: 0.5388 - val_binary_accuracy: 0.8548\n",
      "Epoch 15/20\n",
      "25000/25000 [==============================] - 3s 100us/step - loss: 0.0528 - binary_accuracy: 0.9836 - val_loss: 0.5502 - val_binary_accuracy: 0.8571\n",
      "Epoch 16/20\n",
      "25000/25000 [==============================] - 3s 100us/step - loss: 0.0480 - binary_accuracy: 0.9855 - val_loss: 0.5876 - val_binary_accuracy: 0.8546\n",
      "Epoch 17/20\n",
      "25000/25000 [==============================] - 3s 100us/step - loss: 0.0421 - binary_accuracy: 0.9877 - val_loss: 0.6265 - val_binary_accuracy: 0.8521\n",
      "Epoch 18/20\n",
      "25000/25000 [==============================] - 3s 100us/step - loss: 0.0380 - binary_accuracy: 0.9888 - val_loss: 0.6521 - val_binary_accuracy: 0.8520\n",
      "Epoch 19/20\n",
      "25000/25000 [==============================] - 3s 100us/step - loss: 0.0346 - binary_accuracy: 0.9896 - val_loss: 0.6855 - val_binary_accuracy: 0.8502\n",
      "Epoch 20/20\n",
      "25000/25000 [==============================] - 3s 100us/step - loss: 0.0285 - binary_accuracy: 0.9925 - val_loss: 0.7192 - val_binary_accuracy: 0.8499\n"
     ]
    }
   ],
   "source": [
    "original_hist = original_model.fit(x_train,\n",
    "                    y_train,\n",
    "                    epochs=20,\n",
    "                    batch_size=512,\n",
    "                    validation_data=(x_test, y_test))"
   ]
  },
  {
   "cell_type": "code",
   "execution_count": 8,
   "metadata": {
    "scrolled": true
   },
   "outputs": [
    {
     "name": "stdout",
     "output_type": "stream",
     "text": [
      "Train on 25000 samples, validate on 25000 samples\n",
      "Epoch 1/20\n",
      "25000/25000 [==============================] - 3s 103us/step - loss: 0.5902 - binary_accuracy: 0.7530 - val_loss: 0.5176 - val_binary_accuracy: 0.8202\n",
      "Epoch 2/20\n",
      "25000/25000 [==============================] - 2s 95us/step - loss: 0.4379 - binary_accuracy: 0.8758 - val_loss: 0.4073 - val_binary_accuracy: 0.8692\n",
      "Epoch 3/20\n",
      "25000/25000 [==============================] - 2s 95us/step - loss: 0.3348 - binary_accuracy: 0.9026 - val_loss: 0.3397 - val_binary_accuracy: 0.8836\n",
      "Epoch 4/20\n",
      "25000/25000 [==============================] - 2s 95us/step - loss: 0.2705 - binary_accuracy: 0.9156 - val_loss: 0.3039 - val_binary_accuracy: 0.8884\n",
      "Epoch 5/20\n",
      "25000/25000 [==============================] - 2s 95us/step - loss: 0.2294 - binary_accuracy: 0.9249 - val_loss: 0.2868 - val_binary_accuracy: 0.8885\n",
      "Epoch 6/20\n",
      "25000/25000 [==============================] - 2s 96us/step - loss: 0.2007 - binary_accuracy: 0.9333 - val_loss: 0.2804 - val_binary_accuracy: 0.8900\n",
      "Epoch 7/20\n",
      "25000/25000 [==============================] - 2s 96us/step - loss: 0.1799 - binary_accuracy: 0.9396 - val_loss: 0.2797 - val_binary_accuracy: 0.8884\n",
      "Epoch 8/20\n",
      "25000/25000 [==============================] - 2s 96us/step - loss: 0.1648 - binary_accuracy: 0.9434 - val_loss: 0.2890 - val_binary_accuracy: 0.8846\n",
      "Epoch 9/20\n",
      "25000/25000 [==============================] - 2s 96us/step - loss: 0.1510 - binary_accuracy: 0.9494 - val_loss: 0.2913 - val_binary_accuracy: 0.8855\n",
      "Epoch 10/20\n",
      "25000/25000 [==============================] - 2s 96us/step - loss: 0.1400 - binary_accuracy: 0.9533 - val_loss: 0.3044 - val_binary_accuracy: 0.8819\n",
      "Epoch 11/20\n",
      "25000/25000 [==============================] - 2s 96us/step - loss: 0.1291 - binary_accuracy: 0.9582 - val_loss: 0.3099 - val_binary_accuracy: 0.8813\n",
      "Epoch 12/20\n",
      "25000/25000 [==============================] - 2s 96us/step - loss: 0.1200 - binary_accuracy: 0.9613 - val_loss: 0.3248 - val_binary_accuracy: 0.8784\n",
      "Epoch 13/20\n",
      "25000/25000 [==============================] - 2s 96us/step - loss: 0.1117 - binary_accuracy: 0.9644 - val_loss: 0.3357 - val_binary_accuracy: 0.8775\n",
      "Epoch 14/20\n",
      "25000/25000 [==============================] - 2s 96us/step - loss: 0.1046 - binary_accuracy: 0.9674 - val_loss: 0.3492 - val_binary_accuracy: 0.8754\n",
      "Epoch 15/20\n",
      "25000/25000 [==============================] - 2s 96us/step - loss: 0.0979 - binary_accuracy: 0.9699 - val_loss: 0.3634 - val_binary_accuracy: 0.8734\n",
      "Epoch 16/20\n",
      "25000/25000 [==============================] - 2s 96us/step - loss: 0.0912 - binary_accuracy: 0.9726 - val_loss: 0.3828 - val_binary_accuracy: 0.8694\n",
      "Epoch 17/20\n",
      "25000/25000 [==============================] - 2s 96us/step - loss: 0.0858 - binary_accuracy: 0.9745 - val_loss: 0.3980 - val_binary_accuracy: 0.8690\n",
      "Epoch 18/20\n",
      "25000/25000 [==============================] - 2s 96us/step - loss: 0.0804 - binary_accuracy: 0.9758 - val_loss: 0.4251 - val_binary_accuracy: 0.8635\n",
      "Epoch 19/20\n",
      "25000/25000 [==============================] - 2s 96us/step - loss: 0.0756 - binary_accuracy: 0.9780 - val_loss: 0.4302 - val_binary_accuracy: 0.8661\n",
      "Epoch 20/20\n",
      "25000/25000 [==============================] - 2s 96us/step - loss: 0.0709 - binary_accuracy: 0.9793 - val_loss: 0.4501 - val_binary_accuracy: 0.8639\n"
     ]
    }
   ],
   "source": [
    "smaller_model_hist = smaller_model.fit(x_train, y_train,\n",
    "                    epochs=20,\n",
    "                    batch_size=512,\n",
    "                    validation_data=(x_test, y_test))"
   ]
  },
  {
   "cell_type": "code",
   "execution_count": 9,
   "metadata": {},
   "outputs": [
    {
     "name": "stdout",
     "output_type": "stream",
     "text": [
      "dict_keys(['val_loss', 'val_binary_accuracy', 'loss', 'binary_accuracy'])\n"
     ]
    }
   ],
   "source": [
    "history_dict = original_hist.history\n",
    "print(history_dict.keys())"
   ]
  },
  {
   "cell_type": "code",
   "execution_count": 10,
   "metadata": {},
   "outputs": [],
   "source": [
    "epochs = range(1,21)\n",
    "original_val_loss = original_hist.history['val_loss']\n",
    "smaller_model_val_loss = smaller_model_hist.history['val_loss']"
   ]
  },
  {
   "cell_type": "code",
   "execution_count": 11,
   "metadata": {},
   "outputs": [
    {
     "data": {
      "image/png": "[encoded data removed]",
      "text/plain": [
       "<Figure size 432x288 with 1 Axes>"
      ]
     },
     "metadata": {
      "needs_background": "light"
     },
     "output_type": "display_data"
    }
   ],
   "source": [
    "# b+ is for \"blue cross\"\n",
    "plt.plot(epochs, original_val_loss, 'b+', label='Original model')\n",
    "# \"bo\" is for \"blue dot\"\n",
    "plt.plot(epochs, smaller_model_val_loss, 'bo', label='Smaller model')\n",
    "plt.xlabel('Epochs')\n",
    "plt.ylabel('Validation loss')\n",
    "plt.legend()\n",
    "\n",
    "plt.show()"
   ]
  },
  {
   "cell_type": "markdown",
   "metadata": {},
   "source": [
    "- The smaller network starts overfitting later than the reference network (after six epochs rather than four), and its performance degrades more slowly once it starts overfitting."
   ]
  },
  {
   "cell_type": "code",
   "execution_count": 12,
   "metadata": {},
   "outputs": [],
   "source": [
    "bigger_model = models.Sequential()\n",
    "bigger_model.add(layers.Dense(512, activation=tf.nn.relu, input_shape=(10000,)))\n",
    "bigger_model.add(layers.Dense(512, activation=tf.nn.relu))\n",
    "bigger_model.add(layers.Dense(1, activation=tf.nn.sigmoid))\n",
    "\n",
    "bigger_model.compile(optimizer=optimizers.RMSprop(lr=0.001),\n",
    "              loss=losses.binary_crossentropy,\n",
    "              metrics=[metrics.binary_accuracy])"
   ]
  },
  {
   "cell_type": "code",
   "execution_count": 13,
   "metadata": {
    "scrolled": true
   },
   "outputs": [
    {
     "name": "stdout",
     "output_type": "stream",
     "text": [
      "Train on 25000 samples, validate on 25000 samples\n",
      "Epoch 1/20\n",
      "25000/25000 [==============================] - 13s 520us/step - loss: 0.4606 - binary_accuracy: 0.7984 - val_loss: 0.2952 - val_binary_accuracy: 0.8786\n",
      "Epoch 2/20\n",
      "25000/25000 [==============================] - 12s 480us/step - loss: 0.2192 - binary_accuracy: 0.9123 - val_loss: 0.2790 - val_binary_accuracy: 0.8858\n",
      "Epoch 3/20\n",
      "25000/25000 [==============================] - 12s 480us/step - loss: 0.1176 - binary_accuracy: 0.9550 - val_loss: 0.4455 - val_binary_accuracy: 0.8386\n",
      "Epoch 4/20\n",
      "25000/25000 [==============================] - 12s 482us/step - loss: 0.0739 - binary_accuracy: 0.9771 - val_loss: 0.6934 - val_binary_accuracy: 0.7805\n",
      "Epoch 5/20\n",
      "25000/25000 [==============================] - 12s 484us/step - loss: 0.0422 - binary_accuracy: 0.9883 - val_loss: 0.4747 - val_binary_accuracy: 0.8810\n",
      "Epoch 6/20\n",
      "25000/25000 [==============================] - 12s 485us/step - loss: 0.0019 - binary_accuracy: 0.9998 - val_loss: 0.7004 - val_binary_accuracy: 0.8726\n",
      "Epoch 7/20\n",
      "25000/25000 [==============================] - 13s 508us/step - loss: 0.0794 - binary_accuracy: 0.9884 - val_loss: 0.6235 - val_binary_accuracy: 0.8817\n",
      "Epoch 8/20\n",
      "25000/25000 [==============================] - 13s 506us/step - loss: 2.8547e-04 - binary_accuracy: 1.0000 - val_loss: 0.7586 - val_binary_accuracy: 0.8812\n",
      "Epoch 9/20\n",
      "25000/25000 [==============================] - 13s 511us/step - loss: 0.0494 - binary_accuracy: 0.9944 - val_loss: 3.5197 - val_binary_accuracy: 0.6617\n",
      "Epoch 10/20\n",
      "25000/25000 [==============================] - 13s 507us/step - loss: 0.0297 - binary_accuracy: 0.9959 - val_loss: 0.7700 - val_binary_accuracy: 0.8769\n",
      "Epoch 11/20\n",
      "25000/25000 [==============================] - 12s 492us/step - loss: 1.1506e-04 - binary_accuracy: 1.0000 - val_loss: 0.8170 - val_binary_accuracy: 0.8780\n",
      "Epoch 12/20\n",
      "25000/25000 [==============================] - 12s 486us/step - loss: 9.6588e-06 - binary_accuracy: 1.0000 - val_loss: 0.9005 - val_binary_accuracy: 0.8790\n",
      "Epoch 13/20\n",
      "25000/25000 [==============================] - 12s 498us/step - loss: 0.1112 - binary_accuracy: 0.9902 - val_loss: 0.9103 - val_binary_accuracy: 0.8740\n",
      "Epoch 14/20\n",
      "25000/25000 [==============================] - 13s 506us/step - loss: 0.0031 - binary_accuracy: 0.9990 - val_loss: 2.8903 - val_binary_accuracy: 0.6989\n",
      "Epoch 15/20\n",
      "25000/25000 [==============================] - 12s 494us/step - loss: 0.0293 - binary_accuracy: 0.9949 - val_loss: 0.7762 - val_binary_accuracy: 0.8764\n",
      "Epoch 16/20\n",
      "25000/25000 [==============================] - 13s 507us/step - loss: 1.3096e-05 - binary_accuracy: 1.0000 - val_loss: 0.8544 - val_binary_accuracy: 0.8764\n",
      "Epoch 17/20\n",
      "25000/25000 [==============================] - 12s 487us/step - loss: 2.7274e-06 - binary_accuracy: 1.0000 - val_loss: 0.9339 - val_binary_accuracy: 0.8766\n",
      "Epoch 18/20\n",
      "25000/25000 [==============================] - 12s 489us/step - loss: 5.3510e-07 - binary_accuracy: 1.0000 - val_loss: 1.0047 - val_binary_accuracy: 0.8776\n",
      "Epoch 19/20\n",
      "25000/25000 [==============================] - 12s 492us/step - loss: 1.9331e-07 - binary_accuracy: 1.0000 - val_loss: 1.0621 - val_binary_accuracy: 0.8772\n",
      "Epoch 20/20\n",
      "25000/25000 [==============================] - 12s 486us/step - loss: 1.3015e-07 - binary_accuracy: 1.0000 - val_loss: 1.0903 - val_binary_accuracy: 0.8770\n"
     ]
    }
   ],
   "source": [
    "bigger_model_hist = bigger_model.fit(x_train, y_train,\n",
    "                                     epochs=20,\n",
    "                                     batch_size=512,\n",
    "                                     validation_data=(x_test, y_test))"
   ]
  },
  {
   "cell_type": "code",
   "execution_count": 14,
   "metadata": {},
   "outputs": [
    {
     "data": {
      "image/png": "[encoded data removed]",
      "text/plain": [
       "<Figure size 432x288 with 1 Axes>"
      ]
     },
     "metadata": {
      "needs_background": "light"
     },
     "output_type": "display_data"
    }
   ],
   "source": [
    "bigger_model_val_loss = bigger_model_hist.history['val_loss']\n",
    "\n",
    "plt.plot(epochs, original_val_loss, 'b+', label='Original model')\n",
    "plt.plot(epochs, bigger_model_val_loss, 'bo', label='Bigger model')\n",
    "plt.xlabel('Epochs')\n",
    "plt.ylabel('Validation loss')\n",
    "plt.legend()\n",
    "\n",
    "plt.show()"
   ]
  },
  {
   "cell_type": "markdown",
   "metadata": {},
   "source": [
    "- The bigger network starts overfitting almost immediately, after just one epoch, and it overfits much more severely. Its validation loss is also noisier."
   ]
  },
  {
   "cell_type": "code",
   "execution_count": 15,
   "metadata": {},
   "outputs": [
    {
     "data": {
      "image/png": "[encoded data removed]",
      "text/plain": [
       "<Figure size 432x288 with 1 Axes>"
      ]
     },
     "metadata": {
      "needs_background": "light"
     },
     "output_type": "display_data"
    }
   ],
   "source": [
    "original_train_loss = original_hist.history['loss']\n",
    "bigger_model_train_loss = bigger_model_hist.history['loss']\n",
    "\n",
    "plt.plot(epochs, original_train_loss, 'b+', label='Original model')\n",
    "plt.plot(epochs, bigger_model_train_loss, 'bo', label='Bigger model')\n",
    "plt.xlabel('Epochs')\n",
    "plt.ylabel('Training loss')\n",
    "plt.legend()\n",
    "\n",
    "plt.show()"
   ]
  },
  {
   "cell_type": "markdown",
   "metadata": {},
   "source": [
    "- The bigger network gets its training loss near zero very quickly. The more capacity the network has, the more quickly it can model the training data (resulting in a low training loss), but the more susceptible it is to overfitting (resulting in a large difference between the training and validation loss). "
   ]
  },
  {
   "cell_type": "markdown",
   "metadata": {},
   "source": [
    "# 2. Adding weight regularization"
   ]
  },
  {
   "cell_type": "code",
   "execution_count": 16,
   "metadata": {},
   "outputs": [],
   "source": [
    "l2_model = models.Sequential()\n",
    "l2_model.add(layers.Dense(16, kernel_regularizer=regularizers.l2(0.001),\n",
    "                          activation=tf.nn.relu,\n",
    "                          input_shape=(10000,)))\n",
    "l2_model.add(layers.Dense(16, kernel_regularizer=regularizers.l2(0.001),\n",
    "                          activation=tf.nn.relu))\n",
    "l2_model.add(layers.Dense(1, activation=tf.nn.sigmoid))"
   ]
  },
  {
   "cell_type": "code",
   "execution_count": 17,
   "metadata": {},
   "outputs": [],
   "source": [
    "l2_model.compile(optimizer=optimizers.RMSprop(lr=0.001),\n",
    "              loss=losses.binary_crossentropy,\n",
    "              metrics=[metrics.binary_accuracy])"
   ]
  },
  {
   "cell_type": "code",
   "execution_count": 18,
   "metadata": {
    "scrolled": true
   },
   "outputs": [
    {
     "name": "stdout",
     "output_type": "stream",
     "text": [
      "Train on 25000 samples, validate on 25000 samples\n",
      "Epoch 1/20\n",
      "25000/25000 [==============================] - 3s 106us/step - loss: 0.5087 - binary_accuracy: 0.8180 - val_loss: 0.4012 - val_binary_accuracy: 0.8714\n",
      "Epoch 2/20\n",
      "25000/25000 [==============================] - 3s 101us/step - loss: 0.3276 - binary_accuracy: 0.9040 - val_loss: 0.3378 - val_binary_accuracy: 0.8900\n",
      "Epoch 3/20\n",
      "25000/25000 [==============================] - 2s 92us/step - loss: 0.2774 - binary_accuracy: 0.9190 - val_loss: 0.3295 - val_binary_accuracy: 0.8890\n",
      "Epoch 4/20\n",
      "25000/25000 [==============================] - 3s 101us/step - loss: 0.2544 - binary_accuracy: 0.9262 - val_loss: 0.3323 - val_binary_accuracy: 0.8876\n",
      "Epoch 5/20\n",
      "25000/25000 [==============================] - 2s 92us/step - loss: 0.2399 - binary_accuracy: 0.9336 - val_loss: 0.3496 - val_binary_accuracy: 0.8786\n",
      "Epoch 6/20\n",
      "25000/25000 [==============================] - 2s 93us/step - loss: 0.2313 - binary_accuracy: 0.9368 - val_loss: 0.3436 - val_binary_accuracy: 0.8836\n",
      "Epoch 7/20\n",
      "25000/25000 [==============================] - 2s 96us/step - loss: 0.2226 - binary_accuracy: 0.9386 - val_loss: 0.3619 - val_binary_accuracy: 0.8764\n",
      "Epoch 8/20\n",
      "25000/25000 [==============================] - 2s 91us/step - loss: 0.2162 - binary_accuracy: 0.9427 - val_loss: 0.3811 - val_binary_accuracy: 0.8708\n",
      "Epoch 9/20\n",
      "25000/25000 [==============================] - 2s 100us/step - loss: 0.2139 - binary_accuracy: 0.9432 - val_loss: 0.3649 - val_binary_accuracy: 0.8774\n",
      "Epoch 10/20\n",
      "25000/25000 [==============================] - 2s 97us/step - loss: 0.2098 - binary_accuracy: 0.9440 - val_loss: 0.3824 - val_binary_accuracy: 0.8737\n",
      "Epoch 11/20\n",
      "25000/25000 [==============================] - 2s 94us/step - loss: 0.2025 - binary_accuracy: 0.9477 - val_loss: 0.4435 - val_binary_accuracy: 0.8535\n",
      "Epoch 12/20\n",
      "25000/25000 [==============================] - 2s 94us/step - loss: 0.2032 - binary_accuracy: 0.9480 - val_loss: 0.3826 - val_binary_accuracy: 0.8737\n",
      "Epoch 13/20\n",
      "25000/25000 [==============================] - 3s 102us/step - loss: 0.1994 - binary_accuracy: 0.9496 - val_loss: 0.4031 - val_binary_accuracy: 0.8683\n",
      "Epoch 14/20\n",
      "25000/25000 [==============================] - 2s 93us/step - loss: 0.1961 - binary_accuracy: 0.9496 - val_loss: 0.3867 - val_binary_accuracy: 0.8736\n",
      "Epoch 15/20\n",
      "25000/25000 [==============================] - 2s 92us/step - loss: 0.1934 - binary_accuracy: 0.9498 - val_loss: 0.4076 - val_binary_accuracy: 0.8691\n",
      "Epoch 16/20\n",
      "25000/25000 [==============================] - 3s 101us/step - loss: 0.1883 - binary_accuracy: 0.9522 - val_loss: 0.4157 - val_binary_accuracy: 0.8665\n",
      "Epoch 17/20\n",
      "25000/25000 [==============================] - 2s 96us/step - loss: 0.1857 - binary_accuracy: 0.9521 - val_loss: 0.4010 - val_binary_accuracy: 0.8706\n",
      "Epoch 18/20\n",
      "25000/25000 [==============================] - 2s 98us/step - loss: 0.1841 - binary_accuracy: 0.9552 - val_loss: 0.4229 - val_binary_accuracy: 0.8643\n",
      "Epoch 19/20\n",
      "25000/25000 [==============================] - 2s 93us/step - loss: 0.1806 - binary_accuracy: 0.9551 - val_loss: 0.4382 - val_binary_accuracy: 0.8613\n",
      "Epoch 20/20\n",
      "25000/25000 [==============================] - 2s 91us/step - loss: 0.1781 - binary_accuracy: 0.9569 - val_loss: 0.4750 - val_binary_accuracy: 0.8522\n"
     ]
    }
   ],
   "source": [
    "l2_model_hist = l2_model.fit(x_train, y_train,\n",
    "                             epochs=20,\n",
    "                             batch_size=512,\n",
    "                             validation_data=(x_test, y_test))"
   ]
  },
  {
   "cell_type": "code",
   "execution_count": 19,
   "metadata": {},
   "outputs": [
    {
     "data": {
      "image/png": "[encoded data removed]",
      "text/plain": [
       "<Figure size 432x288 with 1 Axes>"
      ]
     },
     "metadata": {
      "needs_background": "light"
     },
     "output_type": "display_data"
    }
   ],
   "source": [
    "l2_model_val_loss = l2_model_hist.history['val_loss']\n",
    "\n",
    "plt.plot(epochs, original_val_loss, 'b+', label='Original model')\n",
    "plt.plot(epochs, l2_model_val_loss, 'bo', label='L2-regularized model')\n",
    "plt.xlabel('Epochs')\n",
    "plt.ylabel('Validation loss')\n",
    "plt.legend()\n",
    "\n",
    "plt.show()"
   ]
  },
  {
   "cell_type": "markdown",
   "metadata": {},
   "source": [
    "- The model with L2 regularization (dots) has become much more resistant to overfitting than the reference model (crosses), even though both models have the same number of parameters."
   ]
  },
  {
   "cell_type": "code",
   "execution_count": 20,
   "metadata": {
    "scrolled": true
   },
   "outputs": [
    {
     "name": "stdout",
     "output_type": "stream",
     "text": [
      "Train on 25000 samples, validate on 25000 samples\n",
      "Epoch 1/20\n",
      "25000/25000 [==============================] - 3s 113us/step - loss: 0.9171 - binary_accuracy: 0.7748 - val_loss: 0.6719 - val_binary_accuracy: 0.8252\n",
      "Epoch 2/20\n",
      "25000/25000 [==============================] - 2s 86us/step - loss: 0.6306 - binary_accuracy: 0.8418 - val_loss: 0.6202 - val_binary_accuracy: 0.8393\n",
      "Epoch 3/20\n",
      "25000/25000 [==============================] - 2s 92us/step - loss: 0.5898 - binary_accuracy: 0.8530 - val_loss: 0.6085 - val_binary_accuracy: 0.8411\n",
      "Epoch 4/20\n",
      "25000/25000 [==============================] - 2s 93us/step - loss: 0.5704 - binary_accuracy: 0.8601 - val_loss: 0.5722 - val_binary_accuracy: 0.8597\n",
      "Epoch 5/20\n",
      "25000/25000 [==============================] - 2s 86us/step - loss: 0.5664 - binary_accuracy: 0.8574 - val_loss: 0.6076 - val_binary_accuracy: 0.8317\n",
      "Epoch 6/20\n",
      "25000/25000 [==============================] - 2s 85us/step - loss: 0.5554 - binary_accuracy: 0.8616 - val_loss: 0.5627 - val_binary_accuracy: 0.8559\n",
      "Epoch 7/20\n",
      "25000/25000 [==============================] - 2s 90us/step - loss: 0.5491 - binary_accuracy: 0.8638 - val_loss: 0.5898 - val_binary_accuracy: 0.8414\n",
      "Epoch 8/20\n",
      "25000/25000 [==============================] - 2s 88us/step - loss: 0.5410 - binary_accuracy: 0.8654 - val_loss: 0.5390 - val_binary_accuracy: 0.8642\n",
      "Epoch 9/20\n",
      "25000/25000 [==============================] - 2s 83us/step - loss: 0.5399 - binary_accuracy: 0.8666 - val_loss: 0.5345 - val_binary_accuracy: 0.8676\n",
      "Epoch 10/20\n",
      "25000/25000 [==============================] - 2s 100us/step - loss: 0.5269 - binary_accuracy: 0.8704 - val_loss: 0.5660 - val_binary_accuracy: 0.8491\n",
      "Epoch 11/20\n",
      "25000/25000 [==============================] - 2s 99us/step - loss: 0.5269 - binary_accuracy: 0.8694 - val_loss: 0.5439 - val_binary_accuracy: 0.8588\n",
      "Epoch 12/20\n",
      "25000/25000 [==============================] - 2s 89us/step - loss: 0.5183 - binary_accuracy: 0.8740 - val_loss: 0.5569 - val_binary_accuracy: 0.8540\n",
      "Epoch 13/20\n",
      "25000/25000 [==============================] - 2s 92us/step - loss: 0.5145 - binary_accuracy: 0.8738 - val_loss: 0.5877 - val_binary_accuracy: 0.8366\n",
      "Epoch 14/20\n",
      "25000/25000 [==============================] - 2s 85us/step - loss: 0.5085 - binary_accuracy: 0.8758 - val_loss: 0.5205 - val_binary_accuracy: 0.8693\n",
      "Epoch 15/20\n",
      "25000/25000 [==============================] - 2s 88us/step - loss: 0.5040 - binary_accuracy: 0.8780 - val_loss: 0.5195 - val_binary_accuracy: 0.8686\n",
      "Epoch 16/20\n",
      "25000/25000 [==============================] - 2s 89us/step - loss: 0.4996 - binary_accuracy: 0.8788 - val_loss: 0.5534 - val_binary_accuracy: 0.8513\n",
      "Epoch 17/20\n",
      "25000/25000 [==============================] - 2s 86us/step - loss: 0.4996 - binary_accuracy: 0.8790 - val_loss: 0.5458 - val_binary_accuracy: 0.8548\n",
      "Epoch 18/20\n",
      "25000/25000 [==============================] - 2s 86us/step - loss: 0.4923 - binary_accuracy: 0.8830 - val_loss: 0.5253 - val_binary_accuracy: 0.8648\n",
      "Epoch 19/20\n",
      "25000/25000 [==============================] - 2s 95us/step - loss: 0.4922 - binary_accuracy: 0.8798 - val_loss: 0.5367 - val_binary_accuracy: 0.8565\n",
      "Epoch 20/20\n",
      "25000/25000 [==============================] - 2s 92us/step - loss: 0.4797 - binary_accuracy: 0.8887 - val_loss: 0.5642 - val_binary_accuracy: 0.8432\n"
     ]
    }
   ],
   "source": [
    "l1_model = models.Sequential()\n",
    "l1_model.add(layers.Dense(16, kernel_regularizer=regularizers.l1(0.001),\n",
    "                          activation=tf.nn.relu,\n",
    "                          input_shape=(10000,)))\n",
    "l1_model.add(layers.Dense(16, kernel_regularizer=regularizers.l1(0.001),\n",
    "                          activation=tf.nn.relu))\n",
    "l1_model.add(layers.Dense(1, activation=tf.nn.sigmoid))\n",
    "\n",
    "l1_model.compile(optimizer=optimizers.RMSprop(lr=0.001),\n",
    "              loss=losses.binary_crossentropy,\n",
    "              metrics=[metrics.binary_accuracy])\n",
    "\n",
    "l1_model_hist = l1_model.fit(x_train, y_train,\n",
    "                             epochs=20,\n",
    "                             batch_size=512,\n",
    "                             validation_data=(x_test, y_test))"
   ]
  },
  {
   "cell_type": "code",
   "execution_count": 21,
   "metadata": {},
   "outputs": [
    {
     "data": {
      "image/png": "[encoded data removed]",
      "text/plain": [
       "<Figure size 432x288 with 1 Axes>"
      ]
     },
     "metadata": {
      "needs_background": "light"
     },
     "output_type": "display_data"
    }
   ],
   "source": [
    "l1_model_val_loss = l1_model_hist.history['val_loss']\n",
    "\n",
    "plt.plot(epochs, original_val_loss, 'b+', label='Original model')\n",
    "plt.plot(epochs, l1_model_val_loss, 'bo', label='L1-regularized model')\n",
    "plt.xlabel('Epochs')\n",
    "plt.ylabel('Validation loss')\n",
    "plt.legend()\n",
    "\n",
    "plt.show()"
   ]
  },
  {
   "cell_type": "code",
   "execution_count": 22,
   "metadata": {
    "scrolled": true
   },
   "outputs": [
    {
     "name": "stdout",
     "output_type": "stream",
     "text": [
      "Train on 25000 samples, validate on 25000 samples\n",
      "Epoch 1/20\n",
      "25000/25000 [==============================] - 2s 90us/step - loss: 0.9822 - binary_accuracy: 0.6631 - val_loss: 0.7616 - val_binary_accuracy: 0.6812\n",
      "Epoch 2/20\n",
      "25000/25000 [==============================] - 2s 69us/step - loss: 0.7019 - binary_accuracy: 0.8142 - val_loss: 0.6867 - val_binary_accuracy: 0.7794\n",
      "Epoch 3/20\n",
      "25000/25000 [==============================] - 2s 70us/step - loss: 0.6218 - binary_accuracy: 0.8472 - val_loss: 0.6112 - val_binary_accuracy: 0.8417\n",
      "Epoch 4/20\n",
      "25000/25000 [==============================] - 2s 72us/step - loss: 0.5853 - binary_accuracy: 0.8585 - val_loss: 0.5726 - val_binary_accuracy: 0.8613\n",
      "Epoch 5/20\n",
      "25000/25000 [==============================] - 2s 71us/step - loss: 0.5673 - binary_accuracy: 0.8621 - val_loss: 0.5697 - val_binary_accuracy: 0.8586\n",
      "Epoch 6/20\n",
      "25000/25000 [==============================] - 2s 72us/step - loss: 0.5516 - binary_accuracy: 0.8662 - val_loss: 0.5513 - val_binary_accuracy: 0.8646\n",
      "Epoch 7/20\n",
      "25000/25000 [==============================] - 2s 69us/step - loss: 0.5384 - binary_accuracy: 0.8679 - val_loss: 0.5643 - val_binary_accuracy: 0.8552\n",
      "Epoch 8/20\n",
      "25000/25000 [==============================] - 2s 75us/step - loss: 0.5338 - binary_accuracy: 0.8708 - val_loss: 0.5345 - val_binary_accuracy: 0.8714\n",
      "Epoch 9/20\n",
      "25000/25000 [==============================] - 2s 71us/step - loss: 0.5256 - binary_accuracy: 0.8729 - val_loss: 0.5458 - val_binary_accuracy: 0.8630\n",
      "Epoch 10/20\n",
      "25000/25000 [==============================] - 2s 72us/step - loss: 0.5189 - binary_accuracy: 0.8771 - val_loss: 0.5206 - val_binary_accuracy: 0.8728\n",
      "Epoch 11/20\n",
      "25000/25000 [==============================] - 2s 69us/step - loss: 0.5142 - binary_accuracy: 0.8766 - val_loss: 0.5442 - val_binary_accuracy: 0.8601\n",
      "Epoch 12/20\n",
      "25000/25000 [==============================] - 2s 73us/step - loss: 0.5100 - binary_accuracy: 0.8796 - val_loss: 0.5155 - val_binary_accuracy: 0.8747\n",
      "Epoch 13/20\n",
      "25000/25000 [==============================] - 2s 69us/step - loss: 0.5069 - binary_accuracy: 0.8791 - val_loss: 0.5293 - val_binary_accuracy: 0.8661\n",
      "Epoch 14/20\n",
      "25000/25000 [==============================] - 2s 70us/step - loss: 0.4958 - binary_accuracy: 0.8834 - val_loss: 0.5404 - val_binary_accuracy: 0.8610\n",
      "Epoch 15/20\n",
      "25000/25000 [==============================] - 2s 72us/step - loss: 0.4939 - binary_accuracy: 0.8840 - val_loss: 0.5308 - val_binary_accuracy: 0.8638\n",
      "Epoch 16/20\n",
      "25000/25000 [==============================] - 2s 73us/step - loss: 0.4919 - binary_accuracy: 0.8847 - val_loss: 0.5114 - val_binary_accuracy: 0.8757\n",
      "Epoch 17/20\n",
      "25000/25000 [==============================] - 2s 69us/step - loss: 0.4827 - binary_accuracy: 0.8891 - val_loss: 0.4995 - val_binary_accuracy: 0.8780\n",
      "Epoch 18/20\n",
      "25000/25000 [==============================] - 2s 74us/step - loss: 0.4809 - binary_accuracy: 0.8883 - val_loss: 0.4971 - val_binary_accuracy: 0.8789\n",
      "Epoch 19/20\n",
      "25000/25000 [==============================] - 2s 71us/step - loss: 0.4793 - binary_accuracy: 0.8899 - val_loss: 0.5286 - val_binary_accuracy: 0.8640\n",
      "Epoch 20/20\n",
      "25000/25000 [==============================] - 2s 69us/step - loss: 0.4725 - binary_accuracy: 0.8921 - val_loss: 0.5536 - val_binary_accuracy: 0.8539\n"
     ]
    }
   ],
   "source": [
    "l1_l2_model = models.Sequential()\n",
    "l1_l2_model.add(layers.Dense(16, kernel_regularizer=regularizers.l1_l2(l1=0.001, l2=0.001),\n",
    "                          activation=tf.nn.relu,\n",
    "                          input_shape=(10000,)))\n",
    "l1_l2_model.add(layers.Dense(16, kernel_regularizer=regularizers.l1_l2(l1=0.001, l2=0.001),\n",
    "                          activation=tf.nn.relu))\n",
    "l1_l2_model.add(layers.Dense(1, activation=tf.nn.sigmoid))\n",
    "\n",
    "l1_l2_model.compile(optimizer=optimizers.RMSprop(lr=0.001),\n",
    "              loss=losses.binary_crossentropy,\n",
    "              metrics=[metrics.binary_accuracy])\n",
    "\n",
    "l1_l2_model_hist = l1_l2_model.fit(x_train, y_train,\n",
    "                             epochs=20,\n",
    "                             batch_size=512,\n",
    "                             validation_data=(x_test, y_test))"
   ]
  },
  {
   "cell_type": "code",
   "execution_count": 23,
   "metadata": {},
   "outputs": [
    {
     "data": {
      "image/png": "[encoded data removed]",
      "text/plain": [
       "<Figure size 432x288 with 1 Axes>"
      ]
     },
     "metadata": {
      "needs_background": "light"
     },
     "output_type": "display_data"
    }
   ],
   "source": [
    "l1_l2_model_val_loss = l1_l2_model_hist.history['val_loss']\n",
    "\n",
    "plt.plot(epochs, original_val_loss, 'b+', label='Original model')\n",
    "plt.plot(epochs, l1_model_val_loss, 'bo', label='L1_L2-regularized model')\n",
    "plt.xlabel('Epochs')\n",
    "plt.ylabel('Validation loss')\n",
    "plt.legend()\n",
    "\n",
    "plt.show()"
   ]
  },
  {
   "cell_type": "markdown",
   "metadata": {},
   "source": [
    "# Dropout"
   ]
  },
  {
   "cell_type": "code",
   "execution_count": 24,
   "metadata": {},
   "outputs": [
    {
     "name": "stdout",
     "output_type": "stream",
     "text": [
      "Train on 25000 samples, validate on 25000 samples\n",
      "Epoch 1/20\n",
      "25000/25000 [==============================] - 2s 89us/step - loss: 0.6030 - binary_accuracy: 0.6732 - val_loss: 0.4683 - val_binary_accuracy: 0.8517\n",
      "Epoch 2/20\n",
      "25000/25000 [==============================] - 2s 82us/step - loss: 0.4457 - binary_accuracy: 0.8111 - val_loss: 0.3388 - val_binary_accuracy: 0.8787\n",
      "Epoch 3/20\n",
      "25000/25000 [==============================] - 2s 66us/step - loss: 0.3533 - binary_accuracy: 0.8633 - val_loss: 0.2987 - val_binary_accuracy: 0.8850\n",
      "Epoch 4/20\n",
      "25000/25000 [==============================] - 2s 69us/step - loss: 0.3028 - binary_accuracy: 0.8920 - val_loss: 0.2791 - val_binary_accuracy: 0.8882\n",
      "Epoch 5/20\n",
      "25000/25000 [==============================] - 2s 72us/step - loss: 0.2587 - binary_accuracy: 0.9100 - val_loss: 0.2795 - val_binary_accuracy: 0.8866\n",
      "Epoch 6/20\n",
      "25000/25000 [==============================] - 2s 67us/step - loss: 0.2304 - binary_accuracy: 0.9230 - val_loss: 0.2896 - val_binary_accuracy: 0.8878\n",
      "Epoch 7/20\n",
      "25000/25000 [==============================] - 2s 67us/step - loss: 0.2063 - binary_accuracy: 0.9328 - val_loss: 0.2975 - val_binary_accuracy: 0.8860\n",
      "Epoch 8/20\n",
      "25000/25000 [==============================] - 2s 71us/step - loss: 0.1868 - binary_accuracy: 0.9371 - val_loss: 0.3379 - val_binary_accuracy: 0.8818\n",
      "Epoch 9/20\n",
      "25000/25000 [==============================] - 2s 70us/step - loss: 0.1720 - binary_accuracy: 0.9453 - val_loss: 0.3352 - val_binary_accuracy: 0.8844\n",
      "Epoch 10/20\n",
      "25000/25000 [==============================] - 2s 67us/step - loss: 0.1610 - binary_accuracy: 0.9484 - val_loss: 0.3554 - val_binary_accuracy: 0.8834\n",
      "Epoch 11/20\n",
      "25000/25000 [==============================] - 2s 65us/step - loss: 0.1487 - binary_accuracy: 0.9510 - val_loss: 0.3885 - val_binary_accuracy: 0.8824\n",
      "Epoch 12/20\n",
      "25000/25000 [==============================] - 2s 69us/step - loss: 0.1398 - binary_accuracy: 0.9544 - val_loss: 0.4174 - val_binary_accuracy: 0.8800\n",
      "Epoch 13/20\n",
      "25000/25000 [==============================] - 2s 66us/step - loss: 0.1345 - binary_accuracy: 0.9576 - val_loss: 0.4420 - val_binary_accuracy: 0.8786\n",
      "Epoch 14/20\n",
      "25000/25000 [==============================] - 2s 74us/step - loss: 0.1278 - binary_accuracy: 0.9600 - val_loss: 0.4477 - val_binary_accuracy: 0.8790\n",
      "Epoch 15/20\n",
      "25000/25000 [==============================] - 2s 73us/step - loss: 0.1201 - binary_accuracy: 0.9633 - val_loss: 0.4725 - val_binary_accuracy: 0.8771\n",
      "Epoch 16/20\n",
      "25000/25000 [==============================] - 2s 71us/step - loss: 0.1116 - binary_accuracy: 0.9633 - val_loss: 0.5322 - val_binary_accuracy: 0.8740\n",
      "Epoch 17/20\n",
      "25000/25000 [==============================] - 2s 66us/step - loss: 0.1085 - binary_accuracy: 0.9650 - val_loss: 0.5187 - val_binary_accuracy: 0.8769\n",
      "Epoch 18/20\n",
      "25000/25000 [==============================] - 2s 69us/step - loss: 0.1108 - binary_accuracy: 0.9648 - val_loss: 0.5345 - val_binary_accuracy: 0.8747\n",
      "Epoch 19/20\n",
      "25000/25000 [==============================] - 2s 67us/step - loss: 0.1128 - binary_accuracy: 0.9650 - val_loss: 0.5393 - val_binary_accuracy: 0.8738\n",
      "Epoch 20/20\n",
      "25000/25000 [==============================] - 2s 69us/step - loss: 0.1057 - binary_accuracy: 0.9676 - val_loss: 0.5682 - val_binary_accuracy: 0.8726\n"
     ]
    }
   ],
   "source": [
    "dpt_model = models.Sequential()\n",
    "dpt_model.add(layers.Dense(16, activation='relu', input_shape=(10000,)))\n",
    "dpt_model.add(layers.Dropout(0.5))\n",
    "dpt_model.add(layers.Dense(16, activation='relu'))\n",
    "dpt_model.add(layers.Dropout(0.5))\n",
    "dpt_model.add(layers.Dense(1, activation='sigmoid'))\n",
    "\n",
    "dpt_model.compile(optimizer=optimizers.RMSprop(lr=0.001),\n",
    "              loss=losses.binary_crossentropy,\n",
    "              metrics=[metrics.binary_accuracy])\n",
    "\n",
    "dpt_model_hist = dpt_model.fit(x_train, y_train,\n",
    "                               epochs=20,\n",
    "                               batch_size=512,\n",
    "                               validation_data=(x_test, y_test))"
   ]
  },
  {
   "cell_type": "code",
   "execution_count": 25,
   "metadata": {},
   "outputs": [
    {
     "data": {
      "image/png": "[encoded data removed]",
      "text/plain": [
       "<Figure size 432x288 with 1 Axes>"
      ]
     },
     "metadata": {
      "needs_background": "light"
     },
     "output_type": "display_data"
    }
   ],
   "source": [
    "dpt_model_val_loss = dpt_model_hist.history['val_loss']\n",
    "\n",
    "plt.plot(epochs, original_val_loss, 'b+', label='Original model')\n",
    "plt.plot(epochs, dpt_model_val_loss, 'bo', label='Dropout-regularized model')\n",
    "plt.xlabel('Epochs')\n",
    "plt.ylabel('Validation loss')\n",
    "plt.legend()\n",
    "\n",
    "plt.show()"
   ]
  },
  {
   "cell_type": "code",
   "execution_count": null,
   "metadata": {},
   "outputs": [],
   "source": []
  }
 ],
 "metadata": {
  "kernelspec": {
   "display_name": "Python 3",
   "language": "python",
   "name": "python3"
  },
  "language_info": {
   "codemirror_mode": {
    "name": "ipython",
    "version": 3
   },
   "file_extension": ".py",
   "mimetype": "text/x-python",
   "name": "python",
   "nbconvert_exporter": "python",
   "pygments_lexer": "ipython3",
   "version": "3.6.7"
  }
 },
 "nbformat": 4,
 "nbformat_minor": 2
}
