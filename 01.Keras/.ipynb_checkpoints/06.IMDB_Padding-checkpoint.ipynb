{
 "cells": [
  {
   "cell_type": "code",
   "execution_count": 1,
   "metadata": {},
   "outputs": [],
   "source": [
    "import numpy as np\n",
    "import matplotlib.pyplot as plt\n",
    "import tensorflow as tf\n",
    "from tensorflow.keras.datasets import imdb\n",
    "from tensorflow.keras import models\n",
    "from tensorflow.keras import layers\n",
    "from tensorflow.keras import optimizers\n",
    "from tensorflow.keras import losses\n",
    "from tensorflow.keras import metrics"
   ]
  },
  {
   "cell_type": "code",
   "execution_count": 2,
   "metadata": {},
   "outputs": [
    {
     "name": "stdout",
     "output_type": "stream",
     "text": [
      "1.12.0\n"
     ]
    }
   ],
   "source": [
    "print(tf.__version__)"
   ]
  },
  {
   "cell_type": "markdown",
   "metadata": {},
   "source": [
    "- Load the IMDB dataset"
   ]
  },
  {
   "cell_type": "code",
   "execution_count": 3,
   "metadata": {},
   "outputs": [],
   "source": [
    "(train_data, train_labels), (test_data, test_labels) = imdb.load_data(num_words=10000)"
   ]
  },
  {
   "cell_type": "markdown",
   "metadata": {},
   "source": [
    " - Data analysis"
   ]
  },
  {
   "cell_type": "code",
   "execution_count": 4,
   "metadata": {},
   "outputs": [
    {
     "name": "stdout",
     "output_type": "stream",
     "text": [
      "Training entries: 25000, - Data analysis labels: 25000\n"
     ]
    }
   ],
   "source": [
    "print(\"Training entries: {}, - Data analysis labels: {}\".format(len(train_data), len(train_labels)))"
   ]
  },
  {
   "cell_type": "code",
   "execution_count": 5,
   "metadata": {
    "scrolled": true
   },
   "outputs": [
    {
     "name": "stdout",
     "output_type": "stream",
     "text": [
      "[1, 14, 22, 16, 43, 530, 973, 1622, 1385, 65, 458, 4468, 66, 3941, 4, 173, 36, 256, 5, 25, 100, 43, 838, 112, 50, 670, 2, 9, 35, 480, 284, 5, 150, 4, 172, 112, 167, 2, 336, 385, 39, 4, 172, 4536, 1111, 17, 546, 38, 13, 447, 4, 192, 50, 16, 6, 147, 2025, 19, 14, 22, 4, 1920, 4613, 469, 4, 22, 71, 87, 12, 16, 43, 530, 38, 76, 15, 13, 1247, 4, 22, 17, 515, 17, 12, 16, 626, 18, 2, 5, 62, 386, 12, 8, 316, 8, 106, 5, 4, 2223, 5244, 16, 480, 66, 3785, 33, 4, 130, 12, 16, 38, 619, 5, 25, 124, 51, 36, 135, 48, 25, 1415, 33, 6, 22, 12, 215, 28, 77, 52, 5, 14, 407, 16, 82, 2, 8, 4, 107, 117, 5952, 15, 256, 4, 2, 7, 3766, 5, 723, 36, 71, 43, 530, 476, 26, 400, 317, 46, 7, 4, 2, 1029, 13, 104, 88, 4, 381, 15, 297, 98, 32, 2071, 56, 26, 141, 6, 194, 7486, 18, 4, 226, 22, 21, 134, 476, 26, 480, 5, 144, 30, 5535, 18, 51, 36, 28, 224, 92, 25, 104, 4, 226, 65, 16, 38, 1334, 88, 12, 16, 283, 5, 16, 4472, 113, 103, 32, 15, 16, 5345, 19, 178, 32]\n"
     ]
    }
   ],
   "source": [
    "print(train_data[0])"
   ]
  },
  {
   "cell_type": "code",
   "execution_count": 6,
   "metadata": {},
   "outputs": [
    {
     "data": {
      "text/plain": [
       "(218, 189)"
      ]
     },
     "execution_count": 6,
     "metadata": {},
     "output_type": "execute_result"
    }
   ],
   "source": [
    "len(train_data[0]), len(train_data[1])"
   ]
  },
  {
   "cell_type": "code",
   "execution_count": 7,
   "metadata": {},
   "outputs": [],
   "source": [
    "# Decode one review\n",
    "word_index = imdb.get_word_index()\n",
    "\n",
    "# The first indices are reserved\n",
    "word_index = {k:(v+3) for k,v in word_index.items()}\n",
    "word_index[\"<PAD>\"] = 0\n",
    "word_index[\"<START>\"] = 1\n",
    "word_index[\"<UNK>\"] = 2 # unknown\n",
    "word_index[\"<UNUSED>\"] = 3\n",
    "\n",
    "reverse_word_index = dict([(value, key) for (key, value) in word_index.items()])\n",
    "\n",
    "def decode_review(text):\n",
    "    return ' '.join([reverse_word_index.get(i, '?') for i in text])"
   ]
  },
  {
   "cell_type": "code",
   "execution_count": 8,
   "metadata": {},
   "outputs": [
    {
     "data": {
      "text/plain": [
       "\"<START> this film was just brilliant casting location scenery story direction everyone's really suited the part they played and you could just imagine being there robert <UNK> is an amazing actor and now the same being director <UNK> father came from the same scottish island as myself so i loved the fact there was a real connection with this film the witty remarks throughout the film were great it was just brilliant so much that i bought the film as soon as it was released for <UNK> and would recommend it to everyone to watch and the fly fishing was amazing really cried at the end it was so sad and you know what they say if you cry at a film it must have been good and this definitely was also <UNK> to the two little boy's that played the <UNK> of norman and paul they were just brilliant children are often left out of the <UNK> list i think because the stars that play them all grown up are such a big profile for the whole film but these children are amazing and should be praised for what they have done don't you think the whole story was so lovely because it was true and was someone's life after all that was shared with us all\""
      ]
     },
     "execution_count": 8,
     "metadata": {},
     "output_type": "execute_result"
    }
   ],
   "source": [
    "decode_review(train_data[0])"
   ]
  },
  {
   "cell_type": "markdown",
   "metadata": {},
   "source": [
    "- Preparing the data"
   ]
  },
  {
   "cell_type": "markdown",
   "metadata": {},
   "source": [
    "Pad the arrays so they all have the same length, then create an integer tensor of shape max_length * num_reviews. We can use an embedding layer capable of handling this shape as the first layer in our network."
   ]
  },
  {
   "cell_type": "code",
   "execution_count": 9,
   "metadata": {},
   "outputs": [],
   "source": [
    "train_data = tf.keras.preprocessing.sequence.pad_sequences(train_data,\n",
    "                                                          value=word_index[\"<PAD>\"],\n",
    "                                                          padding='post',\n",
    "                                                          maxlen=256)\n",
    "test_data = tf.keras.preprocessing.sequence.pad_sequences(test_data,\n",
    "                                                          value=word_index[\"<PAD>\"],\n",
    "                                                          padding='post',\n",
    "                                                          maxlen=256)"
   ]
  },
  {
   "cell_type": "code",
   "execution_count": 10,
   "metadata": {},
   "outputs": [
    {
     "data": {
      "text/plain": [
       "(256, 256)"
      ]
     },
     "execution_count": 10,
     "metadata": {},
     "output_type": "execute_result"
    }
   ],
   "source": [
    "len(train_data[0]), len(train_data[1])"
   ]
  },
  {
   "cell_type": "code",
   "execution_count": 11,
   "metadata": {},
   "outputs": [
    {
     "name": "stdout",
     "output_type": "stream",
     "text": [
      "[   1   14   22   16   43  530  973 1622 1385   65  458 4468   66 3941\n",
      "    4  173   36  256    5   25  100   43  838  112   50  670    2    9\n",
      "   35  480  284    5  150    4  172  112  167    2  336  385   39    4\n",
      "  172 4536 1111   17  546   38   13  447    4  192   50   16    6  147\n",
      " 2025   19   14   22    4 1920 4613  469    4   22   71   87   12   16\n",
      "   43  530   38   76   15   13 1247    4   22   17  515   17   12   16\n",
      "  626   18    2    5   62  386   12    8  316    8  106    5    4 2223\n",
      " 5244   16  480   66 3785   33    4  130   12   16   38  619    5   25\n",
      "  124   51   36  135   48   25 1415   33    6   22   12  215   28   77\n",
      "   52    5   14  407   16   82    2    8    4  107  117 5952   15  256\n",
      "    4    2    7 3766    5  723   36   71   43  530  476   26  400  317\n",
      "   46    7    4    2 1029   13  104   88    4  381   15  297   98   32\n",
      " 2071   56   26  141    6  194 7486   18    4  226   22   21  134  476\n",
      "   26  480    5  144   30 5535   18   51   36   28  224   92   25  104\n",
      "    4  226   65   16   38 1334   88   12   16  283    5   16 4472  113\n",
      "  103   32   15   16 5345   19  178   32    0    0    0    0    0    0\n",
      "    0    0    0    0    0    0    0    0    0    0    0    0    0    0\n",
      "    0    0    0    0    0    0    0    0    0    0    0    0    0    0\n",
      "    0    0    0    0]\n"
     ]
    }
   ],
   "source": [
    "print(train_data[0])"
   ]
  },
  {
   "cell_type": "markdown",
   "metadata": {},
   "source": [
    "- Build the model"
   ]
  },
  {
   "cell_type": "code",
   "execution_count": 12,
   "metadata": {},
   "outputs": [
    {
     "name": "stdout",
     "output_type": "stream",
     "text": [
      "_________________________________________________________________\n",
      "Layer (type)                 Output Shape              Param #   \n",
      "=================================================================\n",
      "embedding (Embedding)        (None, None, 16)          160000    \n",
      "_________________________________________________________________\n",
      "global_average_pooling1d (Gl (None, 16)                0         \n",
      "_________________________________________________________________\n",
      "dense (Dense)                (None, 16)                272       \n",
      "_________________________________________________________________\n",
      "dense_1 (Dense)              (None, 1)                 17        \n",
      "=================================================================\n",
      "Total params: 160,289\n",
      "Trainable params: 160,289\n",
      "Non-trainable params: 0\n",
      "_________________________________________________________________\n"
     ]
    }
   ],
   "source": [
    "# input shape is the vocabulary count used for the movie reviews (10,000 words)\n",
    "vocab_size = 10000\n",
    "\n",
    "model = models.Sequential()\n",
    "model.add(layers.Embedding(vocab_size, 16))\n",
    "model.add(layers.GlobalAveragePooling1D())\n",
    "model.add(layers.Dense(16, activation=tf.nn.relu))\n",
    "model.add(layers.Dense(1, activation=tf.nn.sigmoid))\n",
    "\n",
    "model.summary()"
   ]
  },
  {
   "cell_type": "markdown",
   "metadata": {},
   "source": [
    "- Model compilation"
   ]
  },
  {
   "cell_type": "code",
   "execution_count": 13,
   "metadata": {},
   "outputs": [],
   "source": [
    "model.compile(optimizer=optimizers.Adam(),\n",
    "             loss=losses.binary_crossentropy,\n",
    "             metrics=[metrics.binary_accuracy])"
   ]
  },
  {
   "cell_type": "markdown",
   "metadata": {},
   "source": [
    "- Create a validation set"
   ]
  },
  {
   "cell_type": "code",
   "execution_count": 14,
   "metadata": {},
   "outputs": [],
   "source": [
    "x_val = train_data[:10000]\n",
    "partial_x_train = train_data[10000:]\n",
    "y_val = train_labels[:10000]\n",
    "partial_y_train = train_labels[10000:]"
   ]
  },
  {
   "cell_type": "markdown",
   "metadata": {},
   "source": [
    "- Train the model"
   ]
  },
  {
   "cell_type": "code",
   "execution_count": 15,
   "metadata": {
    "scrolled": true
   },
   "outputs": [
    {
     "name": "stderr",
     "output_type": "stream",
     "text": [
      "/usr/local/lib/python3.6/dist-packages/tensorflow/python/ops/gradients_impl.py:112: UserWarning: Converting sparse IndexedSlices to a dense Tensor of unknown shape. This may consume a large amount of memory.\n",
      "  \"Converting sparse IndexedSlices to a dense Tensor of unknown shape. \"\n"
     ]
    },
    {
     "name": "stdout",
     "output_type": "stream",
     "text": [
      "Train on 15000 samples, validate on 10000 samples\n",
      "Epoch 1/40\n",
      "15000/15000 [==============================] - 1s 54us/step - loss: 0.6915 - binary_accuracy: 0.5509 - val_loss: 0.6890 - val_binary_accuracy: 0.6330\n",
      "Epoch 2/40\n",
      "15000/15000 [==============================] - 1s 35us/step - loss: 0.6844 - binary_accuracy: 0.7215 - val_loss: 0.6797 - val_binary_accuracy: 0.7405\n",
      "Epoch 3/40\n",
      "15000/15000 [==============================] - 1s 35us/step - loss: 0.6704 - binary_accuracy: 0.7546 - val_loss: 0.6623 - val_binary_accuracy: 0.7450\n",
      "Epoch 4/40\n",
      "15000/15000 [==============================] - 1s 37us/step - loss: 0.6458 - binary_accuracy: 0.7678 - val_loss: 0.6353 - val_binary_accuracy: 0.7588\n",
      "Epoch 5/40\n",
      "15000/15000 [==============================] - 1s 35us/step - loss: 0.6110 - binary_accuracy: 0.7933 - val_loss: 0.5989 - val_binary_accuracy: 0.7872\n",
      "Epoch 6/40\n",
      "15000/15000 [==============================] - 1s 34us/step - loss: 0.5688 - binary_accuracy: 0.8137 - val_loss: 0.5584 - val_binary_accuracy: 0.8063\n",
      "Epoch 7/40\n",
      "15000/15000 [==============================] - 1s 35us/step - loss: 0.5226 - binary_accuracy: 0.8347 - val_loss: 0.5161 - val_binary_accuracy: 0.8223\n",
      "Epoch 8/40\n",
      "15000/15000 [==============================] - 1s 35us/step - loss: 0.4757 - binary_accuracy: 0.8490 - val_loss: 0.4747 - val_binary_accuracy: 0.8352\n",
      "Epoch 9/40\n",
      "15000/15000 [==============================] - 1s 34us/step - loss: 0.4324 - binary_accuracy: 0.8606 - val_loss: 0.4385 - val_binary_accuracy: 0.8441\n",
      "Epoch 10/40\n",
      "15000/15000 [==============================] - 1s 34us/step - loss: 0.3942 - binary_accuracy: 0.8752 - val_loss: 0.4087 - val_binary_accuracy: 0.8524\n",
      "Epoch 11/40\n",
      "15000/15000 [==============================] - 1s 35us/step - loss: 0.3623 - binary_accuracy: 0.8823 - val_loss: 0.3866 - val_binary_accuracy: 0.8567\n",
      "Epoch 12/40\n",
      "15000/15000 [==============================] - 1s 41us/step - loss: 0.3359 - binary_accuracy: 0.8883 - val_loss: 0.3646 - val_binary_accuracy: 0.8645\n",
      "Epoch 13/40\n",
      "15000/15000 [==============================] - 1s 46us/step - loss: 0.3119 - binary_accuracy: 0.8969 - val_loss: 0.3496 - val_binary_accuracy: 0.8694\n",
      "Epoch 14/40\n",
      "15000/15000 [==============================] - 1s 49us/step - loss: 0.2921 - binary_accuracy: 0.9019 - val_loss: 0.3361 - val_binary_accuracy: 0.8729\n",
      "Epoch 15/40\n",
      "15000/15000 [==============================] - 1s 46us/step - loss: 0.2750 - binary_accuracy: 0.9067 - val_loss: 0.3257 - val_binary_accuracy: 0.8753\n",
      "Epoch 16/40\n",
      "15000/15000 [==============================] - 1s 47us/step - loss: 0.2603 - binary_accuracy: 0.9102 - val_loss: 0.3172 - val_binary_accuracy: 0.8765\n",
      "Epoch 17/40\n",
      "15000/15000 [==============================] - 1s 51us/step - loss: 0.2461 - binary_accuracy: 0.9161 - val_loss: 0.3102 - val_binary_accuracy: 0.8778\n",
      "Epoch 18/40\n",
      "15000/15000 [==============================] - 1s 46us/step - loss: 0.2338 - binary_accuracy: 0.9210 - val_loss: 0.3044 - val_binary_accuracy: 0.8807\n",
      "Epoch 19/40\n",
      "15000/15000 [==============================] - 1s 50us/step - loss: 0.2223 - binary_accuracy: 0.9246 - val_loss: 0.2996 - val_binary_accuracy: 0.8821\n",
      "Epoch 20/40\n",
      "15000/15000 [==============================] - 1s 49us/step - loss: 0.2122 - binary_accuracy: 0.9272 - val_loss: 0.2957 - val_binary_accuracy: 0.8826\n",
      "Epoch 21/40\n",
      "15000/15000 [==============================] - 1s 49us/step - loss: 0.2024 - binary_accuracy: 0.9316 - val_loss: 0.2926 - val_binary_accuracy: 0.8829\n",
      "Epoch 22/40\n",
      "15000/15000 [==============================] - 1s 48us/step - loss: 0.1933 - binary_accuracy: 0.9358 - val_loss: 0.2904 - val_binary_accuracy: 0.8840\n",
      "Epoch 23/40\n",
      "15000/15000 [==============================] - 1s 48us/step - loss: 0.1851 - binary_accuracy: 0.9386 - val_loss: 0.2891 - val_binary_accuracy: 0.8833\n",
      "Epoch 24/40\n",
      "15000/15000 [==============================] - 1s 43us/step - loss: 0.1769 - binary_accuracy: 0.9436 - val_loss: 0.2870 - val_binary_accuracy: 0.8839\n",
      "Epoch 25/40\n",
      "15000/15000 [==============================] - 1s 39us/step - loss: 0.1697 - binary_accuracy: 0.9461 - val_loss: 0.2860 - val_binary_accuracy: 0.8845\n",
      "Epoch 26/40\n",
      "15000/15000 [==============================] - 1s 44us/step - loss: 0.1625 - binary_accuracy: 0.9482 - val_loss: 0.2859 - val_binary_accuracy: 0.8857\n",
      "Epoch 27/40\n",
      "15000/15000 [==============================] - 1s 44us/step - loss: 0.1564 - binary_accuracy: 0.9519 - val_loss: 0.2861 - val_binary_accuracy: 0.8853\n",
      "Epoch 28/40\n",
      "15000/15000 [==============================] - 1s 44us/step - loss: 0.1500 - binary_accuracy: 0.9550 - val_loss: 0.2858 - val_binary_accuracy: 0.8867\n",
      "Epoch 29/40\n",
      "15000/15000 [==============================] - 1s 43us/step - loss: 0.1442 - binary_accuracy: 0.9557 - val_loss: 0.2861 - val_binary_accuracy: 0.8861\n",
      "Epoch 30/40\n",
      "15000/15000 [==============================] - 1s 35us/step - loss: 0.1390 - binary_accuracy: 0.9581 - val_loss: 0.2871 - val_binary_accuracy: 0.8861\n",
      "Epoch 31/40\n",
      "15000/15000 [==============================] - 0s 32us/step - loss: 0.1329 - binary_accuracy: 0.9610 - val_loss: 0.2884 - val_binary_accuracy: 0.8856\n",
      "Epoch 32/40\n",
      "15000/15000 [==============================] - 0s 32us/step - loss: 0.1282 - binary_accuracy: 0.9631 - val_loss: 0.2901 - val_binary_accuracy: 0.8867\n",
      "Epoch 33/40\n",
      "15000/15000 [==============================] - 0s 32us/step - loss: 0.1226 - binary_accuracy: 0.9655 - val_loss: 0.2918 - val_binary_accuracy: 0.8858\n",
      "Epoch 34/40\n",
      "15000/15000 [==============================] - 0s 32us/step - loss: 0.1182 - binary_accuracy: 0.9671 - val_loss: 0.2939 - val_binary_accuracy: 0.8858\n",
      "Epoch 35/40\n",
      "15000/15000 [==============================] - 0s 32us/step - loss: 0.1141 - binary_accuracy: 0.9681 - val_loss: 0.2955 - val_binary_accuracy: 0.8857\n",
      "Epoch 36/40\n",
      "15000/15000 [==============================] - 0s 33us/step - loss: 0.1091 - binary_accuracy: 0.9703 - val_loss: 0.2982 - val_binary_accuracy: 0.8856\n",
      "Epoch 37/40\n",
      "15000/15000 [==============================] - 0s 32us/step - loss: 0.1052 - binary_accuracy: 0.9713 - val_loss: 0.3009 - val_binary_accuracy: 0.8845\n",
      "Epoch 38/40\n",
      "15000/15000 [==============================] - 0s 32us/step - loss: 0.1017 - binary_accuracy: 0.9716 - val_loss: 0.3038 - val_binary_accuracy: 0.8828\n",
      "Epoch 39/40\n",
      "15000/15000 [==============================] - 0s 32us/step - loss: 0.0973 - binary_accuracy: 0.9741 - val_loss: 0.3061 - val_binary_accuracy: 0.8832\n",
      "Epoch 40/40\n",
      "15000/15000 [==============================] - 0s 32us/step - loss: 0.0934 - binary_accuracy: 0.9759 - val_loss: 0.3092 - val_binary_accuracy: 0.8819\n"
     ]
    }
   ],
   "source": [
    "history = model.fit(partial_x_train,\n",
    "                    partial_y_train,\n",
    "                    epochs=40,\n",
    "                    batch_size=512,\n",
    "                    validation_data=(x_val, y_val))"
   ]
  },
  {
   "cell_type": "code",
   "execution_count": 16,
   "metadata": {},
   "outputs": [
    {
     "name": "stdout",
     "output_type": "stream",
     "text": [
      "25000/25000 [==============================] - 0s 18us/step\n",
      "['loss', 'binary_accuracy']\n",
      "[0.3292895298242569, 0.87244]\n"
     ]
    }
   ],
   "source": [
    "result = model.evaluate(test_data, test_labels)\n",
    "print(model.metrics_names)\n",
    "print(result)"
   ]
  },
  {
   "cell_type": "markdown",
   "metadata": {},
   "source": [
    "- Training logs"
   ]
  },
  {
   "cell_type": "code",
   "execution_count": 17,
   "metadata": {},
   "outputs": [
    {
     "name": "stdout",
     "output_type": "stream",
     "text": [
      "dict_keys(['val_loss', 'val_binary_accuracy', 'loss', 'binary_accuracy'])\n"
     ]
    }
   ],
   "source": [
    "history_dict = history.history\n",
    "print(history_dict.keys())"
   ]
  },
  {
   "cell_type": "markdown",
   "metadata": {},
   "source": [
    "- Create a graph of accuracy and loss over time"
   ]
  },
  {
   "cell_type": "code",
   "execution_count": 18,
   "metadata": {},
   "outputs": [
    {
     "data": {
      "image/png": "[encoded data removed]",
      "text/plain": [
       "<Figure size 432x288 with 1 Axes>"
      ]
     },
     "metadata": {
      "needs_background": "light"
     },
     "output_type": "display_data"
    }
   ],
   "source": [
    "loss_values = history_dict['loss']\n",
    "val_loss_values = history_dict['val_loss']\n",
    "epochs = range(1, len(history_dict['binary_accuracy']) + 1)\n",
    "\n",
    "plt.plot(epochs, loss_values, 'bo', label='Training loss')\n",
    "plt.plot(epochs, val_loss_values, 'b', label='Validation loss')\n",
    "plt.title('Training and validation loss')\n",
    "plt.xlabel('Epochs')\n",
    "plt.ylabel('Loss')\n",
    "plt.legend()\n",
    "plt.show()"
   ]
  },
  {
   "cell_type": "code",
   "execution_count": 19,
   "metadata": {},
   "outputs": [
    {
     "data": {
      "image/png": "[encoded data removed]",
      "text/plain": [
       "<Figure size 432x288 with 1 Axes>"
      ]
     },
     "metadata": {
      "needs_background": "light"
     },
     "output_type": "display_data"
    }
   ],
   "source": [
    "acc_values = history_dict['binary_accuracy']\n",
    "val_acc_values = history_dict['val_binary_accuracy']\n",
    "\n",
    "plt.clf()\n",
    "plt.plot(epochs, acc_values, 'bo', label='Training accuracy')\n",
    "plt.plot(epochs, val_acc_values, 'b', label='Validation accuracy')\n",
    "plt.title('Training and validation accuracy')\n",
    "plt.xlabel('Epochs')\n",
    "plt.ylabel('Accuracy')\n",
    "plt.legend()\n",
    "plt.show()"
   ]
  }
 ],
 "metadata": {
  "kernelspec": {
   "display_name": "Python 3",
   "language": "python",
   "name": "python3"
  },
  "language_info": {
   "codemirror_mode": {
    "name": "ipython",
    "version": 3
   },
   "file_extension": ".py",
   "mimetype": "text/x-python",
   "name": "python",
   "nbconvert_exporter": "python",
   "pygments_lexer": "ipython3",
   "version": "3.6.7"
  }
 },
 "nbformat": 4,
 "nbformat_minor": 2
}
