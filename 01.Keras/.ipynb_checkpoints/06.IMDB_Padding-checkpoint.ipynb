{
 "cells": [
  {
   "cell_type": "code",
   "execution_count": 1,
   "metadata": {},
   "outputs": [],
   "source": [
    "import numpy as np\n",
    "import matplotlib.pyplot as plt\n",
    "import tensorflow as tf\n",
    "from tensorflow.keras.callbacks import TensorBoard\n",
    "from tensorflow.keras.datasets import imdb\n",
    "from tensorflow.keras import models\n",
    "from tensorflow.keras import layers\n",
    "from tensorflow.keras import optimizers\n",
    "from tensorflow.keras import losses\n",
    "from tensorflow.keras import metrics\n"
   ]
  },
  {
   "cell_type": "code",
   "execution_count": 2,
   "metadata": {},
   "outputs": [
    {
     "name": "stdout",
     "output_type": "stream",
     "text": [
      "1.12.0\n"
     ]
    }
   ],
   "source": [
    "print(tf.__version__)"
   ]
  },
  {
   "cell_type": "markdown",
   "metadata": {},
   "source": [
    "# Load the IMDB dataset"
   ]
  },
  {
   "cell_type": "code",
   "execution_count": 3,
   "metadata": {},
   "outputs": [],
   "source": [
    "(train_data, train_labels), (test_data, test_labels) = imdb.load_data(num_words=10000)"
   ]
  },
  {
   "cell_type": "markdown",
   "metadata": {},
   "source": [
    "# Data analysis"
   ]
  },
  {
   "cell_type": "code",
   "execution_count": 4,
   "metadata": {},
   "outputs": [
    {
     "name": "stdout",
     "output_type": "stream",
     "text": [
      "Training data entries: 25000, - Trainings labels: 25000\n"
     ]
    }
   ],
   "source": [
    "print(\"Training data entries: {}, - Trainings labels: {}\".format(len(train_data), len(train_labels)))"
   ]
  },
  {
   "cell_type": "code",
   "execution_count": 5,
   "metadata": {},
   "outputs": [
    {
     "name": "stdout",
     "output_type": "stream",
     "text": [
      "Training Data: 1 D Tensor, 25000 samples, object data type.\n",
      "Training Labels: 1 D Tensor, 25000 samples, int64 data type.\n",
      "Test Data: 1 D Tensor, 25000 samples, object data type.\n",
      "Test Labels: 1 D Tensor, 25000 samples, int64 data type.\n"
     ]
    }
   ],
   "source": [
    "x = train_data\n",
    "print(\"Training Data:\", len(x.shape), 'D Tensor,', x.shape[0], 'samples,', x.dtype, 'data type.')\n",
    "x = train_labels\n",
    "print(\"Training Labels:\", len(x.shape), 'D Tensor,', x.shape[0], 'samples,', x.dtype, 'data type.')\n",
    "x = test_data\n",
    "print(\"Test Data:\", len(x.shape), 'D Tensor,', x.shape[0], 'samples,', x.dtype, 'data type.')\n",
    "x = test_labels\n",
    "print(\"Test Labels:\", len(x.shape), 'D Tensor,', x.shape[0], 'samples,', x.dtype, 'data type.')\n"
   ]
  },
  {
   "cell_type": "code",
   "execution_count": 6,
   "metadata": {
    "scrolled": true
   },
   "outputs": [
    {
     "name": "stdout",
     "output_type": "stream",
     "text": [
      "[1, 14, 22, 16, 43, 530, 973, 1622, 1385, 65, 458, 4468, 66, 3941, 4, 173, 36, 256, 5, 25, 100, 43, 838, 112, 50, 670, 2, 9, 35, 480, 284, 5, 150, 4, 172, 112, 167, 2, 336, 385, 39, 4, 172, 4536, 1111, 17, 546, 38, 13, 447, 4, 192, 50, 16, 6, 147, 2025, 19, 14, 22, 4, 1920, 4613, 469, 4, 22, 71, 87, 12, 16, 43, 530, 38, 76, 15, 13, 1247, 4, 22, 17, 515, 17, 12, 16, 626, 18, 2, 5, 62, 386, 12, 8, 316, 8, 106, 5, 4, 2223, 5244, 16, 480, 66, 3785, 33, 4, 130, 12, 16, 38, 619, 5, 25, 124, 51, 36, 135, 48, 25, 1415, 33, 6, 22, 12, 215, 28, 77, 52, 5, 14, 407, 16, 82, 2, 8, 4, 107, 117, 5952, 15, 256, 4, 2, 7, 3766, 5, 723, 36, 71, 43, 530, 476, 26, 400, 317, 46, 7, 4, 2, 1029, 13, 104, 88, 4, 381, 15, 297, 98, 32, 2071, 56, 26, 141, 6, 194, 7486, 18, 4, 226, 22, 21, 134, 476, 26, 480, 5, 144, 30, 5535, 18, 51, 36, 28, 224, 92, 25, 104, 4, 226, 65, 16, 38, 1334, 88, 12, 16, 283, 5, 16, 4472, 113, 103, 32, 15, 16, 5345, 19, 178, 32]\n"
     ]
    }
   ],
   "source": [
    "print(train_data[0])"
   ]
  },
  {
   "cell_type": "code",
   "execution_count": 7,
   "metadata": {},
   "outputs": [
    {
     "name": "stdout",
     "output_type": "stream",
     "text": [
      "1\n"
     ]
    }
   ],
   "source": [
    "print(train_labels[0])"
   ]
  },
  {
   "cell_type": "code",
   "execution_count": 8,
   "metadata": {},
   "outputs": [
    {
     "data": {
      "text/plain": [
       "(218, 189)"
      ]
     },
     "execution_count": 8,
     "metadata": {},
     "output_type": "execute_result"
    }
   ],
   "source": [
    "len(train_data[0]), len(train_data[1])"
   ]
  },
  {
   "cell_type": "code",
   "execution_count": 9,
   "metadata": {},
   "outputs": [],
   "source": [
    "# Decode one review\n",
    "word_index = imdb.get_word_index()\n",
    "\n",
    "# The first indices are reserved\n",
    "word_index = {k:(v+3) for k,v in word_index.items()}\n",
    "word_index[\"<PAD>\"] = 0\n",
    "word_index[\"<START>\"] = 1\n",
    "word_index[\"<UNK>\"] = 2 # unknown\n",
    "word_index[\"<UNUSED>\"] = 3\n",
    "\n",
    "reverse_word_index = dict([(value, key) for (key, value) in word_index.items()])\n",
    "\n",
    "def decode_review(text):\n",
    "    return ' '.join([reverse_word_index.get(i, '?') for i in text])"
   ]
  },
  {
   "cell_type": "code",
   "execution_count": 10,
   "metadata": {},
   "outputs": [
    {
     "data": {
      "text/plain": [
       "\"<START> this film was just brilliant casting location scenery story direction everyone's really suited the part they played and you could just imagine being there robert <UNK> is an amazing actor and now the same being director <UNK> father came from the same scottish island as myself so i loved the fact there was a real connection with this film the witty remarks throughout the film were great it was just brilliant so much that i bought the film as soon as it was released for <UNK> and would recommend it to everyone to watch and the fly fishing was amazing really cried at the end it was so sad and you know what they say if you cry at a film it must have been good and this definitely was also <UNK> to the two little boy's that played the <UNK> of norman and paul they were just brilliant children are often left out of the <UNK> list i think because the stars that play them all grown up are such a big profile for the whole film but these children are amazing and should be praised for what they have done don't you think the whole story was so lovely because it was true and was someone's life after all that was shared with us all\""
      ]
     },
     "execution_count": 10,
     "metadata": {},
     "output_type": "execute_result"
    }
   ],
   "source": [
    "decode_review(train_data[0])"
   ]
  },
  {
   "cell_type": "markdown",
   "metadata": {},
   "source": [
    "# Preparing the data"
   ]
  },
  {
   "cell_type": "markdown",
   "metadata": {},
   "source": [
    "Pad the arrays so they all have the same length, then create an integer tensor of shape max_length * num_reviews. We can use an embedding layer capable of handling this shape as the first layer in our network."
   ]
  },
  {
   "cell_type": "code",
   "execution_count": 11,
   "metadata": {},
   "outputs": [],
   "source": [
    "train_data = tf.keras.preprocessing.sequence.pad_sequences(train_data,\n",
    "                                                          value=word_index[\"<PAD>\"],\n",
    "                                                          padding='post',\n",
    "                                                          maxlen=256)\n",
    "test_data = tf.keras.preprocessing.sequence.pad_sequences(test_data,\n",
    "                                                          value=word_index[\"<PAD>\"],\n",
    "                                                          padding='post',\n",
    "                                                          maxlen=256)"
   ]
  },
  {
   "cell_type": "code",
   "execution_count": 12,
   "metadata": {},
   "outputs": [
    {
     "data": {
      "text/plain": [
       "(256, 256)"
      ]
     },
     "execution_count": 12,
     "metadata": {},
     "output_type": "execute_result"
    }
   ],
   "source": [
    "len(train_data[0]), len(train_data[1])"
   ]
  },
  {
   "cell_type": "code",
   "execution_count": 13,
   "metadata": {},
   "outputs": [
    {
     "name": "stdout",
     "output_type": "stream",
     "text": [
      "[   1   14   22   16   43  530  973 1622 1385   65  458 4468   66 3941\n",
      "    4  173   36  256    5   25  100   43  838  112   50  670    2    9\n",
      "   35  480  284    5  150    4  172  112  167    2  336  385   39    4\n",
      "  172 4536 1111   17  546   38   13  447    4  192   50   16    6  147\n",
      " 2025   19   14   22    4 1920 4613  469    4   22   71   87   12   16\n",
      "   43  530   38   76   15   13 1247    4   22   17  515   17   12   16\n",
      "  626   18    2    5   62  386   12    8  316    8  106    5    4 2223\n",
      " 5244   16  480   66 3785   33    4  130   12   16   38  619    5   25\n",
      "  124   51   36  135   48   25 1415   33    6   22   12  215   28   77\n",
      "   52    5   14  407   16   82    2    8    4  107  117 5952   15  256\n",
      "    4    2    7 3766    5  723   36   71   43  530  476   26  400  317\n",
      "   46    7    4    2 1029   13  104   88    4  381   15  297   98   32\n",
      " 2071   56   26  141    6  194 7486   18    4  226   22   21  134  476\n",
      "   26  480    5  144   30 5535   18   51   36   28  224   92   25  104\n",
      "    4  226   65   16   38 1334   88   12   16  283    5   16 4472  113\n",
      "  103   32   15   16 5345   19  178   32    0    0    0    0    0    0\n",
      "    0    0    0    0    0    0    0    0    0    0    0    0    0    0\n",
      "    0    0    0    0    0    0    0    0    0    0    0    0    0    0\n",
      "    0    0    0    0]\n"
     ]
    }
   ],
   "source": [
    "print(train_data[0])"
   ]
  },
  {
   "cell_type": "markdown",
   "metadata": {},
   "source": [
    "# Build the model"
   ]
  },
  {
   "cell_type": "code",
   "execution_count": 14,
   "metadata": {},
   "outputs": [
    {
     "name": "stdout",
     "output_type": "stream",
     "text": [
      "_________________________________________________________________\n",
      "Layer (type)                 Output Shape              Param #   \n",
      "=================================================================\n",
      "embedding (Embedding)        (None, None, 16)          160000    \n",
      "_________________________________________________________________\n",
      "global_average_pooling1d (Gl (None, 16)                0         \n",
      "_________________________________________________________________\n",
      "dense (Dense)                (None, 16)                272       \n",
      "_________________________________________________________________\n",
      "dense_1 (Dense)              (None, 1)                 17        \n",
      "=================================================================\n",
      "Total params: 160,289\n",
      "Trainable params: 160,289\n",
      "Non-trainable params: 0\n",
      "_________________________________________________________________\n"
     ]
    }
   ],
   "source": [
    "# input shape is the vocabulary count used for the movie reviews (10,000 words)\n",
    "vocab_size = 10000\n",
    "\n",
    "model = models.Sequential()\n",
    "model.add(layers.Embedding(vocab_size, 16))\n",
    "model.add(layers.GlobalAveragePooling1D())\n",
    "model.add(layers.Dense(16, activation=tf.nn.relu))\n",
    "model.add(layers.Dense(1, activation=tf.nn.sigmoid))\n",
    "\n",
    "model.summary()\n",
    "tensorboard = TensorBoard(log_dir='/notebooks/99.logs')"
   ]
  },
  {
   "cell_type": "markdown",
   "metadata": {},
   "source": [
    "# Model compilation"
   ]
  },
  {
   "cell_type": "code",
   "execution_count": 15,
   "metadata": {},
   "outputs": [],
   "source": [
    "model.compile(optimizer=optimizers.Adam(),\n",
    "             loss=losses.binary_crossentropy,\n",
    "             metrics=[metrics.binary_accuracy])"
   ]
  },
  {
   "cell_type": "markdown",
   "metadata": {},
   "source": [
    "# Create a validation set"
   ]
  },
  {
   "cell_type": "code",
   "execution_count": 16,
   "metadata": {},
   "outputs": [],
   "source": [
    "x_val = train_data[:10000]\n",
    "partial_x_train = train_data[10000:]\n",
    "y_val = train_labels[:10000]\n",
    "partial_y_train = train_labels[10000:]"
   ]
  },
  {
   "cell_type": "markdown",
   "metadata": {},
   "source": [
    "# Train the model"
   ]
  },
  {
   "cell_type": "code",
   "execution_count": 17,
   "metadata": {
    "scrolled": true
   },
   "outputs": [
    {
     "name": "stderr",
     "output_type": "stream",
     "text": [
      "/usr/local/lib/python3.6/dist-packages/tensorflow/python/ops/gradients_impl.py:112: UserWarning: Converting sparse IndexedSlices to a dense Tensor of unknown shape. This may consume a large amount of memory.\n",
      "  \"Converting sparse IndexedSlices to a dense Tensor of unknown shape. \"\n"
     ]
    },
    {
     "name": "stdout",
     "output_type": "stream",
     "text": [
      "Train on 15000 samples, validate on 10000 samples\n",
      "Epoch 1/20\n",
      "15000/15000 [==============================] - 1s 71us/step - loss: 0.6920 - binary_accuracy: 0.5645 - val_loss: 0.6904 - val_binary_accuracy: 0.6000\n",
      "Epoch 2/20\n",
      "15000/15000 [==============================] - 1s 48us/step - loss: 0.6869 - binary_accuracy: 0.6994 - val_loss: 0.6832 - val_binary_accuracy: 0.7290\n",
      "Epoch 3/20\n",
      "15000/15000 [==============================] - 1s 50us/step - loss: 0.6758 - binary_accuracy: 0.7538 - val_loss: 0.6688 - val_binary_accuracy: 0.7508\n",
      "Epoch 4/20\n",
      "15000/15000 [==============================] - 1s 51us/step - loss: 0.6547 - binary_accuracy: 0.7631 - val_loss: 0.6444 - val_binary_accuracy: 0.7630\n",
      "Epoch 5/20\n",
      "15000/15000 [==============================] - 1s 45us/step - loss: 0.6215 - binary_accuracy: 0.7906 - val_loss: 0.6078 - val_binary_accuracy: 0.7832\n",
      "Epoch 6/20\n",
      "15000/15000 [==============================] - 1s 51us/step - loss: 0.5779 - binary_accuracy: 0.8070 - val_loss: 0.5652 - val_binary_accuracy: 0.7966\n",
      "Epoch 7/20\n",
      "15000/15000 [==============================] - 1s 49us/step - loss: 0.5287 - binary_accuracy: 0.8279 - val_loss: 0.5195 - val_binary_accuracy: 0.8164\n",
      "Epoch 8/20\n",
      "15000/15000 [==============================] - 1s 48us/step - loss: 0.4787 - binary_accuracy: 0.8449 - val_loss: 0.4758 - val_binary_accuracy: 0.8318\n",
      "Epoch 9/20\n",
      "15000/15000 [==============================] - 1s 52us/step - loss: 0.4330 - binary_accuracy: 0.8576 - val_loss: 0.4376 - val_binary_accuracy: 0.8438\n",
      "Epoch 10/20\n",
      "15000/15000 [==============================] - 1s 48us/step - loss: 0.3927 - binary_accuracy: 0.8723 - val_loss: 0.4062 - val_binary_accuracy: 0.8509\n",
      "Epoch 11/20\n",
      "15000/15000 [==============================] - 1s 42us/step - loss: 0.3595 - binary_accuracy: 0.8811 - val_loss: 0.3833 - val_binary_accuracy: 0.8559\n",
      "Epoch 12/20\n",
      "15000/15000 [==============================] - 1s 44us/step - loss: 0.3324 - binary_accuracy: 0.8879 - val_loss: 0.3612 - val_binary_accuracy: 0.8632\n",
      "Epoch 13/20\n",
      "15000/15000 [==============================] - 1s 45us/step - loss: 0.3081 - binary_accuracy: 0.8953 - val_loss: 0.3461 - val_binary_accuracy: 0.8684\n",
      "Epoch 14/20\n",
      "15000/15000 [==============================] - 1s 45us/step - loss: 0.2882 - binary_accuracy: 0.9013 - val_loss: 0.3329 - val_binary_accuracy: 0.8722\n",
      "Epoch 15/20\n",
      "15000/15000 [==============================] - 1s 46us/step - loss: 0.2710 - binary_accuracy: 0.9059 - val_loss: 0.3228 - val_binary_accuracy: 0.8751\n",
      "Epoch 16/20\n",
      "15000/15000 [==============================] - 1s 43us/step - loss: 0.2563 - binary_accuracy: 0.9103 - val_loss: 0.3145 - val_binary_accuracy: 0.8762\n",
      "Epoch 17/20\n",
      "15000/15000 [==============================] - 1s 34us/step - loss: 0.2421 - binary_accuracy: 0.9163 - val_loss: 0.3077 - val_binary_accuracy: 0.8771\n",
      "Epoch 18/20\n",
      "15000/15000 [==============================] - 0s 33us/step - loss: 0.2298 - binary_accuracy: 0.9210 - val_loss: 0.3022 - val_binary_accuracy: 0.8811\n",
      "Epoch 19/20\n",
      "15000/15000 [==============================] - 1s 34us/step - loss: 0.2184 - binary_accuracy: 0.9247 - val_loss: 0.2978 - val_binary_accuracy: 0.8817\n",
      "Epoch 20/20\n",
      "15000/15000 [==============================] - 1s 34us/step - loss: 0.2083 - binary_accuracy: 0.9280 - val_loss: 0.2941 - val_binary_accuracy: 0.8824\n"
     ]
    }
   ],
   "source": [
    "history = model.fit(partial_x_train,\n",
    "                    partial_y_train,\n",
    "                    epochs=20,\n",
    "                    batch_size=512,\n",
    "                    validation_data=(x_val, y_val),\n",
    "                    callbacks=[tensorboard])"
   ]
  },
  {
   "cell_type": "code",
   "execution_count": 18,
   "metadata": {},
   "outputs": [
    {
     "name": "stdout",
     "output_type": "stream",
     "text": [
      "25000/25000 [==============================] - 0s 18us/step\n",
      "['loss', 'binary_accuracy']\n",
      "[0.3073779457473755, 0.8742]\n"
     ]
    }
   ],
   "source": [
    "result = model.evaluate(test_data, test_labels)\n",
    "print(model.metrics_names)\n",
    "print(result)"
   ]
  },
  {
   "cell_type": "markdown",
   "metadata": {},
   "source": [
    "# Training logs"
   ]
  },
  {
   "cell_type": "code",
   "execution_count": 19,
   "metadata": {},
   "outputs": [
    {
     "name": "stdout",
     "output_type": "stream",
     "text": [
      "dict_keys(['val_loss', 'val_binary_accuracy', 'loss', 'binary_accuracy'])\n"
     ]
    }
   ],
   "source": [
    "history_dict = history.history\n",
    "print(history_dict.keys())"
   ]
  },
  {
   "cell_type": "markdown",
   "metadata": {},
   "source": [
    "# Plotting the training and validation loss"
   ]
  },
  {
   "cell_type": "code",
   "execution_count": 20,
   "metadata": {},
   "outputs": [
    {
     "data": {
      "image/png": "[encoded data removed]",
      "text/plain": [
       "<Figure size 432x288 with 1 Axes>"
      ]
     },
     "metadata": {
      "needs_background": "light"
     },
     "output_type": "display_data"
    }
   ],
   "source": [
    "loss_values = history_dict['loss']\n",
    "val_loss_values = history_dict['val_loss']\n",
    "epochs = range(1, len(history_dict['binary_accuracy']) + 1)\n",
    "\n",
    "plt.plot(epochs, loss_values, 'bo', label='Training loss')\n",
    "plt.plot(epochs, val_loss_values, 'b', label='Validation loss')\n",
    "plt.title('Training and validation loss')\n",
    "plt.xlabel('Epochs')\n",
    "plt.ylabel('Loss')\n",
    "plt.legend()\n",
    "plt.show()"
   ]
  },
  {
   "cell_type": "markdown",
   "metadata": {},
   "source": [
    "# Plotting the training and validation accuracy"
   ]
  },
  {
   "cell_type": "code",
   "execution_count": 21,
   "metadata": {},
   "outputs": [
    {
     "data": {
      "image/png": "[encoded data removed]",
      "text/plain": [
       "<Figure size 432x288 with 1 Axes>"
      ]
     },
     "metadata": {
      "needs_background": "light"
     },
     "output_type": "display_data"
    }
   ],
   "source": [
    "acc_values = history_dict['binary_accuracy']\n",
    "val_acc_values = history_dict['val_binary_accuracy']\n",
    "\n",
    "plt.clf()# Plotting the training and validation accuracy\n",
    "plt.plot(epochs, acc_values, 'bo', label='Training accuracy')\n",
    "plt.plot(epochs, val_acc_values, 'b', label='Validation accuracy')\n",
    "plt.title('Training and validation accuracy')\n",
    "plt.xlabel('Epochs')\n",
    "plt.ylabel('Accuracy')\n",
    "plt.legend()\n",
    "plt.show()"
   ]
  },
  {
   "cell_type": "markdown",
   "metadata": {},
   "source": [
    "# Evaluate the model"
   ]
  },
  {
   "cell_type": "code",
   "execution_count": 22,
   "metadata": {},
   "outputs": [
    {
     "name": "stdout",
     "output_type": "stream",
     "text": [
      "25000/25000 [==============================] - 0s 15us/step\n",
      "['loss', 'binary_accuracy']\n",
      "[0.3073779457473755, 0.8742]\n"
     ]
    }
   ],
   "source": [
    "result = model.evaluate(test_data, test_labels)\n",
    "print(model.metrics_names)\n",
    "print(result)"
   ]
  },
  {
   "cell_type": "markdown",
   "metadata": {},
   "source": [
    "# Generate predictions on new data"
   ]
  },
  {
   "cell_type": "code",
   "execution_count": 23,
   "metadata": {},
   "outputs": [],
   "source": [
    "# test against random words and biased review\n",
    "rand_review = np.random.randint(10000, size=256)\n",
    "biased_review = np.full(256, 530)\n",
    "test_data = np.append(test_data, [rand_review], axis=0)\n",
    "test_data = np.append(test_data, [biased_review], axis=0)\n",
    "predict = model.predict(test_data)"
   ]
  },
  {
   "cell_type": "code",
   "execution_count": 24,
   "metadata": {},
   "outputs": [
    {
     "name": "stdout",
     "output_type": "stream",
     "text": [
      "Random words: counter julian darn used gain obnoxious suggestive lars fires sheila dread role mistake sweet references lundgren reed cameo year's temptation bitten nearest astounding stalk ps leaps item rich sensational martha niece viewer's gory graphic fuss color repeatedly follows principles blatant revolution supplies length carpenter find christmas makers losing representative maintaining favourites clyde deliverance reign wonderland applause sort background d radical newman businessman one's loneliness parallel quaint kirsten jungle conflict twisted alter nurse join economy pound manners acclaim hiring listing town's save unoriginal simmons slug matters urban duties bloody snakes gretchen contrary splatter beth forms gets man's marriage obsessed 1955 ensue corn familiar rick occurs touches twilight shouldn't needing detroit represented covers activities scarecrows flop knock african gena unanswered rebecca astonishing pigs wives bachchan royal glory manners rejects failing easily barbarian album recent america's additionally dodge stan spoof lt intruder killer's style horrid placing surprising deceased discovers martha upcoming jessica noted britain treating motion 5 nutty polar stepped carla scarier designs bottle teenagers cube final animated hospital seventies sammi india body president arab definite covered years entrance bodies rhyme sinatra cliche brady gus muscular image sunny takes conductor hardest unnecessarily promoting hallmark spliced elderly mild hot accepted supremacy clerk hippie leo eternal gravity rumors soles staff blond deadly constantly objects stumbled buddy nine convict chooses barbra unit chains likes nuances ominous chainsaw suppose historic junk station nightmarish word documentary enthralling bath reasons banana narrated galactica shameless correct rifle slavery inconsistent parody huh disappearance click engagement epic hammer 'i apologize hide pun settings archer channels lugosi complain dylan\n"
     ]
    }
   ],
   "source": [
    "print('Random words:', decode_review(test_data[-2]))"
   ]
  },
  {
   "cell_type": "code",
   "execution_count": 25,
   "metadata": {},
   "outputs": [
    {
     "name": "stdout",
     "output_type": "stream",
     "text": [
      "Prediction: [0.8864206]\n"
     ]
    }
   ],
   "source": [
    "print('Prediction:', predict[-2])"
   ]
  },
  {
   "cell_type": "code",
   "execution_count": 26,
   "metadata": {},
   "outputs": [
    {
     "name": "stdout",
     "output_type": "stream",
     "text": [
      "Biased review: brilliant brilliant brilliant brilliant brilliant brilliant brilliant brilliant brilliant brilliant brilliant brilliant brilliant brilliant brilliant brilliant brilliant brilliant brilliant brilliant brilliant brilliant brilliant brilliant brilliant brilliant brilliant brilliant brilliant brilliant brilliant brilliant brilliant brilliant brilliant brilliant brilliant brilliant brilliant brilliant brilliant brilliant brilliant brilliant brilliant brilliant brilliant brilliant brilliant brilliant brilliant brilliant brilliant brilliant brilliant brilliant brilliant brilliant brilliant brilliant brilliant brilliant brilliant brilliant brilliant brilliant brilliant brilliant brilliant brilliant brilliant brilliant brilliant brilliant brilliant brilliant brilliant brilliant brilliant brilliant brilliant brilliant brilliant brilliant brilliant brilliant brilliant brilliant brilliant brilliant brilliant brilliant brilliant brilliant brilliant brilliant brilliant brilliant brilliant brilliant brilliant brilliant brilliant brilliant brilliant brilliant brilliant brilliant brilliant brilliant brilliant brilliant brilliant brilliant brilliant brilliant brilliant brilliant brilliant brilliant brilliant brilliant brilliant brilliant brilliant brilliant brilliant brilliant brilliant brilliant brilliant brilliant brilliant brilliant brilliant brilliant brilliant brilliant brilliant brilliant brilliant brilliant brilliant brilliant brilliant brilliant brilliant brilliant brilliant brilliant brilliant brilliant brilliant brilliant brilliant brilliant brilliant brilliant brilliant brilliant brilliant brilliant brilliant brilliant brilliant brilliant brilliant brilliant brilliant brilliant brilliant brilliant brilliant brilliant brilliant brilliant brilliant brilliant brilliant brilliant brilliant brilliant brilliant brilliant brilliant brilliant brilliant brilliant brilliant brilliant brilliant brilliant brilliant brilliant brilliant brilliant brilliant brilliant brilliant brilliant brilliant brilliant brilliant brilliant brilliant brilliant brilliant brilliant brilliant brilliant brilliant brilliant brilliant brilliant brilliant brilliant brilliant brilliant brilliant brilliant brilliant brilliant brilliant brilliant brilliant brilliant brilliant brilliant brilliant brilliant brilliant brilliant brilliant brilliant brilliant brilliant brilliant brilliant brilliant brilliant brilliant brilliant brilliant brilliant brilliant brilliant brilliant brilliant brilliant brilliant brilliant brilliant brilliant brilliant brilliant brilliant\n"
     ]
    }
   ],
   "source": [
    "print('Biased review:', decode_review(test_data[-1]))"
   ]
  },
  {
   "cell_type": "code",
   "execution_count": 27,
   "metadata": {
    "scrolled": true
   },
   "outputs": [
    {
     "name": "stdout",
     "output_type": "stream",
     "text": [
      "Prediction: [1.]\n"
     ]
    }
   ],
   "source": [
    "print('Prediction:', predict[-1])"
   ]
  }
 ],
 "metadata": {
  "kernelspec": {
   "display_name": "Python 3",
   "language": "python",
   "name": "python3"
  },
  "language_info": {
   "codemirror_mode": {
    "name": "ipython",
    "version": 3
   },
   "file_extension": ".py",
   "mimetype": "text/x-python",
   "name": "python",
   "nbconvert_exporter": "python",
   "pygments_lexer": "ipython3",
   "version": "3.6.7"
  }
 },
 "nbformat": 4,
 "nbformat_minor": 2
}
