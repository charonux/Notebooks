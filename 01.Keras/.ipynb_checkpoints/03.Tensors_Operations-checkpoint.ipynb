{
 "cells": [
  {
   "cell_type": "code",
   "execution_count": 1,
   "metadata": {},
   "outputs": [],
   "source": [
    "import numpy as np"
   ]
  },
  {
   "cell_type": "code",
   "execution_count": 2,
   "metadata": {},
   "outputs": [
    {
     "name": "stdout",
     "output_type": "stream",
     "text": [
      "Sample array & info:\n",
      "2 D Tensor, 3 samples, 3 features, int64 data type.\n"
     ]
    }
   ],
   "source": [
    "a = np.array([[-1, 2, 3],\n",
    "              [-4, 5, 6],\n",
    "              [-7, 8, 9]])\n",
    "\n",
    "b = np.array([[1, 2, 3],\n",
    "              [4, 5, 6],\n",
    "              [7, 8, 9]])\n",
    "c = np.array([1, 2, 3])\n",
    "\n",
    "print(\"Sample array & info:\")\n",
    "print(len(a.shape), 'D Tensor,', a.shape[0], 'samples,', a.shape[1], 'features,', \\\n",
    "      a.dtype, 'data type.')"
   ]
  },
  {
   "cell_type": "code",
   "execution_count": 3,
   "metadata": {},
   "outputs": [],
   "source": [
    "def view(x):\n",
    "    assert len(x.shape) == 2 # only for 2D tensor\n",
    "    for i in range(x.shape[0]):\n",
    "        for j in range(x.shape[1]):\n",
    "            if j < max(range(x.shape[1])):\n",
    "                print(x[i, j], end=' ')\n",
    "            else:\n",
    "                print(x[i, j])"
   ]
  },
  {
   "cell_type": "markdown",
   "metadata": {},
   "source": [
    "- The relu operation and addition are element-wise operations: operations that are applied independently to each entry in the tensors being considered"
   ]
  },
  {
   "cell_type": "code",
   "execution_count": 4,
   "metadata": {},
   "outputs": [
    {
     "name": "stdout",
     "output_type": "stream",
     "text": [
      "-1 2 3\n",
      "-4 5 6\n",
      "-7 8 9\n",
      "----------------------\n",
      "1 2 3\n",
      "4 5 6\n",
      "7 8 9\n",
      "----------------------\n",
      "0 4 6\n",
      "0 10 12\n",
      "0 16 18\n"
     ]
    }
   ],
   "source": [
    "def add(x, y):\n",
    "    assert len(x.shape) == 2\n",
    "    assert x.shape == y.shape\n",
    "    t = x.copy()\n",
    "\n",
    "    for i in range(x.shape[0]):\n",
    "        for j in range(x.shape[1]):\n",
    "            t[i, j] += y[i, j]\n",
    "    return t\n",
    "view(a)\n",
    "print('----------------------')\n",
    "view(b)\n",
    "print('----------------------')\n",
    "view(add(a, b))"
   ]
  },
  {
   "cell_type": "code",
   "execution_count": 5,
   "metadata": {},
   "outputs": [
    {
     "name": "stdout",
     "output_type": "stream",
     "text": [
      "-1 2 3\n",
      "-4 5 6\n",
      "-7 8 9\n",
      "----------------------\n",
      "0 2 3\n",
      "0 5 6\n",
      "0 8 9\n"
     ]
    }
   ],
   "source": [
    "def relu(x):\n",
    "    assert len(x.shape) == 2\n",
    "    x = x.copy()\n",
    "    for i in range(x.shape[0]):\n",
    "        for j in range(x.shape[1]):\n",
    "            x[i, j] = max(x[i, j], 0)\n",
    "    return x\n",
    "view(a)\n",
    "print('----------------------')\n",
    "view(relu(a))"
   ]
  },
  {
   "cell_type": "code",
   "execution_count": 6,
   "metadata": {},
   "outputs": [
    {
     "name": "stdout",
     "output_type": "stream",
     "text": [
      "-1 2 3\n",
      "-4 5 6\n",
      "-7 8 9\n",
      "----------------------\n",
      "0.2689414213699951 0.8807970779778823 0.9525741268224334\n",
      "0.01798620996209156 0.9933071490757153 0.9975273768433653\n",
      "0.0009110511944006454 0.9996646498695336 0.9998766054240137\n",
      "----------------------\n",
      "0.19661193324148185 0.10499358540350662 0.045176659730912\n",
      "0.017662706213291118 0.006648056670790033 0.002466509291359931\n",
      "0.0009102211801218265 0.00033523767075636815 0.00012337934976493025\n"
     ]
    }
   ],
   "source": [
    "def sigmoid(x, deriv=False):\n",
    "    if deriv:\n",
    "        return x*(1 -x)\n",
    "    return 1/(1+np.exp(-x))\n",
    "view(a)\n",
    "print('----------------------')\n",
    "view(sigmoid(a))\n",
    "print('----------------------')\n",
    "view(sigmoid(sigmoid(a), deriv=True))"
   ]
  },
  {
   "cell_type": "markdown",
   "metadata": {},
   "source": [
    "- Add and Relu built-in in Numpy"
   ]
  },
  {
   "cell_type": "code",
   "execution_count": 7,
   "metadata": {},
   "outputs": [
    {
     "name": "stdout",
     "output_type": "stream",
     "text": [
      "[[ 0  4  6]\n",
      " [ 0 10 12]\n",
      " [ 0 16 18]]\n"
     ]
    }
   ],
   "source": [
    "print(a + b)"
   ]
  },
  {
   "cell_type": "code",
   "execution_count": 8,
   "metadata": {},
   "outputs": [
    {
     "name": "stdout",
     "output_type": "stream",
     "text": [
      "[[0. 2. 3.]\n",
      " [0. 5. 6.]\n",
      " [0. 8. 9.]]\n"
     ]
    }
   ],
   "source": [
    "print(np.maximum(a, 0.))"
   ]
  },
  {
   "cell_type": "markdown",
   "metadata": {},
   "source": [
    "- Addition when the shapes of the two tensors differ:\n",
    "  The smaller tensor will be broadcasted to match the shape of the larger   tensor. Broadcasting consists of two steps:\n",
    "- 1 Axes (called broadcast axes) are added to the smaller tensor to match   the ndim of the larger tensor.\n",
    "- 2 The smaller tensor is repeated alongside these new axes to match the     full shape of the larger tensor."
   ]
  },
  {
   "cell_type": "code",
   "execution_count": 9,
   "metadata": {},
   "outputs": [],
   "source": [
    "def add_matrix_and_vector(x, y):\n",
    "    assert len(x.shape) == 2\n",
    "    assert len(y.shape) == 1\n",
    "    \n",
    "    x = x.copy()\n",
    "    for i in range(x.shape[0]):\n",
    "        for j in range(x.shape[1]):\n",
    "            x[i, j] += y[j]\n",
    "    return x        "
   ]
  },
  {
   "cell_type": "code",
   "execution_count": 10,
   "metadata": {},
   "outputs": [
    {
     "name": "stdout",
     "output_type": "stream",
     "text": [
      "[[-1  2  3]\n",
      " [-4  5  6]\n",
      " [-7  8  9]]\n",
      "----------------------\n",
      "[1 2 3]\n",
      "----------------------\n",
      "[[ 0  4  6]\n",
      " [-3  7  9]\n",
      " [-6 10 12]]\n",
      "----------------------\n",
      "[[ 0  4  6]\n",
      " [-3  7  9]\n",
      " [-6 10 12]]\n"
     ]
    }
   ],
   "source": [
    "print(a)\n",
    "print('----------------------')\n",
    "print(c)\n",
    "print('----------------------')\n",
    "print(add_matrix_and_vector(a, c))\n",
    "print('----------------------')\n",
    "print(a + c)"
   ]
  },
  {
   "cell_type": "markdown",
   "metadata": {},
   "source": [
    " - Broadcasting is possible for two-tensor element-wise operations if one tensor has shape (a, b, … n, n + 1, … m) and the other has shape (n, n + 1, … m). The broadcasting will then automatically happen for axes a through n - 1."
   ]
  },
  {
   "cell_type": "code",
   "execution_count": 11,
   "metadata": {},
   "outputs": [
    {
     "name": "stdout",
     "output_type": "stream",
     "text": [
      "(64, 3, 32, 10)\n",
      "(32, 10)\n",
      "(64, 3, 32, 10)\n"
     ]
    }
   ],
   "source": [
    "x = np.random.random((64, 3, 32, 10))\n",
    "y = np.random.random((32, 10))\n",
    "z = np.maximum(x, y)\n",
    "print(x.shape)\n",
    "print(y.shape)\n",
    "print(z.shape)"
   ]
  },
  {
   "cell_type": "code",
   "execution_count": 15,
   "metadata": {},
   "outputs": [
    {
     "name": "stdout",
     "output_type": "stream",
     "text": [
      "(3, 5)\n",
      "(3, 3, 5)\n",
      "[[1 2 3 4 5]\n",
      " [1 1 1 1 1]\n",
      " [1 1 1 1 1]]\n",
      "----------------------\n",
      "[[[2 2 2 2 2]\n",
      "  [2 2 2 2 2]\n",
      "  [2 2 2 2 2]]\n",
      "\n",
      " [[2 2 2 2 2]\n",
      "  [2 2 2 2 2]\n",
      "  [2 2 2 2 2]]\n",
      "\n",
      " [[2 2 2 2 2]\n",
      "  [2 2 2 2 2]\n",
      "  [2 2 2 2 2]]]\n",
      "----------------------\n",
      "[[[3 4 5 6 7]\n",
      "  [3 3 3 3 3]\n",
      "  [3 3 3 3 3]]\n",
      "\n",
      " [[3 4 5 6 7]\n",
      "  [3 3 3 3 3]\n",
      "  [3 3 3 3 3]]\n",
      "\n",
      " [[3 4 5 6 7]\n",
      "  [3 3 3 3 3]\n",
      "  [3 3 3 3 3]]]\n"
     ]
    }
   ],
   "source": [
    "x = np.array([[1, 2, 3, 4, 5],\n",
    "              [1, 1, 1, 1, 1],\n",
    "              [1, 1, 1, 1, 1]])\n",
    "\n",
    "y = np.array([[[2, 2, 2, 2, 2],\n",
    "               [2, 2, 2, 2, 2],\n",
    "               [2, 2, 2, 2, 2]],\n",
    "              [[2, 2, 2, 2, 2],\n",
    "               [2, 2, 2, 2, 2],\n",
    "               [2, 2, 2, 2, 2]],\n",
    "              [[2, 2, 2, 2, 2],\n",
    "               [2, 2, 2, 2, 2],\n",
    "               [2, 2, 2, 2, 2]]])\n",
    "print(x.shape)\n",
    "print(y.shape)\n",
    "print(x)\n",
    "print('----------------------')\n",
    "print(y)\n",
    "print('----------------------')\n",
    "print(x + y)"
   ]
  },
  {
   "cell_type": "code",
   "execution_count": 16,
   "metadata": {},
   "outputs": [
    {
     "name": "stdout",
     "output_type": "stream",
     "text": [
      "(5,)\n",
      "(3, 3, 5)\n",
      "[1 2 3 4 5]\n",
      "----------------------\n",
      "[[[2 2 2 2 2]\n",
      "  [2 2 2 2 2]\n",
      "  [2 2 2 2 2]]\n",
      "\n",
      " [[2 2 2 2 2]\n",
      "  [2 2 2 2 2]\n",
      "  [2 2 2 2 2]]\n",
      "\n",
      " [[2 2 2 2 2]\n",
      "  [2 2 2 2 2]\n",
      "  [2 2 2 2 2]]]\n",
      "----------------------\n",
      "[[[3 4 5 6 7]\n",
      "  [3 4 5 6 7]\n",
      "  [3 4 5 6 7]]\n",
      "\n",
      " [[3 4 5 6 7]\n",
      "  [3 4 5 6 7]\n",
      "  [3 4 5 6 7]]\n",
      "\n",
      " [[3 4 5 6 7]\n",
      "  [3 4 5 6 7]\n",
      "  [3 4 5 6 7]]]\n"
     ]
    }
   ],
   "source": [
    "x = np.array([1, 2, 3, 4, 5])\n",
    "\n",
    "y = np.array([[[2, 2, 2, 2, 2],\n",
    "               [2, 2, 2, 2, 2],\n",
    "               [2, 2, 2, 2, 2]],\n",
    "              [[2, 2, 2, 2, 2],\n",
    "               [2, 2, 2, 2, 2],\n",
    "               [2, 2, 2, 2, 2]],\n",
    "              [[2, 2, 2, 2, 2],\n",
    "               [2, 2, 2, 2, 2],\n",
    "               [2, 2, 2, 2, 2]]])\n",
    "print(x.shape)\n",
    "print(y.shape)\n",
    "print(x)\n",
    "print('----------------------')\n",
    "print(y)\n",
    "print('----------------------')\n",
    "print(x + y)"
   ]
  },
  {
   "cell_type": "code",
   "execution_count": 14,
   "metadata": {},
   "outputs": [
    {
     "name": "stdout",
     "output_type": "stream",
     "text": [
      "(1,)\n",
      "(3, 3, 5)\n",
      "[1]\n",
      "----------------------\n",
      "[[[2 2 2 2 2]\n",
      "  [2 2 2 2 2]\n",
      "  [2 2 2 2 2]]\n",
      "\n",
      " [[2 2 2 2 2]\n",
      "  [2 2 2 2 2]\n",
      "  [2 2 2 2 2]]\n",
      "\n",
      " [[2 2 2 2 2]\n",
      "  [2 2 2 2 2]\n",
      "  [2 2 2 2 2]]]\n",
      "----------------------\n",
      "[[[3 3 3 3 3]\n",
      "  [3 3 3 3 3]\n",
      "  [3 3 3 3 3]]\n",
      "\n",
      " [[3 3 3 3 3]\n",
      "  [3 3 3 3 3]\n",
      "  [3 3 3 3 3]]\n",
      "\n",
      " [[3 3 3 3 3]\n",
      "  [3 3 3 3 3]\n",
      "  [3 3 3 3 3]]]\n"
     ]
    }
   ],
   "source": [
    "x = np.array([1])\n",
    "\n",
    "y = np.array([[[2, 2, 2, 2, 2],\n",
    "               [2, 2, 2, 2, 2],\n",
    "               [2, 2, 2, 2, 2]],\n",
    "              [[2, 2, 2, 2, 2],\n",
    "               [2, 2, 2, 2, 2],\n",
    "               [2, 2, 2, 2, 2]],\n",
    "              [[2, 2, 2, 2, 2],\n",
    "               [2, 2, 2, 2, 2],\n",
    "               [2, 2, 2, 2, 2]]])\n",
    "print(x.shape)\n",
    "print(y.shape)\n",
    "print(x)\n",
    "print('----------------------')\n",
    "print(y)\n",
    "print('----------------------')\n",
    "print(x + y)"
   ]
  },
  {
   "cell_type": "markdown",
   "metadata": {},
   "source": [
    "- Dot operation(tensor product) Contrary to element-wise operations, it combines entries in the input tensors.\n",
    "- Dot product between two vectors is a scalar and that only vectors with the same number of elements are compatible for a dot product."
   ]
  },
  {
   "cell_type": "code",
   "execution_count": 32,
   "metadata": {},
   "outputs": [],
   "source": [
    "def vector_dot(x, y):\n",
    "    assert len(x.shape) == 1\n",
    "    assert len(y.shape) == 1\n",
    "    assert x.shape[0] == y.shape[0]\n",
    "    z = 0\n",
    "    for i in range(x.shape[0]):\n",
    "        z += x[i] * y[i]\n",
    "    return z"
   ]
  },
  {
   "cell_type": "code",
   "execution_count": 37,
   "metadata": {},
   "outputs": [
    {
     "name": "stdout",
     "output_type": "stream",
     "text": [
      "[2 2 2]\n",
      "----------------------\n",
      "[3 3 3]\n",
      "----------------------\n",
      "18\n",
      "----------------------\n",
      "18\n"
     ]
    }
   ],
   "source": [
    "a = np.array([2, 2, 2])\n",
    "b = np.array([3, 3, 3])\n",
    "\n",
    "print(a)\n",
    "print('----------------------')\n",
    "print(b)\n",
    "print('----------------------')\n",
    "print(vector_dot(a, b))\n",
    "print('----------------------')\n",
    "print(np.dot(a, b))"
   ]
  },
  {
   "cell_type": "markdown",
   "metadata": {},
   "source": [
    "- Dot product between a matrix x and a vector y, which returns a vector where the coefficients are the dot products between y and the rows of x"
   ]
  },
  {
   "cell_type": "code",
   "execution_count": 52,
   "metadata": {},
   "outputs": [],
   "source": [
    "def matrix_vector_dot_1(x, y):\n",
    "    assert len(x.shape) == 2\n",
    "    assert len(y.shape) == 1\n",
    "    assert x.shape[1] == y.shape[0]\n",
    "    \n",
    "    z = np.zeros(x.shape[0])\n",
    "    for i in range(x.shape[0]):\n",
    "        for j in range(x.shape[1]):\n",
    "            z[i] += x[i, j] * y[j]\n",
    "    return z    "
   ]
  },
  {
   "cell_type": "markdown",
   "metadata": {},
   "source": [
    "- The relationship between a matrix-vector product and a vector product"
   ]
  },
  {
   "cell_type": "code",
   "execution_count": 53,
   "metadata": {},
   "outputs": [],
   "source": [
    "def matrix_vector_dot_2(x, y):\n",
    "    z = np.zeros(x.shape[0])\n",
    "    for i in range(x.shape[0]):\n",
    "        z[i] = vector_dot(x[i, :], y)\n",
    "    return z"
   ]
  },
  {
   "cell_type": "code",
   "execution_count": 57,
   "metadata": {},
   "outputs": [
    {
     "name": "stdout",
     "output_type": "stream",
     "text": [
      "[24. 36.]\n",
      "[24. 36.]\n",
      "[24 36]\n"
     ]
    }
   ],
   "source": [
    "a = np.array([[2, 2, 2],[3, 3, 3]])\n",
    "b = np.array([4, 4, 4])\n",
    "print(matrix_vector_dot_1(a, b))\n",
    "print(matrix_vector_dot_2(a, b))\n",
    "print(np.dot(a, b))"
   ]
  },
  {
   "cell_type": "markdown",
   "metadata": {},
   "source": [
    "- When one of the two tensors has an ndim greater than 1, dot is no longer symmetric, dot(x, y) isn’t the same as dot(y, x).\n",
    "- Dot product of two matrices x and y (dot(x, y)) if and only if x.shape[1] == y.shape[0].\n",
    "- The result is a matrix with shape (x.shape[0], y.shape[1]), where the coefficients are the vector products between the rows of x and the columns of y."
   ]
  },
  {
   "cell_type": "code",
   "execution_count": null,
   "metadata": {},
   "outputs": [],
   "source": []
  }
 ],
 "metadata": {
  "kernelspec": {
   "display_name": "Python 3",
   "language": "python",
   "name": "python3"
  },
  "language_info": {
   "codemirror_mode": {
    "name": "ipython",
    "version": 3
   },
   "file_extension": ".py",
   "mimetype": "text/x-python",
   "name": "python",
   "nbconvert_exporter": "python",
   "pygments_lexer": "ipython3",
   "version": "3.6.7"
  }
 },
 "nbformat": 4,
 "nbformat_minor": 2
}
