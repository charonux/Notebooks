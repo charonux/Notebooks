{
 "cells": [
  {
   "cell_type": "code",
   "execution_count": 1,
   "metadata": {},
   "outputs": [],
   "source": [
    "from tensorflow.keras.datasets import mnist\n",
    "from tensorflow.keras.utils import to_categorical\n",
    "from tensorflow.keras import models\n",
    "from tensorflow.keras import layers\n",
    "from tensorflow.keras import optimizers\n",
    "from tensorflow.keras import losses\n",
    "from tensorflow.keras import metrics"
   ]
  },
  {
   "cell_type": "code",
   "execution_count": 2,
   "metadata": {},
   "outputs": [
    {
     "name": "stdout",
     "output_type": "stream",
     "text": [
      "Images and labels data type:\n",
      "uint8\n",
      "uint8\n",
      "Train images and labels data shape:\n",
      "(60000, 28, 28)\n",
      "(60000,)\n",
      "Test images and labels data shape:\n",
      "(10000, 28, 28)\n",
      "(10000,)\n"
     ]
    }
   ],
   "source": [
    "# Load the data\n",
    "(train_images, train_labels), (test_images, test_labels) = mnist.load_data()\n",
    "# Analise data\n",
    "print('Images and labels data type:')\n",
    "print(train_images.dtype)\n",
    "print(train_labels.dtype)\n",
    "\n",
    "print('Train images and labels data shape:')\n",
    "print(train_images.shape)\n",
    "print(train_labels.shape)\n",
    "\n",
    "print('Test images and labels data shape:')\n",
    "print(test_images.shape)\n",
    "print(test_labels.shape)"
   ]
  },
  {
   "cell_type": "code",
   "execution_count": 3,
   "metadata": {},
   "outputs": [
    {
     "name": "stdout",
     "output_type": "stream",
     "text": [
      "Images data new shape:\n",
      "(60000, 784)\n",
      "Images data new type:\n",
      "float32\n",
      "Labels data example:\n",
      "7\n",
      "Labels data example categorical:\n",
      "[0. 0. 0. 0. 0. 0. 0. 1. 0. 0.]\n"
     ]
    }
   ],
   "source": [
    "# Preparing image data\n",
    "train_images = train_images.reshape((60000, 28 * 28))\n",
    "train_images = train_images.astype('float32') / 255\n",
    "\n",
    "test_images = test_images.reshape((10000, 28 * 28))\n",
    "test_images = test_images.astype('float32') / 255\n",
    "\n",
    "print('Images data new shape:')\n",
    "print(train_images.shape)\n",
    "print('Images data new type:')\n",
    "print(train_images.dtype)\n",
    "\n",
    "# Preparing labels data\n",
    "print('Labels data example:')\n",
    "print(test_labels[0])\n",
    "train_labels = to_categorical(train_labels)\n",
    "test_labels = to_categorical(test_labels)\n",
    "print('Labels data example categorical:')\n",
    "print(test_labels[0])"
   ]
  },
  {
   "cell_type": "code",
   "execution_count": 4,
   "metadata": {},
   "outputs": [
    {
     "name": "stdout",
     "output_type": "stream",
     "text": [
      "Epoch 1/5\n",
      "60000/60000 [==============================] - 3s 50us/step - loss: 0.2572 - binary_accuracy: 0.9854\n",
      "Epoch 2/5\n",
      "60000/60000 [==============================] - 3s 49us/step - loss: 0.1055 - binary_accuracy: 0.9938\n",
      "Epoch 3/5\n",
      "60000/60000 [==============================] - 3s 49us/step - loss: 0.0697 - binary_accuracy: 0.9959\n",
      "Epoch 4/5\n",
      "60000/60000 [==============================] - 3s 49us/step - loss: 0.0499 - binary_accuracy: 0.9970\n",
      "Epoch 5/5\n",
      "60000/60000 [==============================] - 3s 49us/step - loss: 0.0388 - binary_accuracy: 0.9976\n",
      "10000/10000 [==============================] - 0s 38us/step\n",
      "Accuracy on test data 0.9955399965286255\n"
     ]
    }
   ],
   "source": [
    "# Network architecture\n",
    "network = models.Sequential()\n",
    "network.add(layers.Dense(512, activation='relu', input_shape=(28 * 28,)))\n",
    "network.add(layers.Dense(10, activation='softmax'))\n",
    "# Network compilation\n",
    "network.compile(optimizer=optimizers.RMSprop(lr=0.001),\n",
    "                loss=losses.categorical_crossentropy,\n",
    "                metrics=[metrics.binary_accuracy])\n",
    "# Network train\n",
    "network.fit(train_images, train_labels, epochs=5, batch_size=128)\n",
    "# Check performance on test data\n",
    "test_loss, test_accuracy = network.evaluate(test_images, test_labels)\n",
    "print('Accuracy on test data', test_accuracy)"
   ]
  },
  {
   "cell_type": "code",
   "execution_count": null,
   "metadata": {},
   "outputs": [],
   "source": []
  }
 ],
 "metadata": {
  "kernelspec": {
   "display_name": "Python 3",
   "language": "python",
   "name": "python3"
  },
  "language_info": {
   "codemirror_mode": {
    "name": "ipython",
    "version": 3
   },
   "file_extension": ".py",
   "mimetype": "text/x-python",
   "name": "python",
   "nbconvert_exporter": "python",
   "pygments_lexer": "ipython3",
   "version": "3.6.7"
  }
 },
 "nbformat": 4,
 "nbformat_minor": 2
}
