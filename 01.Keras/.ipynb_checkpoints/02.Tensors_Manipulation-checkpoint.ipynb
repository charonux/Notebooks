{
 "cells": [
  {
   "cell_type": "code",
   "execution_count": 2,
   "metadata": {},
   "outputs": [],
   "source": [
    "from tensorflow.keras.datasets import mnist"
   ]
  },
  {
   "cell_type": "code",
   "execution_count": 3,
   "metadata": {},
   "outputs": [
    {
     "name": "stdout",
     "output_type": "stream",
     "text": [
      "MNIST train_images shape:\n",
      "(60000, 28, 28)\n"
     ]
    }
   ],
   "source": [
    "(train_images, train_labels), (test_images, test_labels) = mnist.load_data()\n",
    "\n",
    "print('MNIST train_images shape:')\n",
    "print(train_images.shape)"
   ]
  },
  {
   "cell_type": "markdown",
   "metadata": {},
   "source": []
  },
  {
   "cell_type": "code",
   "execution_count": null,
   "metadata": {},
   "outputs": [],
   "source": [
    "# Tensor Slicing\n",
    "my_slice = train_images[10:100]\n",
    "print('Slice/select digits from 10 to 100:')\n",
    "print(my_slice.shape)\n",
    "my_slice = train_images[:, 14:, 14:]\n",
    "print('Select 14 × 14 pixels in the bottom-right corner of all images:')\n",
    "print(my_slice.shape)\n",
    "my_slice = train_images[:, 7:-7, 7:-7]\n",
    "print('Crop the images to patches of 14 × 14 pixels centered in the middle:')\n",
    "print(my_slice.shape)\n",
    "# Batches\n",
    "batch = train_images[:128]\n",
    "print('First batch:')\n",
    "print(batch.shape)\n",
    "batch = train_images[128:256]\n",
    "print('Second batch:')\n",
    "print(batch.shape)\n",
    "batch = train_images[:128]\n",
    "print('Last batch:')\n",
    "print(batch.shape)\n",
    "batch = train_images[:-128]\n",
    "print('Entire dataset without last batch:')\n",
    "print(batch.shape)"
   ]
  },
  {
   "cell_type": "code",
   "execution_count": null,
   "metadata": {},
   "outputs": [],
   "source": []
  }
 ],
 "metadata": {
  "kernelspec": {
   "display_name": "Python 3",
   "language": "python",
   "name": "python3"
  },
  "language_info": {
   "codemirror_mode": {
    "name": "ipython",
    "version": 3
   },
   "file_extension": ".py",
   "mimetype": "text/x-python",
   "name": "python",
   "nbconvert_exporter": "python",
   "pygments_lexer": "ipython3",
   "version": "3.6.7"
  }
 },
 "nbformat": 4,
 "nbformat_minor": 2
}
