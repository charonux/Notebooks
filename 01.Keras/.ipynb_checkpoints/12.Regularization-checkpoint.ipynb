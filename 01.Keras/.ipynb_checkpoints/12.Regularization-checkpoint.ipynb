{
 "cells": [
  {
   "cell_type": "code",
   "execution_count": 17,
   "metadata": {},
   "outputs": [],
   "source": [
    "import numpy as np\n",
    "import matplotlib.pyplot as plt\n",
    "import tensorflow as tf\n",
    "from tensorflow.keras.datasets import imdb\n",
    "from tensorflow.keras import models\n",
    "from tensorflow.keras import layers\n",
    "from tensorflow.keras import optimizers\n",
    "from tensorflow.keras import losses\n",
    "from tensorflow.keras import metrics\n",
    "from tensorflow.keras import regularizers"
   ]
  },
  {
   "cell_type": "code",
   "execution_count": 2,
   "metadata": {},
   "outputs": [
    {
     "name": "stdout",
     "output_type": "stream",
     "text": [
      "1.12.0\n"
     ]
    }
   ],
   "source": [
    "print(tf.__version__)"
   ]
  },
  {
   "cell_type": "markdown",
   "metadata": {},
   "source": [
    "# Load the IMDB dataset"
   ]
  },
  {
   "cell_type": "code",
   "execution_count": 3,
   "metadata": {},
   "outputs": [],
   "source": [
    "(train_data, train_labels), (test_data, test_labels) = imdb.load_data(num_words=10000)"
   ]
  },
  {
   "cell_type": "markdown",
   "metadata": {},
   "source": [
    "# Preparing the data"
   ]
  },
  {
   "cell_type": "code",
   "execution_count": 4,
   "metadata": {},
   "outputs": [],
   "source": [
    "# Encoding the integer sequences into a binary matrix\n",
    "def vectorize_sequences(sequences, dimension=10000):\n",
    "    results = np.zeros((len(sequences), dimension))\n",
    "    for i, sequence in enumerate(sequences):\n",
    "        results[i, sequence] = 1.\n",
    "    return results\n",
    "# Vectorized training and test data\n",
    "x_train = vectorize_sequences(train_data)\n",
    "x_test = vectorize_sequences(test_data)\n",
    "# Vectorize labels\n",
    "y_train = np.asarray(train_labels).astype('float32')\n",
    "y_test = np.asarray(test_labels).astype('float32')"
   ]
  },
  {
   "cell_type": "markdown",
   "metadata": {},
   "source": [
    "# 1. Reducing the network's size"
   ]
  },
  {
   "cell_type": "code",
   "execution_count": 5,
   "metadata": {},
   "outputs": [],
   "source": [
    "original_model = models.Sequential()\n",
    "original_model.add(layers.Dense(16, activation=tf.nn.relu, input_shape=(10000,)))\n",
    "original_model.add(layers.Dense(16, activation=tf.nn.relu))\n",
    "original_model.add(layers.Dense(1, activation=tf.nn.sigmoid))\n",
    "\n",
    "original_model.compile(optimizer=optimizers.RMSprop(lr=0.001),\n",
    "              loss=losses.binary_crossentropy,\n",
    "              metrics=[metrics.binary_accuracy])"
   ]
  },
  {
   "cell_type": "code",
   "execution_count": 6,
   "metadata": {},
   "outputs": [],
   "source": [
    "smaller_model = models.Sequential()\n",
    "smaller_model.add(layers.Dense(4, activation=tf.nn.relu, input_shape=(10000,)))\n",
    "smaller_model.add(layers.Dense(4, activation=tf.nn.relu))\n",
    "smaller_model.add(layers.Dense(1, activation=tf.nn.sigmoid))\n",
    "\n",
    "smaller_model.compile(optimizer=optimizers.RMSprop(lr=0.001),\n",
    "              loss=losses.binary_crossentropy,\n",
    "              metrics=[metrics.binary_accuracy])"
   ]
  },
  {
   "cell_type": "code",
   "execution_count": 7,
   "metadata": {
    "scrolled": true
   },
   "outputs": [
    {
     "name": "stdout",
     "output_type": "stream",
     "text": [
      "Train on 25000 samples, validate on 25000 samples\n",
      "Epoch 1/20\n",
      "25000/25000 [==============================] - 3s 125us/step - loss: 0.4331 - binary_accuracy: 0.8245 - val_loss: 0.3257 - val_binary_accuracy: 0.8820\n",
      "Epoch 2/20\n",
      "25000/25000 [==============================] - 3s 115us/step - loss: 0.2493 - binary_accuracy: 0.9126 - val_loss: 0.2987 - val_binary_accuracy: 0.8805\n",
      "Epoch 3/20\n",
      "25000/25000 [==============================] - 3s 115us/step - loss: 0.1959 - binary_accuracy: 0.9302 - val_loss: 0.2822 - val_binary_accuracy: 0.8873\n",
      "Epoch 4/20\n",
      "25000/25000 [==============================] - 3s 115us/step - loss: 0.1640 - binary_accuracy: 0.9421 - val_loss: 0.3247 - val_binary_accuracy: 0.8728\n",
      "Epoch 5/20\n",
      "25000/25000 [==============================] - 3s 115us/step - loss: 0.1408 - binary_accuracy: 0.9503 - val_loss: 0.3270 - val_binary_accuracy: 0.8743\n",
      "Epoch 6/20\n",
      "25000/25000 [==============================] - 3s 115us/step - loss: 0.1228 - binary_accuracy: 0.9572 - val_loss: 0.3539 - val_binary_accuracy: 0.8700\n",
      "Epoch 7/20\n",
      "25000/25000 [==============================] - 3s 115us/step - loss: 0.1060 - binary_accuracy: 0.9646 - val_loss: 0.3605 - val_binary_accuracy: 0.8725\n",
      "Epoch 8/20\n",
      "25000/25000 [==============================] - 3s 115us/step - loss: 0.0929 - binary_accuracy: 0.9685 - val_loss: 0.4103 - val_binary_accuracy: 0.8634\n",
      "Epoch 9/20\n",
      "25000/25000 [==============================] - 3s 115us/step - loss: 0.0811 - binary_accuracy: 0.9732 - val_loss: 0.4629 - val_binary_accuracy: 0.8568\n",
      "Epoch 10/20\n",
      "25000/25000 [==============================] - 3s 115us/step - loss: 0.0701 - binary_accuracy: 0.9777 - val_loss: 0.4468 - val_binary_accuracy: 0.8641\n",
      "Epoch 11/20\n",
      "25000/25000 [==============================] - 3s 115us/step - loss: 0.0622 - binary_accuracy: 0.9796 - val_loss: 0.4980 - val_binary_accuracy: 0.8582\n",
      "Epoch 12/20\n",
      "25000/25000 [==============================] - 3s 115us/step - loss: 0.0512 - binary_accuracy: 0.9853 - val_loss: 0.5082 - val_binary_accuracy: 0.8608\n",
      "Epoch 13/20\n",
      "25000/25000 [==============================] - 3s 115us/step - loss: 0.0457 - binary_accuracy: 0.9868 - val_loss: 0.5404 - val_binary_accuracy: 0.8591\n",
      "Epoch 14/20\n",
      "25000/25000 [==============================] - 3s 115us/step - loss: 0.0372 - binary_accuracy: 0.9897 - val_loss: 0.5788 - val_binary_accuracy: 0.8556\n",
      "Epoch 15/20\n",
      "25000/25000 [==============================] - 3s 115us/step - loss: 0.0298 - binary_accuracy: 0.9924 - val_loss: 0.6384 - val_binary_accuracy: 0.8532\n",
      "Epoch 16/20\n",
      "25000/25000 [==============================] - 3s 115us/step - loss: 0.0273 - binary_accuracy: 0.9924 - val_loss: 0.6507 - val_binary_accuracy: 0.8544\n",
      "Epoch 17/20\n",
      "25000/25000 [==============================] - 3s 115us/step - loss: 0.0205 - binary_accuracy: 0.9948 - val_loss: 0.7052 - val_binary_accuracy: 0.8512\n",
      "Epoch 18/20\n",
      "25000/25000 [==============================] - 3s 115us/step - loss: 0.0182 - binary_accuracy: 0.9956 - val_loss: 0.7878 - val_binary_accuracy: 0.8452\n",
      "Epoch 19/20\n",
      "25000/25000 [==============================] - 3s 115us/step - loss: 0.0150 - binary_accuracy: 0.9967 - val_loss: 0.7892 - val_binary_accuracy: 0.8497\n",
      "Epoch 20/20\n",
      "25000/25000 [==============================] - 3s 115us/step - loss: 0.0114 - binary_accuracy: 0.9972 - val_loss: 0.8010 - val_binary_accuracy: 0.8522\n"
     ]
    }
   ],
   "source": [
    "original_hist = original_model.fit(x_train,\n",
    "                    y_train,\n",
    "                    epochs=20,\n",
    "                    batch_size=512,\n",
    "                    validation_data=(x_test, y_test))"
   ]
  },
  {
   "cell_type": "code",
   "execution_count": 8,
   "metadata": {
    "scrolled": true
   },
   "outputs": [
    {
     "name": "stdout",
     "output_type": "stream",
     "text": [
      "Train on 25000 samples, validate on 25000 samples\n",
      "Epoch 1/20\n",
      "25000/25000 [==============================] - 3s 118us/step - loss: 0.6022 - binary_accuracy: 0.7145 - val_loss: 0.5520 - val_binary_accuracy: 0.8116\n",
      "Epoch 2/20\n",
      "25000/25000 [==============================] - 3s 111us/step - loss: 0.4956 - binary_accuracy: 0.8434 - val_loss: 0.4785 - val_binary_accuracy: 0.8560\n",
      "Epoch 3/20\n",
      "25000/25000 [==============================] - 3s 111us/step - loss: 0.4070 - binary_accuracy: 0.8941 - val_loss: 0.4022 - val_binary_accuracy: 0.8770\n",
      "Epoch 4/20\n",
      "25000/25000 [==============================] - 3s 111us/step - loss: 0.3194 - binary_accuracy: 0.9177 - val_loss: 0.3408 - val_binary_accuracy: 0.8834\n",
      "Epoch 5/20\n",
      "25000/25000 [==============================] - 3s 111us/step - loss: 0.2546 - binary_accuracy: 0.9302 - val_loss: 0.3048 - val_binary_accuracy: 0.8879\n",
      "Epoch 6/20\n",
      "25000/25000 [==============================] - 3s 111us/step - loss: 0.2130 - binary_accuracy: 0.9367 - val_loss: 0.2903 - val_binary_accuracy: 0.8874\n",
      "Epoch 7/20\n",
      "25000/25000 [==============================] - 3s 111us/step - loss: 0.1866 - binary_accuracy: 0.9428 - val_loss: 0.2840 - val_binary_accuracy: 0.8884\n",
      "Epoch 8/20\n",
      "25000/25000 [==============================] - 3s 111us/step - loss: 0.1689 - binary_accuracy: 0.9478 - val_loss: 0.2877 - val_binary_accuracy: 0.8857\n",
      "Epoch 9/20\n",
      "25000/25000 [==============================] - 3s 111us/step - loss: 0.1545 - binary_accuracy: 0.9518 - val_loss: 0.2898 - val_binary_accuracy: 0.8859\n",
      "Epoch 10/20\n",
      "25000/25000 [==============================] - 3s 111us/step - loss: 0.1435 - binary_accuracy: 0.9555 - val_loss: 0.3001 - val_binary_accuracy: 0.8820\n",
      "Epoch 11/20\n",
      "25000/25000 [==============================] - 3s 111us/step - loss: 0.1329 - binary_accuracy: 0.9589 - val_loss: 0.3049 - val_binary_accuracy: 0.8825\n",
      "Epoch 12/20\n",
      "25000/25000 [==============================] - 3s 111us/step - loss: 0.1243 - binary_accuracy: 0.9618 - val_loss: 0.3183 - val_binary_accuracy: 0.8784\n",
      "Epoch 13/20\n",
      "25000/25000 [==============================] - 3s 111us/step - loss: 0.1166 - binary_accuracy: 0.9644 - val_loss: 0.3280 - val_binary_accuracy: 0.8772\n",
      "Epoch 14/20\n",
      "25000/25000 [==============================] - 3s 111us/step - loss: 0.1096 - binary_accuracy: 0.9674 - val_loss: 0.3363 - val_binary_accuracy: 0.8762\n",
      "Epoch 15/20\n",
      "25000/25000 [==============================] - 3s 111us/step - loss: 0.1036 - binary_accuracy: 0.9686 - val_loss: 0.3474 - val_binary_accuracy: 0.8743\n",
      "Epoch 16/20\n",
      "25000/25000 [==============================] - 3s 111us/step - loss: 0.0972 - binary_accuracy: 0.9714 - val_loss: 0.3598 - val_binary_accuracy: 0.8723\n",
      "Epoch 17/20\n",
      "25000/25000 [==============================] - 3s 113us/step - loss: 0.0921 - binary_accuracy: 0.9726 - val_loss: 0.3741 - val_binary_accuracy: 0.8703\n",
      "Epoch 18/20\n",
      "25000/25000 [==============================] - 3s 111us/step - loss: 0.0871 - binary_accuracy: 0.9749 - val_loss: 0.3919 - val_binary_accuracy: 0.8677\n",
      "Epoch 19/20\n",
      "25000/25000 [==============================] - 3s 111us/step - loss: 0.0826 - binary_accuracy: 0.9762 - val_loss: 0.3992 - val_binary_accuracy: 0.8687\n",
      "Epoch 20/20\n",
      "25000/25000 [==============================] - 3s 111us/step - loss: 0.0784 - binary_accuracy: 0.9785 - val_loss: 0.4125 - val_binary_accuracy: 0.8672\n"
     ]
    }
   ],
   "source": [
    "smaller_model_hist = smaller_model.fit(x_train, y_train,\n",
    "                    epochs=20,\n",
    "                    batch_size=512,\n",
    "                    validation_data=(x_test, y_test))"
   ]
  },
  {
   "cell_type": "code",
   "execution_count": 9,
   "metadata": {},
   "outputs": [
    {
     "name": "stdout",
     "output_type": "stream",
     "text": [
      "dict_keys(['val_loss', 'val_binary_accuracy', 'loss', 'binary_accuracy'])\n"
     ]
    }
   ],
   "source": [
    "history_dict = original_hist.history\n",
    "print(history_dict.keys())"
   ]
  },
  {
   "cell_type": "code",
   "execution_count": 11,
   "metadata": {},
   "outputs": [],
   "source": [
    "epochs = range(1,21)\n",
    "original_val_loss = original_hist.history['val_loss']\n",
    "smaller_model_val_loss = smaller_model_hist.history['val_loss']"
   ]
  },
  {
   "cell_type": "code",
   "execution_count": 12,
   "metadata": {},
   "outputs": [
    {
     "data": {
      "image/png": "[encoded data removed]",
      "text/plain": [
       "<Figure size 432x288 with 1 Axes>"
      ]
     },
     "metadata": {
      "needs_background": "light"
     },
     "output_type": "display_data"
    }
   ],
   "source": [
    "# b+ is for \"blue cross\"\n",
    "plt.plot(epochs, original_val_loss, 'b+', label='Original model')\n",
    "# \"bo\" is for \"blue dot\"\n",
    "plt.plot(epochs, smaller_model_val_loss, 'bo', label='Smaller model')\n",
    "plt.xlabel('Epochs')\n",
    "plt.ylabel('Validation loss')\n",
    "plt.legend()\n",
    "\n",
    "plt.show()"
   ]
  },
  {
   "cell_type": "markdown",
   "metadata": {},
   "source": [
    "- The smaller network starts overfitting later than the reference network (after six epochs rather than four), and its performance degrades more slowly once it starts overfitting."
   ]
  },
  {
   "cell_type": "code",
   "execution_count": 13,
   "metadata": {},
   "outputs": [],
   "source": [
    "bigger_model = models.Sequential()\n",
    "bigger_model.add(layers.Dense(512, activation=tf.nn.relu, input_shape=(10000,)))\n",
    "bigger_model.add(layers.Dense(512, activation=tf.nn.relu))\n",
    "bigger_model.add(layers.Dense(1, activation=tf.nn.sigmoid))\n",
    "\n",
    "bigger_model.compile(optimizer=optimizers.RMSprop(lr=0.001),\n",
    "              loss=losses.binary_crossentropy,\n",
    "              metrics=[metrics.binary_accuracy])"
   ]
  },
  {
   "cell_type": "code",
   "execution_count": 14,
   "metadata": {
    "scrolled": true
   },
   "outputs": [
    {
     "name": "stdout",
     "output_type": "stream",
     "text": [
      "Train on 25000 samples, validate on 25000 samples\n",
      "Epoch 1/20\n",
      "25000/25000 [==============================] - 13s 530us/step - loss: 0.4590 - binary_accuracy: 0.7927 - val_loss: 0.2909 - val_binary_accuracy: 0.8815\n",
      "Epoch 2/20\n",
      "25000/25000 [==============================] - 13s 503us/step - loss: 0.2211 - binary_accuracy: 0.9118 - val_loss: 0.3106 - val_binary_accuracy: 0.8716\n",
      "Epoch 3/20\n",
      "25000/25000 [==============================] - 13s 508us/step - loss: 0.1351 - binary_accuracy: 0.9496 - val_loss: 0.2940 - val_binary_accuracy: 0.8860\n",
      "Epoch 4/20\n",
      "25000/25000 [==============================] - 12s 500us/step - loss: 0.0653 - binary_accuracy: 0.9809 - val_loss: 0.4695 - val_binary_accuracy: 0.8631\n",
      "Epoch 5/20\n",
      "25000/25000 [==============================] - 12s 487us/step - loss: 0.0619 - binary_accuracy: 0.9883 - val_loss: 0.4748 - val_binary_accuracy: 0.8813\n",
      "Epoch 6/20\n",
      "25000/25000 [==============================] - 13s 505us/step - loss: 0.0494 - binary_accuracy: 0.9897 - val_loss: 0.5110 - val_binary_accuracy: 0.8793\n",
      "Epoch 7/20\n",
      "25000/25000 [==============================] - 13s 502us/step - loss: 9.3776e-04 - binary_accuracy: 1.0000 - val_loss: 0.7024 - val_binary_accuracy: 0.8786\n",
      "Epoch 8/20\n",
      "25000/25000 [==============================] - 12s 499us/step - loss: 0.0913 - binary_accuracy: 0.9891 - val_loss: 0.7432 - val_binary_accuracy: 0.8716\n",
      "Epoch 9/20\n",
      "25000/25000 [==============================] - 13s 502us/step - loss: 3.0204e-04 - binary_accuracy: 1.0000 - val_loss: 0.7344 - val_binary_accuracy: 0.8763\n",
      "Epoch 10/20\n",
      "25000/25000 [==============================] - 12s 495us/step - loss: 4.9269e-05 - binary_accuracy: 1.0000 - val_loss: 0.8372 - val_binary_accuracy: 0.8786\n",
      "Epoch 11/20\n",
      "25000/25000 [==============================] - 12s 479us/step - loss: 0.0921 - binary_accuracy: 0.9910 - val_loss: 0.8617 - val_binary_accuracy: 0.8774\n",
      "Epoch 12/20\n",
      "25000/25000 [==============================] - 12s 474us/step - loss: 2.0978e-05 - binary_accuracy: 1.0000 - val_loss: 0.8734 - val_binary_accuracy: 0.8770\n",
      "Epoch 13/20\n",
      "25000/25000 [==============================] - 12s 465us/step - loss: 5.2998e-06 - binary_accuracy: 1.0000 - val_loss: 0.9139 - val_binary_accuracy: 0.8774\n",
      "Epoch 14/20\n",
      "25000/25000 [==============================] - 12s 467us/step - loss: 1.9069e-06 - binary_accuracy: 1.0000 - val_loss: 0.9743 - val_binary_accuracy: 0.8776\n",
      "Epoch 15/20\n",
      "25000/25000 [==============================] - 12s 472us/step - loss: 5.8905e-07 - binary_accuracy: 1.0000 - val_loss: 1.0201 - val_binary_accuracy: 0.8775\n",
      "Epoch 16/20\n",
      "25000/25000 [==============================] - 12s 473us/step - loss: 2.0893e-07 - binary_accuracy: 1.0000 - val_loss: 1.0735 - val_binary_accuracy: 0.8782\n",
      "Epoch 17/20\n",
      "25000/25000 [==============================] - 12s 473us/step - loss: 1.3272e-07 - binary_accuracy: 1.0000 - val_loss: 1.0990 - val_binary_accuracy: 0.8784\n",
      "Epoch 18/20\n",
      "25000/25000 [==============================] - 12s 478us/step - loss: 1.1890e-07 - binary_accuracy: 1.0000 - val_loss: 1.1125 - val_binary_accuracy: 0.8782\n",
      "Epoch 19/20\n",
      "25000/25000 [==============================] - 12s 478us/step - loss: 1.1463e-07 - binary_accuracy: 1.0000 - val_loss: 1.1209 - val_binary_accuracy: 0.8780\n",
      "Epoch 20/20\n",
      "25000/25000 [==============================] - 12s 496us/step - loss: 1.1282e-07 - binary_accuracy: 1.0000 - val_loss: 1.1274 - val_binary_accuracy: 0.8779\n"
     ]
    }
   ],
   "source": [
    "bigger_model_hist = bigger_model.fit(x_train, y_train,\n",
    "                                     epochs=20,\n",
    "                                     batch_size=512,\n",
    "                                     validation_data=(x_test, y_test))"
   ]
  },
  {
   "cell_type": "code",
   "execution_count": 15,
   "metadata": {},
   "outputs": [
    {
     "data": {
      "image/png": "[encoded data removed]",
      "text/plain": [
       "<Figure size 432x288 with 1 Axes>"
      ]
     },
     "metadata": {
      "needs_background": "light"
     },
     "output_type": "display_data"
    }
   ],
   "source": [
    "bigger_model_val_loss = bigger_model_hist.history['val_loss']\n",
    "\n",
    "plt.plot(epochs, original_val_loss, 'b+', label='Original model')\n",
    "plt.plot(epochs, bigger_model_val_loss, 'bo', label='Bigger model')\n",
    "plt.xlabel('Epochs')\n",
    "plt.ylabel('Validation loss')\n",
    "plt.legend()\n",
    "\n",
    "plt.show()"
   ]
  },
  {
   "cell_type": "markdown",
   "metadata": {},
   "source": [
    "- The bigger network starts overfitting almost immediately, after just one epoch, and it overfits much more severely. Its validation loss is also noisier."
   ]
  },
  {
   "cell_type": "code",
   "execution_count": 16,
   "metadata": {},
   "outputs": [
    {
     "data": {
      "image/png": "[encoded data removed]",
      "text/plain": [
       "<Figure size 432x288 with 1 Axes>"
      ]
     },
     "metadata": {
      "needs_background": "light"
     },
     "output_type": "display_data"
    }
   ],
   "source": [
    "original_train_loss = original_hist.history['loss']\n",
    "bigger_model_train_loss = bigger_model_hist.history['loss']\n",
    "\n",
    "plt.plot(epochs, original_train_loss, 'b+', label='Original model')\n",
    "plt.plot(epochs, bigger_model_train_loss, 'bo', label='Bigger model')\n",
    "plt.xlabel('Epochs')\n",
    "plt.ylabel('Training loss')\n",
    "plt.legend()\n",
    "\n",
    "plt.show()"
   ]
  },
  {
   "cell_type": "markdown",
   "metadata": {},
   "source": [
    "- The bigger network gets its training loss near zero very quickly. The more capacity the network has, the more quickly it can model the training data (resulting in a low training loss), but the more susceptible it is to overfitting (resulting in a large difference between the training and validation loss). "
   ]
  },
  {
   "cell_type": "markdown",
   "metadata": {},
   "source": [
    "# 2. Adding weight regularization"
   ]
  },
  {
   "cell_type": "code",
   "execution_count": 18,
   "metadata": {},
   "outputs": [],
   "source": [
    "l2_model = models.Sequential()\n",
    "l2_model.add(layers.Dense(16, kernel_regularizer=regularizers.l2(0.001),\n",
    "                          activation=tf.nn.relu,\n",
    "                          input_shape=(10000,)))\n",
    "l2_model.add(layers.Dense(16, kernel_regularizer=regularizers.l2(0.001),\n",
    "                          activation=tf.nn.relu))\n",
    "l2_model.add(layers.Dense(1, activation=tf.nn.sigmoid))"
   ]
  },
  {
   "cell_type": "code",
   "execution_count": 19,
   "metadata": {},
   "outputs": [],
   "source": [
    "l2_model.compile(optimizer=optimizers.RMSprop(lr=0.001),\n",
    "              loss=losses.binary_crossentropy,\n",
    "              metrics=[metrics.binary_accuracy])"
   ]
  },
  {
   "cell_type": "code",
   "execution_count": 20,
   "metadata": {
    "scrolled": true
   },
   "outputs": [
    {
     "name": "stdout",
     "output_type": "stream",
     "text": [
      "Train on 25000 samples, validate on 25000 samples\n",
      "Epoch 1/20\n",
      "25000/25000 [==============================] - 3s 111us/step - loss: 0.5097 - binary_accuracy: 0.8192 - val_loss: 0.4059 - val_binary_accuracy: 0.8697\n",
      "Epoch 2/20\n",
      "25000/25000 [==============================] - 3s 102us/step - loss: 0.3307 - binary_accuracy: 0.9026 - val_loss: 0.3395 - val_binary_accuracy: 0.8894\n",
      "Epoch 3/20\n",
      "25000/25000 [==============================] - 2s 95us/step - loss: 0.2814 - binary_accuracy: 0.9179 - val_loss: 0.3313 - val_binary_accuracy: 0.8898\n",
      "Epoch 4/20\n",
      "25000/25000 [==============================] - 3s 101us/step - loss: 0.2598 - binary_accuracy: 0.9253 - val_loss: 0.3346 - val_binary_accuracy: 0.8877\n",
      "Epoch 5/20\n",
      "25000/25000 [==============================] - 3s 100us/step - loss: 0.2450 - binary_accuracy: 0.9318 - val_loss: 0.3545 - val_binary_accuracy: 0.8777\n",
      "Epoch 6/20\n",
      "25000/25000 [==============================] - 2s 92us/step - loss: 0.2364 - binary_accuracy: 0.9348 - val_loss: 0.3461 - val_binary_accuracy: 0.8832\n",
      "Epoch 7/20\n",
      "25000/25000 [==============================] - 2s 92us/step - loss: 0.2276 - binary_accuracy: 0.9372 - val_loss: 0.3675 - val_binary_accuracy: 0.8761\n",
      "Epoch 8/20\n",
      "25000/25000 [==============================] - 2s 94us/step - loss: 0.2223 - binary_accuracy: 0.9390 - val_loss: 0.3762 - val_binary_accuracy: 0.8728\n",
      "Epoch 9/20\n",
      "25000/25000 [==============================] - 2s 94us/step - loss: 0.2180 - binary_accuracy: 0.9426 - val_loss: 0.3648 - val_binary_accuracy: 0.8780\n",
      "Epoch 10/20\n",
      "25000/25000 [==============================] - 3s 100us/step - loss: 0.2143 - binary_accuracy: 0.9430 - val_loss: 0.3811 - val_binary_accuracy: 0.8736\n",
      "Epoch 11/20\n",
      "25000/25000 [==============================] - 2s 94us/step - loss: 0.2070 - binary_accuracy: 0.9458 - val_loss: 0.4301 - val_binary_accuracy: 0.8573\n",
      "Epoch 12/20\n",
      "25000/25000 [==============================] - 3s 101us/step - loss: 0.2079 - binary_accuracy: 0.9456 - val_loss: 0.3835 - val_binary_accuracy: 0.8736\n",
      "Epoch 13/20\n",
      "25000/25000 [==============================] - 2s 92us/step - loss: 0.2041 - binary_accuracy: 0.9474 - val_loss: 0.4061 - val_binary_accuracy: 0.8674\n",
      "Epoch 14/20\n",
      "25000/25000 [==============================] - 2s 95us/step - loss: 0.2010 - binary_accuracy: 0.9480 - val_loss: 0.3902 - val_binary_accuracy: 0.8722\n",
      "Epoch 15/20\n",
      "25000/25000 [==============================] - 2s 94us/step - loss: 0.1978 - binary_accuracy: 0.9483 - val_loss: 0.4112 - val_binary_accuracy: 0.8698\n",
      "Epoch 16/20\n",
      "25000/25000 [==============================] - 3s 102us/step - loss: 0.1948 - binary_accuracy: 0.9495 - val_loss: 0.4190 - val_binary_accuracy: 0.8664\n",
      "Epoch 17/20\n",
      "25000/25000 [==============================] - 2s 98us/step - loss: 0.1902 - binary_accuracy: 0.9508 - val_loss: 0.4170 - val_binary_accuracy: 0.8672\n",
      "Epoch 18/20\n",
      "25000/25000 [==============================] - 2s 96us/step - loss: 0.1907 - binary_accuracy: 0.9515 - val_loss: 0.4367 - val_binary_accuracy: 0.8619\n",
      "Epoch 19/20\n",
      "25000/25000 [==============================] - 2s 95us/step - loss: 0.1912 - binary_accuracy: 0.9498 - val_loss: 0.4287 - val_binary_accuracy: 0.8656\n",
      "Epoch 20/20\n",
      "25000/25000 [==============================] - 3s 101us/step - loss: 0.1826 - binary_accuracy: 0.9555 - val_loss: 0.4748 - val_binary_accuracy: 0.8546\n"
     ]
    }
   ],
   "source": [
    "l2_model_hist = l2_model.fit(x_train, y_train,\n",
    "                             epochs=20,\n",
    "                             batch_size=512,\n",
    "                             validation_data=(x_test, y_test))"
   ]
  },
  {
   "cell_type": "code",
   "execution_count": 21,
   "metadata": {},
   "outputs": [
    {
     "data": {
      "image/png": "[encoded data removed]",
      "text/plain": [
       "<Figure size 432x288 with 1 Axes>"
      ]
     },
     "metadata": {
      "needs_background": "light"
     },
     "output_type": "display_data"
    }
   ],
   "source": [
    "l2_model_val_loss = l2_model_hist.history['val_loss']\n",
    "\n",
    "plt.plot(epochs, original_val_loss, 'b+', label='Original model')\n",
    "plt.plot(epochs, l2_model_val_loss, 'bo', label='L2-regularized model')\n",
    "plt.xlabel('Epochs')\n",
    "plt.ylabel('Validation loss')\n",
    "plt.legend()\n",
    "\n",
    "plt.show()"
   ]
  },
  {
   "cell_type": "markdown",
   "metadata": {},
   "source": [
    "- The model with L2 regularization (dots) has become much more resistant to overfitting than the reference model (crosses), even though both models have the same number of parameters."
   ]
  },
  {
   "cell_type": "code",
   "execution_count": 23,
   "metadata": {
    "scrolled": true
   },
   "outputs": [
    {
     "name": "stdout",
     "output_type": "stream",
     "text": [
      "Train on 25000 samples, validate on 25000 samples\n",
      "Epoch 1/20\n",
      "25000/25000 [==============================] - 3s 116us/step - loss: 0.9253 - binary_accuracy: 0.7770 - val_loss: 0.6969 - val_binary_accuracy: 0.8008\n",
      "Epoch 2/20\n",
      "25000/25000 [==============================] - 3s 105us/step - loss: 0.6268 - binary_accuracy: 0.8496 - val_loss: 0.6331 - val_binary_accuracy: 0.8232\n",
      "Epoch 3/20\n",
      "25000/25000 [==============================] - 2s 96us/step - loss: 0.5788 - binary_accuracy: 0.8566 - val_loss: 0.5789 - val_binary_accuracy: 0.8510\n",
      "Epoch 4/20\n",
      "25000/25000 [==============================] - 2s 95us/step - loss: 0.5568 - binary_accuracy: 0.8630 - val_loss: 0.5491 - val_binary_accuracy: 0.8631\n",
      "Epoch 5/20\n",
      "25000/25000 [==============================] - 3s 103us/step - loss: 0.5436 - binary_accuracy: 0.8646 - val_loss: 0.5498 - val_binary_accuracy: 0.8586\n",
      "Epoch 6/20\n",
      "25000/25000 [==============================] - 3s 103us/step - loss: 0.5303 - binary_accuracy: 0.8675 - val_loss: 0.5290 - val_binary_accuracy: 0.8663\n",
      "Epoch 7/20\n",
      "25000/25000 [==============================] - 2s 96us/step - loss: 0.5162 - binary_accuracy: 0.8710 - val_loss: 0.5507 - val_binary_accuracy: 0.8524\n",
      "Epoch 8/20\n",
      "25000/25000 [==============================] - 2s 96us/step - loss: 0.5134 - binary_accuracy: 0.8716 - val_loss: 0.5126 - val_binary_accuracy: 0.8712\n",
      "Epoch 9/20\n",
      "25000/25000 [==============================] - 3s 103us/step - loss: 0.5016 - binary_accuracy: 0.8747 - val_loss: 0.5467 - val_binary_accuracy: 0.8535\n",
      "Epoch 10/20\n",
      "25000/25000 [==============================] - 2s 96us/step - loss: 0.4977 - binary_accuracy: 0.8780 - val_loss: 0.4982 - val_binary_accuracy: 0.8743\n",
      "Epoch 11/20\n",
      "25000/25000 [==============================] - 2s 96us/step - loss: 0.4898 - binary_accuracy: 0.8785 - val_loss: 0.5147 - val_binary_accuracy: 0.8640\n",
      "Epoch 12/20\n",
      "25000/25000 [==============================] - 2s 98us/step - loss: 0.4848 - binary_accuracy: 0.8814 - val_loss: 0.4901 - val_binary_accuracy: 0.8761\n",
      "Epoch 13/20\n",
      "25000/25000 [==============================] - 2s 98us/step - loss: 0.4798 - binary_accuracy: 0.8816 - val_loss: 0.5069 - val_binary_accuracy: 0.8673\n",
      "Epoch 14/20\n",
      "25000/25000 [==============================] - 3s 103us/step - loss: 0.4696 - binary_accuracy: 0.8854 - val_loss: 0.5071 - val_binary_accuracy: 0.8646\n",
      "Epoch 15/20\n",
      "25000/25000 [==============================] - 2s 99us/step - loss: 0.4666 - binary_accuracy: 0.8873 - val_loss: 0.4822 - val_binary_accuracy: 0.8784\n",
      "Epoch 16/20\n",
      "25000/25000 [==============================] - 3s 104us/step - loss: 0.4658 - binary_accuracy: 0.8880 - val_loss: 0.4893 - val_binary_accuracy: 0.8752\n",
      "Epoch 17/20\n",
      "25000/25000 [==============================] - 3s 103us/step - loss: 0.4583 - binary_accuracy: 0.8890 - val_loss: 0.4812 - val_binary_accuracy: 0.8774\n",
      "Epoch 18/20\n",
      "25000/25000 [==============================] - 2s 97us/step - loss: 0.4561 - binary_accuracy: 0.8904 - val_loss: 0.4990 - val_binary_accuracy: 0.8678\n",
      "Epoch 19/20\n",
      "25000/25000 [==============================] - 2s 99us/step - loss: 0.4522 - binary_accuracy: 0.8929 - val_loss: 0.5043 - val_binary_accuracy: 0.8660\n",
      "Epoch 20/20\n",
      "25000/25000 [==============================] - 2s 98us/step - loss: 0.4472 - binary_accuracy: 0.8947 - val_loss: 0.5042 - val_binary_accuracy: 0.8654\n"
     ]
    }
   ],
   "source": [
    "l1_model = models.Sequential()\n",
    "l1_model.add(layers.Dense(16, kernel_regularizer=regularizers.l1(0.001),\n",
    "                          activation=tf.nn.relu,\n",
    "                          input_shape=(10000,)))\n",
    "l1_model.add(layers.Dense(16, kernel_regularizer=regularizers.l1(0.001),\n",
    "                          activation=tf.nn.relu))\n",
    "l1_model.add(layers.Dense(1, activation=tf.nn.sigmoid))\n",
    "\n",
    "l1_model.compile(optimizer=optimizers.RMSprop(lr=0.001),\n",
    "              loss=losses.binary_crossentropy,\n",
    "              metrics=[metrics.binary_accuracy])\n",
    "\n",
    "l1_model_hist = l1_model.fit(x_train, y_train,\n",
    "                             epochs=20,\n",
    "                             batch_size=512,\n",
    "                             validation_data=(x_test, y_test))"
   ]
  },
  {
   "cell_type": "code",
   "execution_count": 25,
   "metadata": {},
   "outputs": [
    {
     "data": {
      "image/png": "[encoded data removed]",
      "text/plain": [
       "<Figure size 432x288 with 1 Axes>"
      ]
     },
     "metadata": {
      "needs_background": "light"
     },
     "output_type": "display_data"
    }
   ],
   "source": [
    "l1_model_val_loss = l1_model_hist.history['val_loss']\n",
    "\n",
    "plt.plot(epochs, original_val_loss, 'b+', label='Original model')\n",
    "plt.plot(epochs, l1_model_val_loss, 'bo', label='L1-regularized model')\n",
    "plt.xlabel('Epochs')\n",
    "plt.ylabel('Validation loss')\n",
    "plt.legend()\n",
    "\n",
    "plt.show()"
   ]
  },
  {
   "cell_type": "code",
   "execution_count": 28,
   "metadata": {
    "scrolled": true
   },
   "outputs": [
    {
     "name": "stdout",
     "output_type": "stream",
     "text": [
      "Train on 25000 samples, validate on 25000 samples\n",
      "Epoch 1/20\n",
      "25000/25000 [==============================] - 3s 125us/step - loss: 0.9436 - binary_accuracy: 0.7750 - val_loss: 0.6892 - val_binary_accuracy: 0.8134\n",
      "Epoch 2/20\n",
      "25000/25000 [==============================] - 2s 99us/step - loss: 0.6413 - binary_accuracy: 0.8463 - val_loss: 0.6278 - val_binary_accuracy: 0.8522\n",
      "Epoch 3/20\n",
      "25000/25000 [==============================] - 3s 102us/step - loss: 0.5999 - binary_accuracy: 0.8586 - val_loss: 0.6274 - val_binary_accuracy: 0.8327\n",
      "Epoch 4/20\n",
      "25000/25000 [==============================] - 2s 100us/step - loss: 0.5828 - binary_accuracy: 0.8591 - val_loss: 0.5707 - val_binary_accuracy: 0.8664\n",
      "Epoch 5/20\n",
      "25000/25000 [==============================] - 3s 100us/step - loss: 0.5652 - binary_accuracy: 0.8650 - val_loss: 0.5579 - val_binary_accuracy: 0.8676\n",
      "Epoch 6/20\n",
      "25000/25000 [==============================] - 3s 101us/step - loss: 0.5547 - binary_accuracy: 0.8688 - val_loss: 0.5761 - val_binary_accuracy: 0.8527\n",
      "Epoch 7/20\n",
      "25000/25000 [==============================] - 3s 102us/step - loss: 0.5473 - binary_accuracy: 0.8698 - val_loss: 0.6039 - val_binary_accuracy: 0.8369\n",
      "Epoch 8/20\n",
      "25000/25000 [==============================] - 3s 101us/step - loss: 0.5380 - binary_accuracy: 0.8704 - val_loss: 0.5332 - val_binary_accuracy: 0.8715\n",
      "Epoch 9/20\n",
      "25000/25000 [==============================] - 3s 108us/step - loss: 0.5299 - binary_accuracy: 0.8746 - val_loss: 0.5326 - val_binary_accuracy: 0.8708\n",
      "Epoch 10/20\n",
      "25000/25000 [==============================] - 3s 104us/step - loss: 0.5237 - binary_accuracy: 0.8742 - val_loss: 0.5270 - val_binary_accuracy: 0.8740\n",
      "Epoch 11/20\n",
      "25000/25000 [==============================] - 3s 103us/step - loss: 0.5222 - binary_accuracy: 0.8758 - val_loss: 0.5350 - val_binary_accuracy: 0.8679\n",
      "Epoch 12/20\n",
      "25000/25000 [==============================] - 3s 102us/step - loss: 0.5126 - binary_accuracy: 0.8803 - val_loss: 0.5357 - val_binary_accuracy: 0.8674\n",
      "Epoch 13/20\n",
      "25000/25000 [==============================] - 3s 102us/step - loss: 0.5068 - binary_accuracy: 0.8821 - val_loss: 0.5195 - val_binary_accuracy: 0.8726\n",
      "Epoch 14/20\n",
      "25000/25000 [==============================] - 3s 103us/step - loss: 0.5066 - binary_accuracy: 0.8798 - val_loss: 0.5131 - val_binary_accuracy: 0.8759\n",
      "Epoch 15/20\n",
      "25000/25000 [==============================] - 3s 103us/step - loss: 0.5012 - binary_accuracy: 0.8819 - val_loss: 0.5193 - val_binary_accuracy: 0.8728\n",
      "Epoch 16/20\n",
      "25000/25000 [==============================] - 3s 103us/step - loss: 0.4990 - binary_accuracy: 0.8811 - val_loss: 0.5066 - val_binary_accuracy: 0.8769\n",
      "Epoch 17/20\n",
      "25000/25000 [==============================] - 3s 107us/step - loss: 0.4897 - binary_accuracy: 0.8878 - val_loss: 0.5178 - val_binary_accuracy: 0.8699\n",
      "Epoch 18/20\n",
      "25000/25000 [==============================] - 3s 100us/step - loss: 0.4863 - binary_accuracy: 0.8876 - val_loss: 0.4980 - val_binary_accuracy: 0.8806\n",
      "Epoch 19/20\n",
      "25000/25000 [==============================] - 3s 103us/step - loss: 0.4810 - binary_accuracy: 0.8876 - val_loss: 0.5162 - val_binary_accuracy: 0.8725\n",
      "Epoch 20/20\n",
      "25000/25000 [==============================] - 3s 103us/step - loss: 0.4763 - binary_accuracy: 0.8910 - val_loss: 0.5263 - val_binary_accuracy: 0.8671\n"
     ]
    }
   ],
   "source": [
    "l1_l2_model = models.Sequential()\n",
    "l1_l2_model.add(layers.Dense(16, kernel_regularizer=regularizers.l1_l2(l1=0.001, l2=0.001),\n",
    "                          activation=tf.nn.relu,\n",
    "                          input_shape=(10000,)))\n",
    "l1_l2_model.add(layers.Dense(16, kernel_regularizer=regularizers.l1_l2(l1=0.001, l2=0.001),\n",
    "                          activation=tf.nn.relu))\n",
    "l1_l2_model.add(layers.Dense(1, activation=tf.nn.sigmoid))\n",
    "\n",
    "l1_l2_model.compile(optimizer=optimizers.RMSprop(lr=0.001),\n",
    "              loss=losses.binary_crossentropy,\n",
    "              metrics=[metrics.binary_accuracy])\n",
    "\n",
    "l1_l2_model_hist = l1_l2_model.fit(x_train, y_train,\n",
    "                             epochs=20,\n",
    "                             batch_size=512,\n",
    "                             validation_data=(x_test, y_test))"
   ]
  },
  {
   "cell_type": "code",
   "execution_count": 29,
   "metadata": {},
   "outputs": [
    {
     "data": {
      "image/png": "[encoded data removed]",
      "text/plain": [
       "<Figure size 432x288 with 1 Axes>"
      ]
     },
     "metadata": {
      "needs_background": "light"
     },
     "output_type": "display_data"
    }
   ],
   "source": [
    "l1_l2_model_val_loss = l1_l2_model_hist.history['val_loss']\n",
    "\n",
    "plt.plot(epochs, original_val_loss, 'b+', label='Original model')\n",
    "plt.plot(epochs, l1_model_val_loss, 'bo', label='L1_L2-regularized model')\n",
    "plt.xlabel('Epochs')\n",
    "plt.ylabel('Validation loss')\n",
    "plt.legend()\n",
    "\n",
    "plt.show()"
   ]
  },
  {
   "cell_type": "code",
   "execution_count": null,
   "metadata": {},
   "outputs": [],
   "source": []
  }
 ],
 "metadata": {
  "kernelspec": {
   "display_name": "Python 3",
   "language": "python",
   "name": "python3"
  },
  "language_info": {
   "codemirror_mode": {
    "name": "ipython",
    "version": 3
   },
   "file_extension": ".py",
   "mimetype": "text/x-python",
   "name": "python",
   "nbconvert_exporter": "python",
   "pygments_lexer": "ipython3",
   "version": "3.6.7"
  }
 },
 "nbformat": 4,
 "nbformat_minor": 2
}
