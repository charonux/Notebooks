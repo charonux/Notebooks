{
 "cells": [
  {
   "cell_type": "code",
   "execution_count": 1,
   "metadata": {},
   "outputs": [],
   "source": [
    "import numpy as np"
   ]
  },
  {
   "cell_type": "code",
   "execution_count": 2,
   "metadata": {},
   "outputs": [],
   "source": [
    "# Sigmoid function\n",
    "def nonlin(x, deriv=False):\n",
    "    if deriv:\n",
    "        return x*(1 - x)\n",
    "    return 1/(1+np.exp(-x))"
   ]
  },
  {
   "cell_type": "code",
   "execution_count": 3,
   "metadata": {},
   "outputs": [],
   "source": [
    "# Input dataset\n",
    "X = np.array([[0, 0, 1],\n",
    "              [0, 1, 1],\n",
    "              [1, 0, 1],\n",
    "              [1, 1, 1]])\n",
    "\n",
    "# Labels dataset\n",
    "y = np.array([[0, 0, 1, 1]]).T"
   ]
  },
  {
   "cell_type": "code",
   "execution_count": 4,
   "metadata": {},
   "outputs": [],
   "source": [
    "# initialize weights with 0.5\n",
    "syn0 = np.array([[0.5, 0.5, 0.5]]).T"
   ]
  },
  {
   "cell_type": "code",
   "execution_count": 5,
   "metadata": {},
   "outputs": [],
   "source": [
    "for i in range(100):\n",
    "    # forward propagation\n",
    "    l0 = X\n",
    "    l0_sigmoid = np.dot(l0, syn0)\n",
    "    l1 = nonlin(l0_sigmoid)\n",
    "\n",
    "    # how much did we miss?\n",
    "    l1_error = y - l1\n",
    "\n",
    "    # multiply how much we missed by the\n",
    "    # slope of the sigmoid at the values in l1\n",
    "    l1_deriv_sigmoid = nonlin(l1,True)\n",
    "    l1_delta = l1_error * l1_deriv_sigmoid\n",
    "\n",
    "    # update weights\n",
    "    syn0 += np.dot(l0.T, l1_delta)"
   ]
  },
  {
   "cell_type": "code",
   "execution_count": 6,
   "metadata": {},
   "outputs": [
    {
     "name": "stdout",
     "output_type": "stream",
     "text": [
      "Input:\n",
      "[[0 0 1]\n",
      " [0 1 1]\n",
      " [1 0 1]\n",
      " [1 1 1]]\n",
      "Output After Training:\n",
      "[[0.11395525]\n",
      " [0.09107105]\n",
      " [0.92702319]\n",
      " [0.90822661]]\n",
      "Final Weights:\n",
      "[[ 4.60538482]\n",
      " [-0.24955452]\n",
      " [-2.05741984]]\n",
      "Predict [1 0 1] sample:\n",
      "[0.92743668]\n"
     ]
    }
   ],
   "source": [
    "print('Input:')\n",
    "print(X)\n",
    "print('Output After Training:')\n",
    "print(l1)\n",
    "print('Final Weights:')\n",
    "print(syn0)\n",
    "sample = np.array([1, 0, 1]).T\n",
    "print('Predict', sample, 'sample:')\n",
    "sample_dot_syn = np.dot(sample, syn0)\n",
    "predict = nonlin(sample_dot_syn)\n",
    "print(predict)"
   ]
  },
  {
   "cell_type": "code",
   "execution_count": null,
   "metadata": {},
   "outputs": [],
   "source": []
  }
 ],
 "metadata": {
  "kernelspec": {
   "display_name": "Python 3",
   "language": "python",
   "name": "python3"
  },
  "language_info": {
   "codemirror_mode": {
    "name": "ipython",
    "version": 3
   },
   "file_extension": ".py",
   "mimetype": "text/x-python",
   "name": "python",
   "nbconvert_exporter": "python",
   "pygments_lexer": "ipython3",
   "version": "3.6.7"
  }
 },
 "nbformat": 4,
 "nbformat_minor": 2
}
