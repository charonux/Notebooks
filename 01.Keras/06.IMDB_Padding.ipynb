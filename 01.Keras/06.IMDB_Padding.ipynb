{
 "cells": [
  {
   "cell_type": "code",
   "execution_count": 1,
   "metadata": {},
   "outputs": [],
   "source": [
    "import numpy as np\n",
    "import matplotlib.pyplot as plt\n",
    "import tensorflow as tf\n",
    "from tensorflow.keras.callbacks import TensorBoard\n",
    "from tensorflow.keras.datasets import imdb\n",
    "from tensorflow.keras import models\n",
    "from tensorflow.keras import layers\n",
    "from tensorflow.keras import optimizers\n",
    "from tensorflow.keras import losses\n",
    "from tensorflow.keras import metrics\n"
   ]
  },
  {
   "cell_type": "code",
   "execution_count": 2,
   "metadata": {},
   "outputs": [
    {
     "name": "stdout",
     "output_type": "stream",
     "text": [
      "1.12.0\n"
     ]
    }
   ],
   "source": [
    "print(tf.__version__)"
   ]
  },
  {
   "cell_type": "markdown",
   "metadata": {},
   "source": [
    "- Load the IMDB dataset"
   ]
  },
  {
   "cell_type": "code",
   "execution_count": 3,
   "metadata": {},
   "outputs": [],
   "source": [
    "(train_data, train_labels), (test_data, test_labels) = imdb.load_data(num_words=10000)"
   ]
  },
  {
   "cell_type": "markdown",
   "metadata": {},
   "source": [
    " - Data analysis"
   ]
  },
  {
   "cell_type": "code",
   "execution_count": 4,
   "metadata": {},
   "outputs": [
    {
     "name": "stdout",
     "output_type": "stream",
     "text": [
      "Training entries: 25000, - Data analysis labels: 25000\n"
     ]
    }
   ],
   "source": [
    "print(\"Training entries: {}, - Data analysis labels: {}\".format(len(train_data), len(train_labels)))"
   ]
  },
  {
   "cell_type": "code",
   "execution_count": 5,
   "metadata": {
    "scrolled": true
   },
   "outputs": [
    {
     "name": "stdout",
     "output_type": "stream",
     "text": [
      "[1, 14, 22, 16, 43, 530, 973, 1622, 1385, 65, 458, 4468, 66, 3941, 4, 173, 36, 256, 5, 25, 100, 43, 838, 112, 50, 670, 2, 9, 35, 480, 284, 5, 150, 4, 172, 112, 167, 2, 336, 385, 39, 4, 172, 4536, 1111, 17, 546, 38, 13, 447, 4, 192, 50, 16, 6, 147, 2025, 19, 14, 22, 4, 1920, 4613, 469, 4, 22, 71, 87, 12, 16, 43, 530, 38, 76, 15, 13, 1247, 4, 22, 17, 515, 17, 12, 16, 626, 18, 2, 5, 62, 386, 12, 8, 316, 8, 106, 5, 4, 2223, 5244, 16, 480, 66, 3785, 33, 4, 130, 12, 16, 38, 619, 5, 25, 124, 51, 36, 135, 48, 25, 1415, 33, 6, 22, 12, 215, 28, 77, 52, 5, 14, 407, 16, 82, 2, 8, 4, 107, 117, 5952, 15, 256, 4, 2, 7, 3766, 5, 723, 36, 71, 43, 530, 476, 26, 400, 317, 46, 7, 4, 2, 1029, 13, 104, 88, 4, 381, 15, 297, 98, 32, 2071, 56, 26, 141, 6, 194, 7486, 18, 4, 226, 22, 21, 134, 476, 26, 480, 5, 144, 30, 5535, 18, 51, 36, 28, 224, 92, 25, 104, 4, 226, 65, 16, 38, 1334, 88, 12, 16, 283, 5, 16, 4472, 113, 103, 32, 15, 16, 5345, 19, 178, 32]\n"
     ]
    }
   ],
   "source": [
    "print(train_data[0])"
   ]
  },
  {
   "cell_type": "code",
   "execution_count": 6,
   "metadata": {},
   "outputs": [
    {
     "data": {
      "text/plain": [
       "(218, 189)"
      ]
     },
     "execution_count": 6,
     "metadata": {},
     "output_type": "execute_result"
    }
   ],
   "source": [
    "len(train_data[0]), len(train_data[1])"
   ]
  },
  {
   "cell_type": "code",
   "execution_count": 7,
   "metadata": {},
   "outputs": [],
   "source": [
    "# Decode one review\n",
    "word_index = imdb.get_word_index()\n",
    "\n",
    "# The first indices are reserved\n",
    "word_index = {k:(v+3) for k,v in word_index.items()}\n",
    "word_index[\"<PAD>\"] = 0\n",
    "word_index[\"<START>\"] = 1\n",
    "word_index[\"<UNK>\"] = 2 # unknown\n",
    "word_index[\"<UNUSED>\"] = 3\n",
    "\n",
    "reverse_word_index = dict([(value, key) for (key, value) in word_index.items()])\n",
    "\n",
    "def decode_review(text):\n",
    "    return ' '.join([reverse_word_index.get(i, '?') for i in text])"
   ]
  },
  {
   "cell_type": "code",
   "execution_count": 8,
   "metadata": {},
   "outputs": [
    {
     "data": {
      "text/plain": [
       "\"<START> this film was just brilliant casting location scenery story direction everyone's really suited the part they played and you could just imagine being there robert <UNK> is an amazing actor and now the same being director <UNK> father came from the same scottish island as myself so i loved the fact there was a real connection with this film the witty remarks throughout the film were great it was just brilliant so much that i bought the film as soon as it was released for <UNK> and would recommend it to everyone to watch and the fly fishing was amazing really cried at the end it was so sad and you know what they say if you cry at a film it must have been good and this definitely was also <UNK> to the two little boy's that played the <UNK> of norman and paul they were just brilliant children are often left out of the <UNK> list i think because the stars that play them all grown up are such a big profile for the whole film but these children are amazing and should be praised for what they have done don't you think the whole story was so lovely because it was true and was someone's life after all that was shared with us all\""
      ]
     },
     "execution_count": 8,
     "metadata": {},
     "output_type": "execute_result"
    }
   ],
   "source": [
    "decode_review(train_data[0])"
   ]
  },
  {
   "cell_type": "markdown",
   "metadata": {},
   "source": [
    "- Preparing the data"
   ]
  },
  {
   "cell_type": "markdown",
   "metadata": {},
   "source": [
    "Pad the arrays so they all have the same length, then create an integer tensor of shape max_length * num_reviews. We can use an embedding layer capable of handling this shape as the first layer in our network."
   ]
  },
  {
   "cell_type": "code",
   "execution_count": 9,
   "metadata": {},
   "outputs": [],
   "source": [
    "train_data = tf.keras.preprocessing.sequence.pad_sequences(train_data,\n",
    "                                                          value=word_index[\"<PAD>\"],\n",
    "                                                          padding='post',\n",
    "                                                          maxlen=256)\n",
    "test_data = tf.keras.preprocessing.sequence.pad_sequences(test_data,\n",
    "                                                          value=word_index[\"<PAD>\"],\n",
    "                                                          padding='post',\n",
    "                                                          maxlen=256)"
   ]
  },
  {
   "cell_type": "code",
   "execution_count": 10,
   "metadata": {},
   "outputs": [
    {
     "data": {
      "text/plain": [
       "(256, 256)"
      ]
     },
     "execution_count": 10,
     "metadata": {},
     "output_type": "execute_result"
    }
   ],
   "source": [
    "len(train_data[0]), len(train_data[1])"
   ]
  },
  {
   "cell_type": "code",
   "execution_count": 11,
   "metadata": {},
   "outputs": [
    {
     "name": "stdout",
     "output_type": "stream",
     "text": [
      "[   1   14   22   16   43  530  973 1622 1385   65  458 4468   66 3941\n",
      "    4  173   36  256    5   25  100   43  838  112   50  670    2    9\n",
      "   35  480  284    5  150    4  172  112  167    2  336  385   39    4\n",
      "  172 4536 1111   17  546   38   13  447    4  192   50   16    6  147\n",
      " 2025   19   14   22    4 1920 4613  469    4   22   71   87   12   16\n",
      "   43  530   38   76   15   13 1247    4   22   17  515   17   12   16\n",
      "  626   18    2    5   62  386   12    8  316    8  106    5    4 2223\n",
      " 5244   16  480   66 3785   33    4  130   12   16   38  619    5   25\n",
      "  124   51   36  135   48   25 1415   33    6   22   12  215   28   77\n",
      "   52    5   14  407   16   82    2    8    4  107  117 5952   15  256\n",
      "    4    2    7 3766    5  723   36   71   43  530  476   26  400  317\n",
      "   46    7    4    2 1029   13  104   88    4  381   15  297   98   32\n",
      " 2071   56   26  141    6  194 7486   18    4  226   22   21  134  476\n",
      "   26  480    5  144   30 5535   18   51   36   28  224   92   25  104\n",
      "    4  226   65   16   38 1334   88   12   16  283    5   16 4472  113\n",
      "  103   32   15   16 5345   19  178   32    0    0    0    0    0    0\n",
      "    0    0    0    0    0    0    0    0    0    0    0    0    0    0\n",
      "    0    0    0    0    0    0    0    0    0    0    0    0    0    0\n",
      "    0    0    0    0]\n"
     ]
    }
   ],
   "source": [
    "print(train_data[0])"
   ]
  },
  {
   "cell_type": "markdown",
   "metadata": {},
   "source": [
    "- Build the model"
   ]
  },
  {
   "cell_type": "code",
   "execution_count": 12,
   "metadata": {},
   "outputs": [
    {
     "name": "stdout",
     "output_type": "stream",
     "text": [
      "_________________________________________________________________\n",
      "Layer (type)                 Output Shape              Param #   \n",
      "=================================================================\n",
      "embedding (Embedding)        (None, None, 16)          160000    \n",
      "_________________________________________________________________\n",
      "global_average_pooling1d (Gl (None, 16)                0         \n",
      "_________________________________________________________________\n",
      "dense (Dense)                (None, 16)                272       \n",
      "_________________________________________________________________\n",
      "dense_1 (Dense)              (None, 1)                 17        \n",
      "=================================================================\n",
      "Total params: 160,289\n",
      "Trainable params: 160,289\n",
      "Non-trainable params: 0\n",
      "_________________________________________________________________\n"
     ]
    }
   ],
   "source": [
    "# input shape is the vocabulary count used for the movie reviews (10,000 words)\n",
    "vocab_size = 10000\n",
    "\n",
    "model = models.Sequential()\n",
    "model.add(layers.Embedding(vocab_size, 16))\n",
    "model.add(layers.GlobalAveragePooling1D())\n",
    "model.add(layers.Dense(16, activation=tf.nn.relu))\n",
    "model.add(layers.Dense(1, activation=tf.nn.sigmoid))\n",
    "\n",
    "model.summary()\n",
    "tensorboard = TensorBoard(log_dir='/notebooks/99.logs')"
   ]
  },
  {
   "cell_type": "markdown",
   "metadata": {},
   "source": [
    "- Model compilation"
   ]
  },
  {
   "cell_type": "code",
   "execution_count": 13,
   "metadata": {},
   "outputs": [],
   "source": [
    "model.compile(optimizer=optimizers.Adam(),\n",
    "             loss=losses.binary_crossentropy,\n",
    "             metrics=[metrics.binary_accuracy])"
   ]
  },
  {
   "cell_type": "markdown",
   "metadata": {},
   "source": [
    "- Create a validation set"
   ]
  },
  {
   "cell_type": "code",
   "execution_count": 14,
   "metadata": {},
   "outputs": [],
   "source": [
    "x_val = train_data[:10000]\n",
    "partial_x_train = train_data[10000:]\n",
    "y_val = train_labels[:10000]\n",
    "partial_y_train = train_labels[10000:]"
   ]
  },
  {
   "cell_type": "markdown",
   "metadata": {},
   "source": [
    "- Train the model"
   ]
  },
  {
   "cell_type": "code",
   "execution_count": 15,
   "metadata": {
    "scrolled": true
   },
   "outputs": [
    {
     "name": "stderr",
     "output_type": "stream",
     "text": [
      "/usr/local/lib/python3.6/dist-packages/tensorflow/python/ops/gradients_impl.py:112: UserWarning: Converting sparse IndexedSlices to a dense Tensor of unknown shape. This may consume a large amount of memory.\n",
      "  \"Converting sparse IndexedSlices to a dense Tensor of unknown shape. \"\n"
     ]
    },
    {
     "name": "stdout",
     "output_type": "stream",
     "text": [
      "Train on 15000 samples, validate on 10000 samples\n",
      "Epoch 1/40\n",
      "15000/15000 [==============================] - 1s 41us/step - loss: 0.6919 - binary_accuracy: 0.6055 - val_loss: 0.6900 - val_binary_accuracy: 0.7143\n",
      "Epoch 2/40\n",
      "15000/15000 [==============================] - 0s 33us/step - loss: 0.6864 - binary_accuracy: 0.7437 - val_loss: 0.6822 - val_binary_accuracy: 0.7451\n",
      "Epoch 3/40\n",
      "15000/15000 [==============================] - 1s 33us/step - loss: 0.6746 - binary_accuracy: 0.7629 - val_loss: 0.6677 - val_binary_accuracy: 0.7538\n",
      "Epoch 4/40\n",
      "15000/15000 [==============================] - 0s 33us/step - loss: 0.6540 - binary_accuracy: 0.7651 - val_loss: 0.6445 - val_binary_accuracy: 0.7589\n",
      "Epoch 5/40\n",
      "15000/15000 [==============================] - 0s 33us/step - loss: 0.6221 - binary_accuracy: 0.7877 - val_loss: 0.6091 - val_binary_accuracy: 0.7809\n",
      "Epoch 6/40\n",
      "15000/15000 [==============================] - 0s 33us/step - loss: 0.5803 - binary_accuracy: 0.8067 - val_loss: 0.5685 - val_binary_accuracy: 0.7980\n",
      "Epoch 7/40\n",
      "15000/15000 [==============================] - 1s 34us/step - loss: 0.5336 - binary_accuracy: 0.8252 - val_loss: 0.5255 - val_binary_accuracy: 0.8157\n",
      "Epoch 8/40\n",
      "15000/15000 [==============================] - 0s 33us/step - loss: 0.4866 - binary_accuracy: 0.8422 - val_loss: 0.4843 - val_binary_accuracy: 0.8306\n",
      "Epoch 9/40\n",
      "15000/15000 [==============================] - 1s 34us/step - loss: 0.4434 - binary_accuracy: 0.8553 - val_loss: 0.4478 - val_binary_accuracy: 0.8409\n",
      "Epoch 10/40\n",
      "15000/15000 [==============================] - 0s 33us/step - loss: 0.4048 - binary_accuracy: 0.8699 - val_loss: 0.4172 - val_binary_accuracy: 0.8491\n",
      "Epoch 11/40\n",
      "15000/15000 [==============================] - 0s 33us/step - loss: 0.3724 - binary_accuracy: 0.8787 - val_loss: 0.3943 - val_binary_accuracy: 0.8540\n",
      "Epoch 12/40\n",
      "15000/15000 [==============================] - 1s 34us/step - loss: 0.3454 - binary_accuracy: 0.8857 - val_loss: 0.3716 - val_binary_accuracy: 0.8614\n",
      "Epoch 13/40\n",
      "15000/15000 [==============================] - 1s 34us/step - loss: 0.3210 - binary_accuracy: 0.8931 - val_loss: 0.3557 - val_binary_accuracy: 0.8658\n",
      "Epoch 14/40\n",
      "15000/15000 [==============================] - 0s 33us/step - loss: 0.3008 - binary_accuracy: 0.8983 - val_loss: 0.3416 - val_binary_accuracy: 0.8707\n",
      "Epoch 15/40\n",
      "15000/15000 [==============================] - 1s 33us/step - loss: 0.2834 - binary_accuracy: 0.9030 - val_loss: 0.3306 - val_binary_accuracy: 0.8724\n",
      "Epoch 16/40\n",
      "15000/15000 [==============================] - 0s 33us/step - loss: 0.2684 - binary_accuracy: 0.9061 - val_loss: 0.3216 - val_binary_accuracy: 0.8754\n",
      "Epoch 17/40\n",
      "15000/15000 [==============================] - 1s 34us/step - loss: 0.2540 - binary_accuracy: 0.9132 - val_loss: 0.3141 - val_binary_accuracy: 0.8769\n",
      "Epoch 18/40\n",
      "15000/15000 [==============================] - 0s 32us/step - loss: 0.2415 - binary_accuracy: 0.9181 - val_loss: 0.3078 - val_binary_accuracy: 0.8795\n",
      "Epoch 19/40\n",
      "15000/15000 [==============================] - 1s 34us/step - loss: 0.2299 - binary_accuracy: 0.9220 - val_loss: 0.3026 - val_binary_accuracy: 0.8805\n",
      "Epoch 20/40\n",
      "15000/15000 [==============================] - 0s 33us/step - loss: 0.2197 - binary_accuracy: 0.9243 - val_loss: 0.2984 - val_binary_accuracy: 0.8820\n",
      "Epoch 21/40\n",
      "15000/15000 [==============================] - 1s 33us/step - loss: 0.2098 - binary_accuracy: 0.9289 - val_loss: 0.2947 - val_binary_accuracy: 0.8826\n",
      "Epoch 22/40\n",
      "15000/15000 [==============================] - 0s 33us/step - loss: 0.2007 - binary_accuracy: 0.9314 - val_loss: 0.2922 - val_binary_accuracy: 0.8846\n",
      "Epoch 23/40\n",
      "15000/15000 [==============================] - 1s 34us/step - loss: 0.1924 - binary_accuracy: 0.9351 - val_loss: 0.2903 - val_binary_accuracy: 0.8839\n",
      "Epoch 24/40\n",
      "15000/15000 [==============================] - 0s 33us/step - loss: 0.1841 - binary_accuracy: 0.9395 - val_loss: 0.2878 - val_binary_accuracy: 0.8844\n",
      "Epoch 25/40\n",
      "15000/15000 [==============================] - 1s 34us/step - loss: 0.1767 - binary_accuracy: 0.9429 - val_loss: 0.2865 - val_binary_accuracy: 0.8851\n",
      "Epoch 26/40\n",
      "15000/15000 [==============================] - 1s 34us/step - loss: 0.1695 - binary_accuracy: 0.9452 - val_loss: 0.2860 - val_binary_accuracy: 0.8850\n",
      "Epoch 27/40\n",
      "15000/15000 [==============================] - 1s 34us/step - loss: 0.1633 - binary_accuracy: 0.9485 - val_loss: 0.2858 - val_binary_accuracy: 0.8858\n",
      "Epoch 28/40\n",
      "15000/15000 [==============================] - 1s 34us/step - loss: 0.1568 - binary_accuracy: 0.9510 - val_loss: 0.2851 - val_binary_accuracy: 0.8869\n",
      "Epoch 29/40\n",
      "15000/15000 [==============================] - 1s 34us/step - loss: 0.1509 - binary_accuracy: 0.9524 - val_loss: 0.2851 - val_binary_accuracy: 0.8867\n",
      "Epoch 30/40\n",
      "15000/15000 [==============================] - 1s 34us/step - loss: 0.1457 - binary_accuracy: 0.9553 - val_loss: 0.2858 - val_binary_accuracy: 0.8862\n",
      "Epoch 31/40\n",
      "15000/15000 [==============================] - 1s 34us/step - loss: 0.1395 - binary_accuracy: 0.9587 - val_loss: 0.2867 - val_binary_accuracy: 0.8859\n",
      "Epoch 32/40\n",
      "15000/15000 [==============================] - 1s 34us/step - loss: 0.1347 - binary_accuracy: 0.9605 - val_loss: 0.2880 - val_binary_accuracy: 0.8867\n",
      "Epoch 33/40\n",
      "15000/15000 [==============================] - 1s 34us/step - loss: 0.1292 - binary_accuracy: 0.9629 - val_loss: 0.2893 - val_binary_accuracy: 0.8868\n",
      "Epoch 34/40\n",
      "15000/15000 [==============================] - 1s 34us/step - loss: 0.1246 - binary_accuracy: 0.9647 - val_loss: 0.2909 - val_binary_accuracy: 0.8862\n",
      "Epoch 35/40\n",
      "15000/15000 [==============================] - 1s 34us/step - loss: 0.1204 - binary_accuracy: 0.9655 - val_loss: 0.2924 - val_binary_accuracy: 0.8859\n",
      "Epoch 36/40\n",
      "15000/15000 [==============================] - 1s 34us/step - loss: 0.1154 - binary_accuracy: 0.9679 - val_loss: 0.2947 - val_binary_accuracy: 0.8856\n",
      "Epoch 37/40\n",
      "15000/15000 [==============================] - 1s 34us/step - loss: 0.1114 - binary_accuracy: 0.9692 - val_loss: 0.2971 - val_binary_accuracy: 0.8855\n",
      "Epoch 38/40\n",
      "15000/15000 [==============================] - 1s 34us/step - loss: 0.1079 - binary_accuracy: 0.9697 - val_loss: 0.2992 - val_binary_accuracy: 0.8846\n",
      "Epoch 39/40\n",
      "15000/15000 [==============================] - 1s 34us/step - loss: 0.1034 - binary_accuracy: 0.9713 - val_loss: 0.3014 - val_binary_accuracy: 0.8846\n",
      "Epoch 40/40\n",
      "15000/15000 [==============================] - 0s 33us/step - loss: 0.0996 - binary_accuracy: 0.9731 - val_loss: 0.3041 - val_binary_accuracy: 0.8852\n"
     ]
    }
   ],
   "source": [
    "history = model.fit(partial_x_train,\n",
    "                    partial_y_train,\n",
    "                    epochs=40,\n",
    "                    batch_size=512,\n",
    "                    validation_data=(x_val, y_val),\n",
    "                    callbacks=[tensorboard])"
   ]
  },
  {
   "cell_type": "code",
   "execution_count": 16,
   "metadata": {},
   "outputs": [
    {
     "name": "stdout",
     "output_type": "stream",
     "text": [
      "25000/25000 [==============================] - 0s 19us/step\n",
      "['loss', 'binary_accuracy']\n",
      "[0.3236307553386688, 0.87312]\n"
     ]
    }
   ],
   "source": [
    "result = model.evaluate(test_data, test_labels)\n",
    "print(model.metrics_names)\n",
    "print(result)"
   ]
  },
  {
   "cell_type": "markdown",
   "metadata": {},
   "source": [
    "- Training logs"
   ]
  },
  {
   "cell_type": "code",
   "execution_count": 17,
   "metadata": {},
   "outputs": [
    {
     "name": "stdout",
     "output_type": "stream",
     "text": [
      "dict_keys(['val_loss', 'val_binary_accuracy', 'loss', 'binary_accuracy'])\n"
     ]
    }
   ],
   "source": [
    "history_dict = history.history\n",
    "print(history_dict.keys())"
   ]
  },
  {
   "cell_type": "markdown",
   "metadata": {},
   "source": [
    "- Create a graph of accuracy and loss over time"
   ]
  },
  {
   "cell_type": "code",
   "execution_count": 18,
   "metadata": {},
   "outputs": [
    {
     "data": {
      "image/png": "[encoded data removed]",
      "text/plain": [
       "<Figure size 432x288 with 1 Axes>"
      ]
     },
     "metadata": {
      "needs_background": "light"
     },
     "output_type": "display_data"
    }
   ],
   "source": [
    "loss_values = history_dict['loss']\n",
    "val_loss_values = history_dict['val_loss']\n",
    "epochs = range(1, len(history_dict['binary_accuracy']) + 1)\n",
    "\n",
    "plt.plot(epochs, loss_values, 'bo', label='Training loss')\n",
    "plt.plot(epochs, val_loss_values, 'b', label='Validation loss')\n",
    "plt.title('Training and validation loss')\n",
    "plt.xlabel('Epochs')\n",
    "plt.ylabel('Loss')\n",
    "plt.legend()\n",
    "plt.show()"
   ]
  },
  {
   "cell_type": "code",
   "execution_count": 19,
   "metadata": {},
   "outputs": [
    {
     "data": {
      "image/png": "[encoded data removed]",
      "text/plain": [
       "<Figure size 432x288 with 1 Axes>"
      ]
     },
     "metadata": {
      "needs_background": "light"
     },
     "output_type": "display_data"
    }
   ],
   "source": [
    "acc_values = history_dict['binary_accuracy']\n",
    "val_acc_values = history_dict['val_binary_accuracy']\n",
    "\n",
    "plt.clf()\n",
    "plt.plot(epochs, acc_values, 'bo', label='Training accuracy')\n",
    "plt.plot(epochs, val_acc_values, 'b', label='Validation accuracy')\n",
    "plt.title('Training and validation accuracy')\n",
    "plt.xlabel('Epochs')\n",
    "plt.ylabel('Accuracy')\n",
    "plt.legend()\n",
    "plt.show()"
   ]
  },
  {
   "cell_type": "markdown",
   "metadata": {},
   "source": [
    "- Generate predictions on new data"
   ]
  },
  {
   "cell_type": "code",
   "execution_count": 20,
   "metadata": {},
   "outputs": [],
   "source": [
    "# test against random words and biased review\n",
    "rand_review = np.random.randint(10000, size=256)\n",
    "biased_review = np.full(256, 530)\n",
    "test_data = np.append(test_data, [rand_review], axis=0)\n",
    "test_data = np.append(test_data, [biased_review], axis=0)\n",
    "predict = model.predict(test_data)"
   ]
  },
  {
   "cell_type": "code",
   "execution_count": 21,
   "metadata": {},
   "outputs": [
    {
     "name": "stdout",
     "output_type": "stream",
     "text": [
      "Random words: comments plant hollywood arrest cinema little jumping examples ajay name thought local argue wanting opportunities instinct ny politics wilderness audiences conquest talentless anything brides prove kaufman apartheid star martian dancer appeal scariest walter troubles mccoy allegory parts gus louise cheerful delicious core details thirties loses oppressive mirrors rochester ghost poetry frankie desert excitement results meet jessie neglected phenomenon hiding stealth gentlemen 700 follows tasks submit jedi documentaries correctly carradine gender assured sketch antonioni difference successful hiring mormon redeeming adventurous sketches heist waving jail bulk slept deputy returning intestines attack administration removed ostensibly slaves masterson chose cody peculiar superstar directorial track ear harold apparently anne 200 incorrect fades tries spoof visits trusted advice realm cheap snl disliked perspective bow idiot coop egypt controlled virtues psychotic notion grainy fog smaller darkly earnest lethal spoil cause pirate initially whiny banks disregard overlook almost eve irritating themes controlled suggested ended shop loyalty climate dubbing classy remade artistically documentaries wooden ice mutated fix she'd goodbye thereby lands errol porn wedding adequately miranda sylvia coffee stress newcomer tin talentless fur pivotal kong aesthetic francis bed subplots bones believer regain jane's owned recording obvious comfortable baker frenetic factor drift primary gestures marvin satan coop 1000 thrill strung darkly exclusively thick sammy elliott walker catches advantage checked fail derivative solid moore's virtual escape lukas square unable nasty purchase progression 2007 culminating lion shawn weapons form achieving research returning right device pitched artistry ensue respond ursula buff inhabitants eating hello stuart dislike justin barbra ben's that expressed prepare comprised gifted alicia sides values chavez chief\n"
     ]
    }
   ],
   "source": [
    "print('Random words:', decode_review(test_data[-2]))"
   ]
  },
  {
   "cell_type": "code",
   "execution_count": 22,
   "metadata": {},
   "outputs": [
    {
     "name": "stdout",
     "output_type": "stream",
     "text": [
      "Prediction: [0.74312097]\n"
     ]
    }
   ],
   "source": [
    "print('Prediction:', predict[-2])"
   ]
  },
  {
   "cell_type": "code",
   "execution_count": 23,
   "metadata": {},
   "outputs": [
    {
     "name": "stdout",
     "output_type": "stream",
     "text": [
      "Biased review: brilliant brilliant brilliant brilliant brilliant brilliant brilliant brilliant brilliant brilliant brilliant brilliant brilliant brilliant brilliant brilliant brilliant brilliant brilliant brilliant brilliant brilliant brilliant brilliant brilliant brilliant brilliant brilliant brilliant brilliant brilliant brilliant brilliant brilliant brilliant brilliant brilliant brilliant brilliant brilliant brilliant brilliant brilliant brilliant brilliant brilliant brilliant brilliant brilliant brilliant brilliant brilliant brilliant brilliant brilliant brilliant brilliant brilliant brilliant brilliant brilliant brilliant brilliant brilliant brilliant brilliant brilliant brilliant brilliant brilliant brilliant brilliant brilliant brilliant brilliant brilliant brilliant brilliant brilliant brilliant brilliant brilliant brilliant brilliant brilliant brilliant brilliant brilliant brilliant brilliant brilliant brilliant brilliant brilliant brilliant brilliant brilliant brilliant brilliant brilliant brilliant brilliant brilliant brilliant brilliant brilliant brilliant brilliant brilliant brilliant brilliant brilliant brilliant brilliant brilliant brilliant brilliant brilliant brilliant brilliant brilliant brilliant brilliant brilliant brilliant brilliant brilliant brilliant brilliant brilliant brilliant brilliant brilliant brilliant brilliant brilliant brilliant brilliant brilliant brilliant brilliant brilliant brilliant brilliant brilliant brilliant brilliant brilliant brilliant brilliant brilliant brilliant brilliant brilliant brilliant brilliant brilliant brilliant brilliant brilliant brilliant brilliant brilliant brilliant brilliant brilliant brilliant brilliant brilliant brilliant brilliant brilliant brilliant brilliant brilliant brilliant brilliant brilliant brilliant brilliant brilliant brilliant brilliant brilliant brilliant brilliant brilliant brilliant brilliant brilliant brilliant brilliant brilliant brilliant brilliant brilliant brilliant brilliant brilliant brilliant brilliant brilliant brilliant brilliant brilliant brilliant brilliant brilliant brilliant brilliant brilliant brilliant brilliant brilliant brilliant brilliant brilliant brilliant brilliant brilliant brilliant brilliant brilliant brilliant brilliant brilliant brilliant brilliant brilliant brilliant brilliant brilliant brilliant brilliant brilliant brilliant brilliant brilliant brilliant brilliant brilliant brilliant brilliant brilliant brilliant brilliant brilliant brilliant brilliant brilliant brilliant brilliant brilliant brilliant brilliant brilliant\n"
     ]
    }
   ],
   "source": [
    "print('Biased review:', decode_review(test_data[-1]))"
   ]
  },
  {
   "cell_type": "code",
   "execution_count": 24,
   "metadata": {},
   "outputs": [
    {
     "name": "stdout",
     "output_type": "stream",
     "text": [
      "Prediction: [1.]\n"
     ]
    }
   ],
   "source": [
    "print('Prediction:', predict[-1])"
   ]
  }
 ],
 "metadata": {
  "kernelspec": {
   "display_name": "Python 3",
   "language": "python",
   "name": "python3"
  },
  "language_info": {
   "codemirror_mode": {
    "name": "ipython",
    "version": 3
   },
   "file_extension": ".py",
   "mimetype": "text/x-python",
   "name": "python",
   "nbconvert_exporter": "python",
   "pygments_lexer": "ipython3",
   "version": "3.6.7"
  }
 },
 "nbformat": 4,
 "nbformat_minor": 2
}
