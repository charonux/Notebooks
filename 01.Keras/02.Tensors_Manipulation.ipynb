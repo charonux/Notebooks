{
 "cells": [
  {
   "cell_type": "code",
   "execution_count": 1,
   "metadata": {},
   "outputs": [],
   "source": [
    "from tensorflow.keras.datasets import mnist"
   ]
  },
  {
   "cell_type": "code",
   "execution_count": 2,
   "metadata": {},
   "outputs": [
    {
     "name": "stdout",
     "output_type": "stream",
     "text": [
      "MNIST train_images shape:\n",
      "(60000, 28, 28)\n"
     ]
    }
   ],
   "source": [
    "(train_images, train_labels), (test_images, test_labels) = mnist.load_data()\n",
    "\n",
    "print('MNIST train_images shape:')\n",
    "print(train_images.shape)"
   ]
  },
  {
   "cell_type": "raw",
   "metadata": {},
   "source": [
    "- Selecting specific elements in a tensor is called tensor slicing"
   ]
  },
  {
   "cell_type": "code",
   "execution_count": 3,
   "metadata": {},
   "outputs": [
    {
     "name": "stdout",
     "output_type": "stream",
     "text": [
      "Slice/select digits from 10 to 100:\n",
      "(90, 28, 28)\n"
     ]
    }
   ],
   "source": [
    "# Tensor Slicing\n",
    "print('Slice/select digits from 10 to 100:')\n",
    "my_slice = train_images[10:100]\n",
    "print(my_slice.shape)"
   ]
  },
  {
   "cell_type": "code",
   "execution_count": 4,
   "metadata": {},
   "outputs": [
    {
     "name": "stdout",
     "output_type": "stream",
     "text": [
      "Select 14 × 14 pixels in the bottom-right corner of all images:\n",
      "(60000, 14, 14)\n"
     ]
    }
   ],
   "source": [
    "print('Select 14 × 14 pixels in the bottom-right corner of all images:')\n",
    "my_slice = train_images[:, 14:, 14:]\n",
    "print(my_slice.shape)"
   ]
  },
  {
   "cell_type": "code",
   "execution_count": 5,
   "metadata": {},
   "outputs": [
    {
     "name": "stdout",
     "output_type": "stream",
     "text": [
      "Crop the images to patches of 14 × 14 pixels centered in the middle:\n",
      "(60000, 14, 14)\n"
     ]
    }
   ],
   "source": [
    "print('Crop the images to patches of 14 × 14 pixels centered in the middle:')\n",
    "my_slice = train_images[:, 7:-7, 7:-7]\n",
    "print(my_slice.shape)"
   ]
  },
  {
   "cell_type": "markdown",
   "metadata": {},
   "source": [
    " - The first axis of data tensors is samples axis\n",
    " - Models don’t process an entire dataset at once; rather, into small batches."
   ]
  },
  {
   "cell_type": "code",
   "execution_count": 6,
   "metadata": {},
   "outputs": [
    {
     "name": "stdout",
     "output_type": "stream",
     "text": [
      "First batch:\n",
      "(128, 28, 28)\n",
      "Second batch:\n",
      "(128, 28, 28)\n",
      "Last batch:\n",
      "(128, 28, 28)\n",
      "Entire dataset without last batch:\n",
      "(59872, 28, 28)\n"
     ]
    }
   ],
   "source": [
    "# Batches\n",
    "batch = train_images[:128]\n",
    "print('First batch:')\n",
    "print(batch.shape)\n",
    "batch = train_images[128:256]\n",
    "print('Second batch:')\n",
    "print(batch.shape)\n",
    "batch = train_images[:128]\n",
    "print('Last batch:')\n",
    "print(batch.shape)\n",
    "batch = train_images[:-128]\n",
    "print('Entire dataset without last batch:')\n",
    "print(batch.shape)"
   ]
  }
 ],
 "metadata": {
  "kernelspec": {
   "display_name": "Python 3",
   "language": "python",
   "name": "python3"
  },
  "language_info": {
   "codemirror_mode": {
    "name": "ipython",
    "version": 3
   },
   "file_extension": ".py",
   "mimetype": "text/x-python",
   "name": "python",
   "nbconvert_exporter": "python",
   "pygments_lexer": "ipython3",
   "version": "3.6.7"
  }
 },
 "nbformat": 4,
 "nbformat_minor": 2
}
