{
 "cells": [
  {
   "cell_type": "code",
   "execution_count": 20,
   "metadata": {},
   "outputs": [],
   "source": [
    "import tensorflow as tf\n",
    "import numpy as np\n",
    "import matplotlib.pyplot as plt\n",
    "from tensorflow.keras import models\n",
    "from tensorflow.keras import layers\n",
    "from tensorflow.keras import optimizers\n",
    "from tensorflow.keras import losses\n",
    "from tensorflow.keras import metrics\n",
    "from tensorflow.keras.preprocessing.image import ImageDataGenerator\n",
    "import os, shutil"
   ]
  },
  {
   "cell_type": "code",
   "execution_count": 11,
   "metadata": {},
   "outputs": [
    {
     "name": "stdout",
     "output_type": "stream",
     "text": [
      "1.12.0\n",
      "2.1.6-tf\n"
     ]
    }
   ],
   "source": [
    "print(tf.__version__)\n",
    "print(tf.keras.__version__)"
   ]
  },
  {
   "cell_type": "markdown",
   "metadata": {},
   "source": [
    "# Reduce and split the data"
   ]
  },
  {
   "cell_type": "code",
   "execution_count": 14,
   "metadata": {},
   "outputs": [],
   "source": [
    "# The path to the directory where the original\n",
    "# dataset was uncompressed\n",
    "original_dataset_dir = '/notebooks/98.data/kaggle_original_data'\n",
    "\n",
    "# The directory where we will\n",
    "# store our smaller dataset\n",
    "base_dir = '/notebooks/98.data/cats_and_dogs_small'\n",
    "os.mkdir(base_dir)\n",
    "\n",
    "# Directories for our training,\n",
    "# validation and test splits\n",
    "train_dir = os.path.join(base_dir, 'train')\n",
    "os.mkdir(train_dir)\n",
    "validation_dir = os.path.join(base_dir, 'validation')\n",
    "os.mkdir(validation_dir)\n",
    "test_dir = os.path.join(base_dir, 'test')\n",
    "os.mkdir(test_dir)\n",
    "\n",
    "# Directory with our training cat pictures\n",
    "train_cats_dir = os.path.join(train_dir, 'cats')\n",
    "os.mkdir(train_cats_dir)\n",
    "\n",
    "# Directory with our training dog pictures\n",
    "train_dogs_dir = os.path.join(train_dir, 'dogs')\n",
    "os.mkdir(train_dogs_dir)\n",
    "\n",
    "# Directory with our validation cat pictures\n",
    "validation_cats_dir = os.path.join(validation_dir, 'cats')\n",
    "os.mkdir(validation_cats_dir)\n",
    "\n",
    "# Directory with our validation dog pictures\n",
    "validation_dogs_dir = os.path.join(validation_dir, 'dogs')\n",
    "os.mkdir(validation_dogs_dir)\n",
    "\n",
    "# Directory with our validation cat pictures\n",
    "test_cats_dir = os.path.join(test_dir, 'cats')\n",
    "os.mkdir(test_cats_dir)\n",
    "\n",
    "# Directory with our validation dog pictures\n",
    "test_dogs_dir = os.path.join(test_dir, 'dogs')\n",
    "os.mkdir(test_dogs_dir)\n",
    "\n",
    "# Copy first 1000 cat images to train_cats_dir\n",
    "fnames = ['cat.{}.jpg'.format(i) for i in range(1000)]\n",
    "for fname in fnames:\n",
    "    src = os.path.join(original_dataset_dir, fname)\n",
    "    dst = os.path.join(train_cats_dir, fname)\n",
    "    shutil.copyfile(src, dst)\n",
    "\n",
    "# Copy next 500 cat images to validation_cats_dir\n",
    "fnames = ['cat.{}.jpg'.format(i) for i in range(1000, 1500)]\n",
    "for fname in fnames:\n",
    "    src = os.path.join(original_dataset_dir, fname)\n",
    "    dst = os.path.join(validation_cats_dir, fname)\n",
    "    shutil.copyfile(src, dst)\n",
    "    \n",
    "# Copy next 500 cat images to test_cats_dir\n",
    "fnames = ['cat.{}.jpg'.format(i) for i in range(1500, 2000)]\n",
    "for fname in fnames:\n",
    "    src = os.path.join(original_dataset_dir, fname)\n",
    "    dst = os.path.join(test_cats_dir, fname)\n",
    "    shutil.copyfile(src, dst)\n",
    "    \n",
    "# Copy first 1000 dog images to train_dogs_dir\n",
    "fnames = ['dog.{}.jpg'.format(i) for i in range(1000)]\n",
    "for fname in fnames:\n",
    "    src = os.path.join(original_dataset_dir, fname)\n",
    "    dst = os.path.join(train_dogs_dir, fname)\n",
    "    shutil.copyfile(src, dst)\n",
    "    \n",
    "# Copy next 500 dog images to validation_dogs_dir\n",
    "fnames = ['dog.{}.jpg'.format(i) for i in range(1000, 1500)]\n",
    "for fname in fnames:\n",
    "    src = os.path.join(original_dataset_dir, fname)\n",
    "    dst = os.path.join(validation_dogs_dir, fname)\n",
    "    shutil.copyfile(src, dst)\n",
    "    \n",
    "# Copy next 500 dog images to test_dogs_dir\n",
    "fnames = ['dog.{}.jpg'.format(i) for i in range(1500, 2000)]\n",
    "for fname in fnames:\n",
    "    src = os.path.join(original_dataset_dir, fname)\n",
    "    dst = os.path.join(test_dogs_dir, fname)\n",
    "    shutil.copyfile(src, dst)"
   ]
  },
  {
   "cell_type": "code",
   "execution_count": 15,
   "metadata": {},
   "outputs": [
    {
     "name": "stdout",
     "output_type": "stream",
     "text": [
      "total training cat images: 1000\n",
      "total training dog images: 1000\n",
      "total validation cat images: 500\n",
      "total validation dog images: 500\n",
      "total test cat images: 500\n",
      "total test dog images: 500\n"
     ]
    }
   ],
   "source": [
    "print('total training cat images:', len(os.listdir(train_cats_dir)))\n",
    "print('total training dog images:', len(os.listdir(train_dogs_dir)))\n",
    "print('total validation cat images:', len(os.listdir(validation_cats_dir)))\n",
    "print('total validation dog images:', len(os.listdir(validation_dogs_dir)))\n",
    "print('total test cat images:', len(os.listdir(test_cats_dir)))\n",
    "print('total test dog images:', len(os.listdir(test_dogs_dir)))"
   ]
  },
  {
   "cell_type": "markdown",
   "metadata": {},
   "source": [
    "# Build the model"
   ]
  },
  {
   "cell_type": "code",
   "execution_count": 16,
   "metadata": {},
   "outputs": [],
   "source": [
    "model = models.Sequential()\n",
    "model.add(layers.Conv2D(32, (3, 3), activation='relu',\n",
    "                        input_shape=(150, 150, 3)))\n",
    "model.add(layers.MaxPooling2D((2, 2)))\n",
    "model.add(layers.Conv2D(64, (3, 3), activation='relu'))\n",
    "model.add(layers.MaxPooling2D((2, 2)))\n",
    "model.add(layers.Conv2D(128, (3, 3), activation='relu'))\n",
    "model.add(layers.MaxPooling2D((2, 2)))\n",
    "model.add(layers.Conv2D(128, (3, 3), activation='relu'))\n",
    "model.add(layers.MaxPooling2D((2, 2)))\n",
    "model.add(layers.Flatten())\n",
    "model.add(layers.Dense(512, activation='relu'))\n",
    "model.add(layers.Dense(1, activation='sigmoid'))"
   ]
  },
  {
   "cell_type": "code",
   "execution_count": 17,
   "metadata": {},
   "outputs": [
    {
     "name": "stdout",
     "output_type": "stream",
     "text": [
      "_________________________________________________________________\n",
      "Layer (type)                 Output Shape              Param #   \n",
      "=================================================================\n",
      "conv2d (Conv2D)              (None, 148, 148, 32)      896       \n",
      "_________________________________________________________________\n",
      "max_pooling2d (MaxPooling2D) (None, 74, 74, 32)        0         \n",
      "_________________________________________________________________\n",
      "conv2d_1 (Conv2D)            (None, 72, 72, 64)        18496     \n",
      "_________________________________________________________________\n",
      "max_pooling2d_1 (MaxPooling2 (None, 36, 36, 64)        0         \n",
      "_________________________________________________________________\n",
      "conv2d_2 (Conv2D)            (None, 34, 34, 128)       73856     \n",
      "_________________________________________________________________\n",
      "max_pooling2d_2 (MaxPooling2 (None, 17, 17, 128)       0         \n",
      "_________________________________________________________________\n",
      "conv2d_3 (Conv2D)            (None, 15, 15, 128)       147584    \n",
      "_________________________________________________________________\n",
      "max_pooling2d_3 (MaxPooling2 (None, 7, 7, 128)         0         \n",
      "_________________________________________________________________\n",
      "flatten (Flatten)            (None, 6272)              0         \n",
      "_________________________________________________________________\n",
      "dense (Dense)                (None, 512)               3211776   \n",
      "_________________________________________________________________\n",
      "dense_1 (Dense)              (None, 1)                 513       \n",
      "=================================================================\n",
      "Total params: 3,453,121\n",
      "Trainable params: 3,453,121\n",
      "Non-trainable params: 0\n",
      "_________________________________________________________________\n"
     ]
    }
   ],
   "source": [
    "model.summary()"
   ]
  },
  {
   "cell_type": "markdown",
   "metadata": {},
   "source": [
    "# Model compilation"
   ]
  },
  {
   "cell_type": "code",
   "execution_count": 24,
   "metadata": {},
   "outputs": [],
   "source": [
    "model.compile(optimizer=optimizers.RMSprop(lr=1e-4),\n",
    "                loss=losses.binary_crossentropy,\n",
    "                metrics=[metrics.binary_accuracy])"
   ]
  },
  {
   "cell_type": "markdown",
   "metadata": {},
   "source": [
    "# Data preprocessing"
   ]
  },
  {
   "cell_type": "markdown",
   "metadata": {},
   "source": [
    "- 1 Read the picture files.\n",
    "- 2 Decode the JPEG content to RGB grids of pixels.\n",
    "- 3 Convert these into floating-point tensors.\n",
    "- 4 Rescale the pixel values (between 0 and 255) to the [0, 1] interval\n",
    "\n",
    "- Keras has a module with image-processing helper tools, the class ImageDataGenerator, which lets you quickly set up Python generators that can automatically turn image files on disk into batches of preprocessed tensors"
   ]
  },
  {
   "cell_type": "code",
   "execution_count": 21,
   "metadata": {},
   "outputs": [
    {
     "name": "stdout",
     "output_type": "stream",
     "text": [
      "Found 2000 images belonging to 2 classes.\n",
      "Found 1000 images belonging to 2 classes.\n"
     ]
    }
   ],
   "source": [
    "# All images will be rescaled by 1./255\n",
    "train_datagen = ImageDataGenerator(rescale=1./255)\n",
    "test_datagen = ImageDataGenerator(rescale=1./255)\n",
    "\n",
    "train_generator = train_datagen.flow_from_directory(\n",
    "        # This is the target directory\n",
    "        train_dir,\n",
    "        # All images will be resized to 150x150\n",
    "        target_size=(150, 150),\n",
    "        batch_size=20,\n",
    "        # Since we use binary_crossentropy loss, we need binary labels\n",
    "        class_mode='binary')\n",
    "\n",
    "validation_generator = test_datagen.flow_from_directory(\n",
    "        validation_dir,\n",
    "        target_size=(150, 150),\n",
    "        batch_size=20,\n",
    "        class_mode='binary')"
   ]
  },
  {
   "cell_type": "code",
   "execution_count": 22,
   "metadata": {},
   "outputs": [
    {
     "name": "stdout",
     "output_type": "stream",
     "text": [
      "data batch shape: (20, 150, 150, 3)\n",
      "labels batch shape: (20,)\n"
     ]
    }
   ],
   "source": [
    "for data_batch, labels_batch in train_generator:\n",
    "    print('data batch shape:', data_batch.shape)\n",
    "    print('labels batch shape:', labels_batch.shape)\n",
    "    break"
   ]
  },
  {
   "cell_type": "markdown",
   "metadata": {},
   "source": [
    "# Train the model"
   ]
  },
  {
   "cell_type": "code",
   "execution_count": 25,
   "metadata": {},
   "outputs": [
    {
     "name": "stdout",
     "output_type": "stream",
     "text": [
      "Epoch 1/30\n",
      "100/100 [==============================] - 84s 836ms/step - loss: 0.6885 - binary_accuracy: 0.5510 - val_loss: 0.6723 - val_binary_accuracy: 0.6020\n",
      "Epoch 2/30\n",
      "100/100 [==============================] - 83s 835ms/step - loss: 0.6605 - binary_accuracy: 0.6015 - val_loss: 0.6423 - val_binary_accuracy: 0.6440\n",
      "Epoch 3/30\n",
      "100/100 [==============================] - 84s 843ms/step - loss: 0.6050 - binary_accuracy: 0.6680 - val_loss: 0.6413 - val_binary_accuracy: 0.6410\n",
      "Epoch 4/30\n",
      "100/100 [==============================] - 84s 842ms/step - loss: 0.5675 - binary_accuracy: 0.7045 - val_loss: 0.6222 - val_binary_accuracy: 0.6550\n",
      "Epoch 5/30\n",
      "100/100 [==============================] - 85s 845ms/step - loss: 0.5382 - binary_accuracy: 0.7260 - val_loss: 0.5853 - val_binary_accuracy: 0.6900\n",
      "Epoch 6/30\n",
      "100/100 [==============================] - 85s 846ms/step - loss: 0.5126 - binary_accuracy: 0.7460 - val_loss: 0.5875 - val_binary_accuracy: 0.6820\n",
      "Epoch 7/30\n",
      "100/100 [==============================] - 84s 844ms/step - loss: 0.4793 - binary_accuracy: 0.7695 - val_loss: 0.5753 - val_binary_accuracy: 0.7020\n",
      "Epoch 8/30\n",
      "100/100 [==============================] - 84s 845ms/step - loss: 0.4514 - binary_accuracy: 0.7900 - val_loss: 0.5507 - val_binary_accuracy: 0.7250\n",
      "Epoch 9/30\n",
      "100/100 [==============================] - 85s 846ms/step - loss: 0.4251 - binary_accuracy: 0.8115 - val_loss: 0.5474 - val_binary_accuracy: 0.7170\n",
      "Epoch 10/30\n",
      "100/100 [==============================] - 85s 845ms/step - loss: 0.3971 - binary_accuracy: 0.8240 - val_loss: 0.6823 - val_binary_accuracy: 0.6790\n",
      "Epoch 11/30\n",
      "100/100 [==============================] - 85s 849ms/step - loss: 0.3728 - binary_accuracy: 0.8390 - val_loss: 0.5490 - val_binary_accuracy: 0.7250\n",
      "Epoch 12/30\n",
      "100/100 [==============================] - 85s 848ms/step - loss: 0.3469 - binary_accuracy: 0.8430 - val_loss: 0.5424 - val_binary_accuracy: 0.7410\n",
      "Epoch 13/30\n",
      "100/100 [==============================] - 85s 846ms/step - loss: 0.3246 - binary_accuracy: 0.8650 - val_loss: 0.5800 - val_binary_accuracy: 0.7280\n",
      "Epoch 14/30\n",
      "100/100 [==============================] - 85s 845ms/step - loss: 0.2945 - binary_accuracy: 0.8700 - val_loss: 0.6290 - val_binary_accuracy: 0.7260\n",
      "Epoch 15/30\n",
      "100/100 [==============================] - 85s 846ms/step - loss: 0.2756 - binary_accuracy: 0.8845 - val_loss: 0.5565 - val_binary_accuracy: 0.7510\n",
      "Epoch 16/30\n",
      "100/100 [==============================] - 84s 845ms/step - loss: 0.2591 - binary_accuracy: 0.8960 - val_loss: 0.5909 - val_binary_accuracy: 0.7360\n",
      "Epoch 17/30\n",
      "100/100 [==============================] - 84s 842ms/step - loss: 0.2343 - binary_accuracy: 0.9100 - val_loss: 0.5979 - val_binary_accuracy: 0.7270\n",
      "Epoch 18/30\n",
      "100/100 [==============================] - 84s 842ms/step - loss: 0.2064 - binary_accuracy: 0.9215 - val_loss: 0.6303 - val_binary_accuracy: 0.7370\n",
      "Epoch 19/30\n",
      "100/100 [==============================] - 85s 845ms/step - loss: 0.1855 - binary_accuracy: 0.9340 - val_loss: 0.6959 - val_binary_accuracy: 0.7300\n",
      "Epoch 20/30\n",
      "100/100 [==============================] - 84s 843ms/step - loss: 0.1683 - binary_accuracy: 0.9410 - val_loss: 0.7117 - val_binary_accuracy: 0.7230\n",
      "Epoch 21/30\n",
      "100/100 [==============================] - 84s 843ms/step - loss: 0.1509 - binary_accuracy: 0.9475 - val_loss: 0.6755 - val_binary_accuracy: 0.7330\n",
      "Epoch 22/30\n",
      "100/100 [==============================] - 84s 842ms/step - loss: 0.1366 - binary_accuracy: 0.9525 - val_loss: 0.7278 - val_binary_accuracy: 0.7220\n",
      "Epoch 23/30\n",
      "100/100 [==============================] - 84s 844ms/step - loss: 0.1171 - binary_accuracy: 0.9700 - val_loss: 0.7293 - val_binary_accuracy: 0.7330\n",
      "Epoch 24/30\n",
      "100/100 [==============================] - 84s 844ms/step - loss: 0.1000 - binary_accuracy: 0.9675 - val_loss: 0.7214 - val_binary_accuracy: 0.7350\n",
      "Epoch 25/30\n",
      "100/100 [==============================] - 85s 846ms/step - loss: 0.0832 - binary_accuracy: 0.9775 - val_loss: 0.8392 - val_binary_accuracy: 0.7360\n",
      "Epoch 26/30\n",
      "100/100 [==============================] - 85s 846ms/step - loss: 0.0701 - binary_accuracy: 0.9815 - val_loss: 0.8951 - val_binary_accuracy: 0.7310\n",
      "Epoch 27/30\n",
      "100/100 [==============================] - 84s 844ms/step - loss: 0.0626 - binary_accuracy: 0.9815 - val_loss: 0.8180 - val_binary_accuracy: 0.7380\n",
      "Epoch 28/30\n",
      "100/100 [==============================] - 84s 843ms/step - loss: 0.0590 - binary_accuracy: 0.9800 - val_loss: 0.8586 - val_binary_accuracy: 0.7420\n",
      "Epoch 29/30\n",
      "100/100 [==============================] - 84s 843ms/step - loss: 0.0412 - binary_accuracy: 0.9905 - val_loss: 0.9767 - val_binary_accuracy: 0.7350\n",
      "Epoch 30/30\n",
      "100/100 [==============================] - 84s 845ms/step - loss: 0.0381 - binary_accuracy: 0.9900 - val_loss: 1.2069 - val_binary_accuracy: 0.7080\n"
     ]
    }
   ],
   "source": [
    "history = model.fit_generator(\n",
    "      train_generator,\n",
    "      steps_per_epoch=100,\n",
    "      epochs=30,\n",
    "      validation_data=validation_generator,\n",
    "      validation_steps=50)"
   ]
  },
  {
   "cell_type": "code",
   "execution_count": 26,
   "metadata": {},
   "outputs": [],
   "source": [
    "model.save('cats_and_dogs_small_1.h5')"
   ]
  },
  {
   "cell_type": "code",
   "execution_count": 27,
   "metadata": {},
   "outputs": [
    {
     "name": "stdout",
     "output_type": "stream",
     "text": [
      "dict_keys(['val_loss', 'val_binary_accuracy', 'loss', 'binary_accuracy'])\n"
     ]
    }
   ],
   "source": [
    "history_dict = history.history\n",
    "print(history_dict.keys())"
   ]
  },
  {
   "cell_type": "code",
   "execution_count": 28,
   "metadata": {},
   "outputs": [
    {
     "data": {
      "image/png": "[encoded data removed]",
      "text/plain": [
       "<Figure size 432x288 with 1 Axes>"
      ]
     },
     "metadata": {
      "needs_background": "light"
     },
     "output_type": "display_data"
    },
    {
     "data": {
      "image/png": "[encoded data removed]",
      "text/plain": [
       "<Figure size 432x288 with 1 Axes>"
      ]
     },
     "metadata": {
      "needs_background": "light"
     },
     "output_type": "display_data"
    }
   ],
   "source": [
    "acc = history.history['binary_accuracy']\n",
    "val_acc = history.history['val_binary_accuracy']\n",
    "loss = history.history['loss']\n",
    "val_loss = history.history['val_loss']\n",
    "\n",
    "epochs = range(len(acc))\n",
    "\n",
    "plt.plot(epochs, acc, 'bo', label='Training acc')\n",
    "plt.plot(epochs, val_acc, 'b', label='Validation acc')\n",
    "plt.title('Training and validation accuracy')\n",
    "plt.legend()\n",
    "\n",
    "plt.figure()\n",
    "\n",
    "plt.plot(epochs, loss, 'bo', label='Training loss')\n",
    "plt.plot(epochs, val_loss, 'b', label='Validation loss')\n",
    "plt.title('Training and validation loss')\n",
    "plt.legend()\n",
    "\n",
    "plt.show()"
   ]
  },
  {
   "cell_type": "code",
   "execution_count": null,
   "metadata": {},
   "outputs": [],
   "source": []
  }
 ],
 "metadata": {
  "kernelspec": {
   "display_name": "Python 3",
   "language": "python",
   "name": "python3"
  },
  "language_info": {
   "codemirror_mode": {
    "name": "ipython",
    "version": 3
   },
   "file_extension": ".py",
   "mimetype": "text/x-python",
   "name": "python",
   "nbconvert_exporter": "python",
   "pygments_lexer": "ipython3",
   "version": "3.6.7"
  }
 },
 "nbformat": 4,
 "nbformat_minor": 2
}
