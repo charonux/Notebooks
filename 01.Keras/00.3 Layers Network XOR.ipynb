{
 "cells": [
  {
   "cell_type": "code",
   "execution_count": 1,
   "metadata": {},
   "outputs": [],
   "source": [
    "import numpy as np"
   ]
  },
  {
   "cell_type": "code",
   "execution_count": 2,
   "metadata": {},
   "outputs": [],
   "source": [
    "# Sigmoid function\n",
    "def nonlin(x, deriv=False):\n",
    "    if deriv:\n",
    "        return x*(1 - x)\n",
    "    return 1/(1+np.exp(-x))"
   ]
  },
  {
   "cell_type": "code",
   "execution_count": 3,
   "metadata": {},
   "outputs": [],
   "source": [
    "# Input dataset\n",
    "X = np.array([[0, 0],\n",
    "              [0, 1],\n",
    "              [1, 0],\n",
    "              [1, 1]])\n",
    "# Labels dataset\n",
    "y = np.array([[0], [1], [1], [0]])\n",
    "\n",
    "np.random.seed(1)\n",
    "# randomly initialize our weights with mean 0\n",
    "syn0 = 2 * np.random.random((2, 3)) - 1\n",
    "syn1 = 2 * np.random.random((3, 1)) - 1"
   ]
  },
  {
   "cell_type": "code",
   "execution_count": 4,
   "metadata": {},
   "outputs": [
    {
     "name": "stdout",
     "output_type": "stream",
     "text": [
      "[[-0.16595599  0.44064899 -0.99977125]\n",
      " [-0.39533485 -0.70648822 -0.81532281]]\n",
      "[[-0.62747958]\n",
      " [-0.30887855]\n",
      " [-0.20646505]]\n"
     ]
    }
   ],
   "source": [
    "print(syn0)\n",
    "print(syn1)"
   ]
  },
  {
   "cell_type": "code",
   "execution_count": 5,
   "metadata": {},
   "outputs": [
    {
     "name": "stdout",
     "output_type": "stream",
     "text": [
      "Forward pass 0 Error:0.4992921119953979\n",
      "Forward pass 150 Error:0.4771554081054314\n",
      "Forward pass 300 Error:0.38304617817018616\n",
      "Forward pass 450 Error:0.3173694219357399\n",
      "Forward pass 600 Error:0.25241172680853347\n",
      "Forward pass 750 Error:0.21993640499000577\n",
      "Forward pass 900 Error:0.2025032038308218\n",
      "Forward pass 1050 Error:0.1915963211253034\n",
      "Forward pass 1200 Error:0.18405081482700453\n",
      "Forward pass 1350 Error:0.17846998655902918\n"
     ]
    }
   ],
   "source": [
    "for j in range(1500):\n",
    "\n",
    "    # Feed forward through layers 0, 1, and 2\n",
    "    l0 = X\n",
    "    l1 = nonlin(np.dot(l0, syn0))\n",
    "    l2 = nonlin(np.dot(l1, syn1))\n",
    "\n",
    "    # how much did we miss the target value?\n",
    "    l2_error = y - l2\n",
    "\n",
    "    if (j % 150) == 0:\n",
    "        print('Forward pass' , j , 'Error:' + str(np.mean(np.abs(l2_error))))\n",
    "\n",
    "    # in what direction is the target value?\n",
    "    # were we really sure? if so, don't change too much.\n",
    "    l2_delta = l2_error * nonlin(l2, deriv=True)\n",
    "\n",
    "    # how much did each l1 value contribute to the l2 error\n",
    "    # (according to the weights)?\n",
    "    l1_error = l2_delta.dot(syn1.T)\n",
    "\n",
    "    # in what direction is the target l1?\n",
    "    # were we really sure? if so, don't change too much.\n",
    "    l1_delta = l1_error * nonlin(l1, deriv=True)\n",
    "\n",
    "    syn1 += l1.T.dot(l2_delta)\n",
    "    syn0 += l0.T.dot(l1_delta)"
   ]
  },
  {
   "cell_type": "code",
   "execution_count": 6,
   "metadata": {},
   "outputs": [
    {
     "name": "stdout",
     "output_type": "stream",
     "text": [
      "syn0\n",
      "[[-7.15687333  1.56550571 -5.18410514]\n",
      " [ 1.51471769 -7.24098189 -5.39567567]]\n",
      "syn1\n",
      "[[  3.36880838]\n",
      " [  3.36096492]\n",
      " [-12.01816063]]\n"
     ]
    }
   ],
   "source": [
    "print('syn0')\n",
    "print(syn0)\n",
    "print('syn1')\n",
    "print(syn1)"
   ]
  }
 ],
 "metadata": {
  "kernelspec": {
   "display_name": "Python 3",
   "language": "python",
   "name": "python3"
  },
  "language_info": {
   "codemirror_mode": {
    "name": "ipython",
    "version": 3
   },
   "file_extension": ".py",
   "mimetype": "text/x-python",
   "name": "python",
   "nbconvert_exporter": "python",
   "pygments_lexer": "ipython3",
   "version": "3.6.7"
  }
 },
 "nbformat": 4,
 "nbformat_minor": 2
}
